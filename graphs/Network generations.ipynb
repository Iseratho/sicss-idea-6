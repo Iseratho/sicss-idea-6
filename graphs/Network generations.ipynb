{
 "cells": [
  {
   "cell_type": "markdown",
   "id": "environmental-payment",
   "metadata": {
    "heading_collapsed": "true"
   },
   "source": [
    "# Trash"
   ]
  },
  {
   "cell_type": "code",
   "execution_count": 3,
   "id": "worse-polish",
   "metadata": {
    "collapsed": true,
    "execution": {
     "iopub.execute_input": "2022-07-26T07:44:53.888044Z",
     "iopub.status.busy": "2022-07-26T07:44:53.888044Z",
     "iopub.status.idle": "2022-07-26T07:44:54.201328Z",
     "shell.execute_reply": "2022-07-26T07:44:54.201328Z",
     "shell.execute_reply.started": "2022-07-26T07:44:53.888044Z"
    },
    "jupyter": {
     "outputs_hidden": true
    }
   },
   "outputs": [
    {
     "ename": "ParserError",
     "evalue": "Error tokenizing data. C error: Expected 174 fields in line 3231, saw 175\n",
     "output_type": "error",
     "traceback": [
      "\u001b[1;31m---------------------------------------------------------------------------\u001b[0m",
      "\u001b[1;31mParserError\u001b[0m                               Traceback (most recent call last)",
      "\u001b[1;32m<ipython-input-3-101c88c29a0f>\u001b[0m in \u001b[0;36m<module>\u001b[1;34m\u001b[0m\n\u001b[1;32m----> 1\u001b[1;33m \u001b[0mpols\u001b[0m \u001b[1;33m=\u001b[0m \u001b[0mpd\u001b[0m\u001b[1;33m.\u001b[0m\u001b[0mread_csv\u001b[0m\u001b[1;33m(\u001b[0m\u001b[1;34m'2020_member_info.csv'\u001b[0m\u001b[1;33m)\u001b[0m\u001b[1;33m\u001b[0m\u001b[1;33m\u001b[0m\u001b[0m\n\u001b[0m",
      "\u001b[1;32m~\\anaconda3\\lib\\site-packages\\pandas\\io\\parsers.py\u001b[0m in \u001b[0;36mread_csv\u001b[1;34m(filepath_or_buffer, sep, delimiter, header, names, index_col, usecols, squeeze, prefix, mangle_dupe_cols, dtype, engine, converters, true_values, false_values, skipinitialspace, skiprows, skipfooter, nrows, na_values, keep_default_na, na_filter, verbose, skip_blank_lines, parse_dates, infer_datetime_format, keep_date_col, date_parser, dayfirst, cache_dates, iterator, chunksize, compression, thousands, decimal, lineterminator, quotechar, quoting, doublequote, escapechar, comment, encoding, dialect, error_bad_lines, warn_bad_lines, delim_whitespace, low_memory, memory_map, float_precision, storage_options)\u001b[0m\n\u001b[0;32m    608\u001b[0m     \u001b[0mkwds\u001b[0m\u001b[1;33m.\u001b[0m\u001b[0mupdate\u001b[0m\u001b[1;33m(\u001b[0m\u001b[0mkwds_defaults\u001b[0m\u001b[1;33m)\u001b[0m\u001b[1;33m\u001b[0m\u001b[1;33m\u001b[0m\u001b[0m\n\u001b[0;32m    609\u001b[0m \u001b[1;33m\u001b[0m\u001b[0m\n\u001b[1;32m--> 610\u001b[1;33m     \u001b[1;32mreturn\u001b[0m \u001b[0m_read\u001b[0m\u001b[1;33m(\u001b[0m\u001b[0mfilepath_or_buffer\u001b[0m\u001b[1;33m,\u001b[0m \u001b[0mkwds\u001b[0m\u001b[1;33m)\u001b[0m\u001b[1;33m\u001b[0m\u001b[1;33m\u001b[0m\u001b[0m\n\u001b[0m\u001b[0;32m    611\u001b[0m \u001b[1;33m\u001b[0m\u001b[0m\n\u001b[0;32m    612\u001b[0m \u001b[1;33m\u001b[0m\u001b[0m\n",
      "\u001b[1;32m~\\anaconda3\\lib\\site-packages\\pandas\\io\\parsers.py\u001b[0m in \u001b[0;36m_read\u001b[1;34m(filepath_or_buffer, kwds)\u001b[0m\n\u001b[0;32m    466\u001b[0m \u001b[1;33m\u001b[0m\u001b[0m\n\u001b[0;32m    467\u001b[0m     \u001b[1;32mwith\u001b[0m \u001b[0mparser\u001b[0m\u001b[1;33m:\u001b[0m\u001b[1;33m\u001b[0m\u001b[1;33m\u001b[0m\u001b[0m\n\u001b[1;32m--> 468\u001b[1;33m         \u001b[1;32mreturn\u001b[0m \u001b[0mparser\u001b[0m\u001b[1;33m.\u001b[0m\u001b[0mread\u001b[0m\u001b[1;33m(\u001b[0m\u001b[0mnrows\u001b[0m\u001b[1;33m)\u001b[0m\u001b[1;33m\u001b[0m\u001b[1;33m\u001b[0m\u001b[0m\n\u001b[0m\u001b[0;32m    469\u001b[0m \u001b[1;33m\u001b[0m\u001b[0m\n\u001b[0;32m    470\u001b[0m \u001b[1;33m\u001b[0m\u001b[0m\n",
      "\u001b[1;32m~\\anaconda3\\lib\\site-packages\\pandas\\io\\parsers.py\u001b[0m in \u001b[0;36mread\u001b[1;34m(self, nrows)\u001b[0m\n\u001b[0;32m   1055\u001b[0m     \u001b[1;32mdef\u001b[0m \u001b[0mread\u001b[0m\u001b[1;33m(\u001b[0m\u001b[0mself\u001b[0m\u001b[1;33m,\u001b[0m \u001b[0mnrows\u001b[0m\u001b[1;33m=\u001b[0m\u001b[1;32mNone\u001b[0m\u001b[1;33m)\u001b[0m\u001b[1;33m:\u001b[0m\u001b[1;33m\u001b[0m\u001b[1;33m\u001b[0m\u001b[0m\n\u001b[0;32m   1056\u001b[0m         \u001b[0mnrows\u001b[0m \u001b[1;33m=\u001b[0m \u001b[0mvalidate_integer\u001b[0m\u001b[1;33m(\u001b[0m\u001b[1;34m\"nrows\"\u001b[0m\u001b[1;33m,\u001b[0m \u001b[0mnrows\u001b[0m\u001b[1;33m)\u001b[0m\u001b[1;33m\u001b[0m\u001b[1;33m\u001b[0m\u001b[0m\n\u001b[1;32m-> 1057\u001b[1;33m         \u001b[0mindex\u001b[0m\u001b[1;33m,\u001b[0m \u001b[0mcolumns\u001b[0m\u001b[1;33m,\u001b[0m \u001b[0mcol_dict\u001b[0m \u001b[1;33m=\u001b[0m \u001b[0mself\u001b[0m\u001b[1;33m.\u001b[0m\u001b[0m_engine\u001b[0m\u001b[1;33m.\u001b[0m\u001b[0mread\u001b[0m\u001b[1;33m(\u001b[0m\u001b[0mnrows\u001b[0m\u001b[1;33m)\u001b[0m\u001b[1;33m\u001b[0m\u001b[1;33m\u001b[0m\u001b[0m\n\u001b[0m\u001b[0;32m   1058\u001b[0m \u001b[1;33m\u001b[0m\u001b[0m\n\u001b[0;32m   1059\u001b[0m         \u001b[1;32mif\u001b[0m \u001b[0mindex\u001b[0m \u001b[1;32mis\u001b[0m \u001b[1;32mNone\u001b[0m\u001b[1;33m:\u001b[0m\u001b[1;33m\u001b[0m\u001b[1;33m\u001b[0m\u001b[0m\n",
      "\u001b[1;32m~\\anaconda3\\lib\\site-packages\\pandas\\io\\parsers.py\u001b[0m in \u001b[0;36mread\u001b[1;34m(self, nrows)\u001b[0m\n\u001b[0;32m   2059\u001b[0m     \u001b[1;32mdef\u001b[0m \u001b[0mread\u001b[0m\u001b[1;33m(\u001b[0m\u001b[0mself\u001b[0m\u001b[1;33m,\u001b[0m \u001b[0mnrows\u001b[0m\u001b[1;33m=\u001b[0m\u001b[1;32mNone\u001b[0m\u001b[1;33m)\u001b[0m\u001b[1;33m:\u001b[0m\u001b[1;33m\u001b[0m\u001b[1;33m\u001b[0m\u001b[0m\n\u001b[0;32m   2060\u001b[0m         \u001b[1;32mtry\u001b[0m\u001b[1;33m:\u001b[0m\u001b[1;33m\u001b[0m\u001b[1;33m\u001b[0m\u001b[0m\n\u001b[1;32m-> 2061\u001b[1;33m             \u001b[0mdata\u001b[0m \u001b[1;33m=\u001b[0m \u001b[0mself\u001b[0m\u001b[1;33m.\u001b[0m\u001b[0m_reader\u001b[0m\u001b[1;33m.\u001b[0m\u001b[0mread\u001b[0m\u001b[1;33m(\u001b[0m\u001b[0mnrows\u001b[0m\u001b[1;33m)\u001b[0m\u001b[1;33m\u001b[0m\u001b[1;33m\u001b[0m\u001b[0m\n\u001b[0m\u001b[0;32m   2062\u001b[0m         \u001b[1;32mexcept\u001b[0m \u001b[0mStopIteration\u001b[0m\u001b[1;33m:\u001b[0m\u001b[1;33m\u001b[0m\u001b[1;33m\u001b[0m\u001b[0m\n\u001b[0;32m   2063\u001b[0m             \u001b[1;32mif\u001b[0m \u001b[0mself\u001b[0m\u001b[1;33m.\u001b[0m\u001b[0m_first_chunk\u001b[0m\u001b[1;33m:\u001b[0m\u001b[1;33m\u001b[0m\u001b[1;33m\u001b[0m\u001b[0m\n",
      "\u001b[1;32mpandas\\_libs\\parsers.pyx\u001b[0m in \u001b[0;36mpandas._libs.parsers.TextReader.read\u001b[1;34m()\u001b[0m\n",
      "\u001b[1;32mpandas\\_libs\\parsers.pyx\u001b[0m in \u001b[0;36mpandas._libs.parsers.TextReader._read_low_memory\u001b[1;34m()\u001b[0m\n",
      "\u001b[1;32mpandas\\_libs\\parsers.pyx\u001b[0m in \u001b[0;36mpandas._libs.parsers.TextReader._read_rows\u001b[1;34m()\u001b[0m\n",
      "\u001b[1;32mpandas\\_libs\\parsers.pyx\u001b[0m in \u001b[0;36mpandas._libs.parsers.TextReader._tokenize_rows\u001b[1;34m()\u001b[0m\n",
      "\u001b[1;32mpandas\\_libs\\parsers.pyx\u001b[0m in \u001b[0;36mpandas._libs.parsers.raise_parser_error\u001b[1;34m()\u001b[0m\n",
      "\u001b[1;31mParserError\u001b[0m: Error tokenizing data. C error: Expected 174 fields in line 3231, saw 175\n"
     ]
    }
   ],
   "source": [
    "pols = pd.read_csv('2020_member_info.csv')"
   ]
  },
  {
   "cell_type": "code",
   "execution_count": 28,
   "id": "dirty-lithuania",
   "metadata": {
    "execution": {
     "iopub.execute_input": "2022-07-26T08:13:42.555316Z",
     "iopub.status.busy": "2022-07-26T08:13:42.555316Z",
     "iopub.status.idle": "2022-07-26T08:13:42.572333Z",
     "shell.execute_reply": "2022-07-26T08:13:42.571331Z",
     "shell.execute_reply.started": "2022-07-26T08:13:42.555316Z"
    }
   },
   "outputs": [],
   "source": [
    "import tweepy\n",
    "from AppCred import CONSUMER_KEY, CONSUMER_SECRET, ACCESS_TOKEN, ACCESS_TOKEN_SECRET\n",
    "\n",
    "auth = tweepy.OAuthHandler(CONSUMER_KEY, CONSUMER_SECRET)\n",
    "auth.set_access_token(ACCESS_TOKEN, ACCESS_TOKEN_SECRET)\n",
    "\n",
    "auth = tweepy.OAuthHandler(CONSUMER_KEY, CONSUMER_SECRET)\n",
    "auth.set_access_token(ACCESS_TOKEN, ACCESS_TOKEN_SECRET)\n",
    "api = tweepy.API(auth, wait_on_rate_limit=True, wait_on_rate_limit_notify=True)"
   ]
  },
  {
   "cell_type": "code",
   "execution_count": 29,
   "id": "innovative-relay",
   "metadata": {
    "execution": {
     "iopub.execute_input": "2022-07-26T08:13:44.065918Z",
     "iopub.status.busy": "2022-07-26T08:13:44.065918Z",
     "iopub.status.idle": "2022-07-26T08:13:59.791500Z",
     "shell.execute_reply": "2022-07-26T08:13:59.791500Z",
     "shell.execute_reply.started": "2022-07-26T08:13:44.065918Z"
    }
   },
   "outputs": [],
   "source": [
    "list_id = 1206514030912901120\n",
    "list_members = []\n",
    "\n",
    "for member in tweepy.Cursor(api.list_members, list_id=list_id).items():\n",
    "    list_members.append(member)"
   ]
  },
  {
   "cell_type": "code",
   "execution_count": null,
   "id": "little-charge",
   "metadata": {},
   "outputs": [],
   "source": [
    "pols = "
   ]
  },
  {
   "cell_type": "code",
   "execution_count": 37,
   "id": "necessary-kingdom",
   "metadata": {
    "collapsed": true,
    "execution": {
     "iopub.execute_input": "2022-07-26T08:25:14.974823Z",
     "iopub.status.busy": "2022-07-26T08:25:14.974823Z",
     "iopub.status.idle": "2022-07-26T08:25:14.992839Z",
     "shell.execute_reply": "2022-07-26T08:25:14.991838Z",
     "shell.execute_reply.started": "2022-07-26T08:25:14.974823Z"
    },
    "jupyter": {
     "outputs_hidden": true
    }
   },
   "outputs": [
    {
     "data": {
      "text/plain": [
       "User(_api=<tweepy.api.API object at 0x0000022B990CA9D0>, _json={'id': 1194759472087998465, 'id_str': '1194759472087998465', 'name': 'Robin Millar', 'screen_name': 'RobinMillarMP', 'location': 'Aberconwy', 'description': '#Conservative MP for #Aberconwy. For statements and local surgery details please see website. Any questions or casework please use robin.millar.mp@parliament.uk', 'url': 'https://t.co/OhN4kGQEP5', 'entities': {'url': {'urls': [{'url': 'https://t.co/OhN4kGQEP5', 'expanded_url': 'http://www.robin-millar.org.uk', 'display_url': 'robin-millar.org.uk', 'indices': [0, 23]}]}, 'description': {'urls': []}}, 'protected': False, 'followers_count': 4070, 'friends_count': 547, 'listed_count': 173, 'created_at': 'Wed Nov 13 23:30:55 +0000 2019', 'favourites_count': 649, 'utc_offset': None, 'time_zone': None, 'geo_enabled': False, 'verified': True, 'statuses_count': 3568, 'lang': None, 'status': {'created_at': 'Tue Jul 26 05:00:18 +0000 2022', 'id': 1551794518000893953, 'id_str': '1551794518000893953', 'text': 'RT @ProfFeynman: If our small minds, for some convenience, divide\\xa0this\\xa0universe, into parts — physics, biology, geology, astronomy, psychol…', 'truncated': False, 'entities': {'hashtags': [], 'symbols': [], 'user_mentions': [{'screen_name': 'ProfFeynman', 'name': 'Prof. Feynman', 'id': 823518894182846464, 'id_str': '823518894182846464', 'indices': [3, 15]}], 'urls': []}, 'source': '<a href=\"http://twitter.com/download/android\" rel=\"nofollow\">Twitter for Android</a>', 'in_reply_to_status_id': None, 'in_reply_to_status_id_str': None, 'in_reply_to_user_id': None, 'in_reply_to_user_id_str': None, 'in_reply_to_screen_name': None, 'geo': None, 'coordinates': None, 'place': None, 'contributors': None, 'retweeted_status': {'created_at': 'Mon Jul 25 13:49:07 +0000 2022', 'id': 1551565211366150144, 'id_str': '1551565211366150144', 'text': 'If our small minds, for some convenience, divide\\xa0this\\xa0universe, into parts — physics, biology, geology, astronomy,… https://t.co/AK7fRzXpVz', 'truncated': True, 'entities': {'hashtags': [], 'symbols': [], 'user_mentions': [], 'urls': [{'url': 'https://t.co/AK7fRzXpVz', 'expanded_url': 'https://twitter.com/i/web/status/1551565211366150144', 'display_url': 'twitter.com/i/web/status/1…', 'indices': [116, 139]}]}, 'source': '<a href=\"http://twitter.com/download/iphone\" rel=\"nofollow\">Twitter for iPhone</a>', 'in_reply_to_status_id': None, 'in_reply_to_status_id_str': None, 'in_reply_to_user_id': None, 'in_reply_to_user_id_str': None, 'in_reply_to_screen_name': None, 'geo': None, 'coordinates': None, 'place': None, 'contributors': None, 'is_quote_status': False, 'retweet_count': 1453, 'favorite_count': 7385, 'favorited': False, 'retweeted': False, 'lang': 'en'}, 'is_quote_status': False, 'retweet_count': 1453, 'favorite_count': 0, 'favorited': False, 'retweeted': False, 'lang': 'en'}, 'contributors_enabled': False, 'is_translator': False, 'is_translation_enabled': False, 'profile_background_color': 'F5F8FA', 'profile_background_image_url': None, 'profile_background_image_url_https': None, 'profile_background_tile': False, 'profile_image_url': 'http://pbs.twimg.com/profile_images/1194759918529765379/amYDBjdF_normal.jpg', 'profile_image_url_https': 'https://pbs.twimg.com/profile_images/1194759918529765379/amYDBjdF_normal.jpg', 'profile_banner_url': 'https://pbs.twimg.com/profile_banners/1194759472087998465/1581710363', 'profile_link_color': '1DA1F2', 'profile_sidebar_border_color': 'C0DEED', 'profile_sidebar_fill_color': 'DDEEF6', 'profile_text_color': '333333', 'profile_use_background_image': True, 'has_extended_profile': False, 'default_profile': True, 'default_profile_image': False, 'following': False, 'follow_request_sent': False, 'notifications': False, 'translator_type': 'none', 'withheld_in_countries': []}, id=1194759472087998465, id_str='1194759472087998465', name='Robin Millar', screen_name='RobinMillarMP', location='Aberconwy', description='#Conservative MP for #Aberconwy. For statements and local surgery details please see website. Any questions or casework please use robin.millar.mp@parliament.uk', url='https://t.co/OhN4kGQEP5', entities={'url': {'urls': [{'url': 'https://t.co/OhN4kGQEP5', 'expanded_url': 'http://www.robin-millar.org.uk', 'display_url': 'robin-millar.org.uk', 'indices': [0, 23]}]}, 'description': {'urls': []}}, protected=False, followers_count=4070, friends_count=547, listed_count=173, created_at=datetime.datetime(2019, 11, 13, 23, 30, 55), favourites_count=649, utc_offset=None, time_zone=None, geo_enabled=False, verified=True, statuses_count=3568, lang=None, status=Status(_api=<tweepy.api.API object at 0x0000022B990CA9D0>, _json={'created_at': 'Tue Jul 26 05:00:18 +0000 2022', 'id': 1551794518000893953, 'id_str': '1551794518000893953', 'text': 'RT @ProfFeynman: If our small minds, for some convenience, divide\\xa0this\\xa0universe, into parts — physics, biology, geology, astronomy, psychol…', 'truncated': False, 'entities': {'hashtags': [], 'symbols': [], 'user_mentions': [{'screen_name': 'ProfFeynman', 'name': 'Prof. Feynman', 'id': 823518894182846464, 'id_str': '823518894182846464', 'indices': [3, 15]}], 'urls': []}, 'source': '<a href=\"http://twitter.com/download/android\" rel=\"nofollow\">Twitter for Android</a>', 'in_reply_to_status_id': None, 'in_reply_to_status_id_str': None, 'in_reply_to_user_id': None, 'in_reply_to_user_id_str': None, 'in_reply_to_screen_name': None, 'geo': None, 'coordinates': None, 'place': None, 'contributors': None, 'retweeted_status': {'created_at': 'Mon Jul 25 13:49:07 +0000 2022', 'id': 1551565211366150144, 'id_str': '1551565211366150144', 'text': 'If our small minds, for some convenience, divide\\xa0this\\xa0universe, into parts — physics, biology, geology, astronomy,… https://t.co/AK7fRzXpVz', 'truncated': True, 'entities': {'hashtags': [], 'symbols': [], 'user_mentions': [], 'urls': [{'url': 'https://t.co/AK7fRzXpVz', 'expanded_url': 'https://twitter.com/i/web/status/1551565211366150144', 'display_url': 'twitter.com/i/web/status/1…', 'indices': [116, 139]}]}, 'source': '<a href=\"http://twitter.com/download/iphone\" rel=\"nofollow\">Twitter for iPhone</a>', 'in_reply_to_status_id': None, 'in_reply_to_status_id_str': None, 'in_reply_to_user_id': None, 'in_reply_to_user_id_str': None, 'in_reply_to_screen_name': None, 'geo': None, 'coordinates': None, 'place': None, 'contributors': None, 'is_quote_status': False, 'retweet_count': 1453, 'favorite_count': 7385, 'favorited': False, 'retweeted': False, 'lang': 'en'}, 'is_quote_status': False, 'retweet_count': 1453, 'favorite_count': 0, 'favorited': False, 'retweeted': False, 'lang': 'en'}, created_at=datetime.datetime(2022, 7, 26, 5, 0, 18), id=1551794518000893953, id_str='1551794518000893953', text='RT @ProfFeynman: If our small minds, for some convenience, divide\\xa0this\\xa0universe, into parts — physics, biology, geology, astronomy, psychol…', truncated=False, entities={'hashtags': [], 'symbols': [], 'user_mentions': [{'screen_name': 'ProfFeynman', 'name': 'Prof. Feynman', 'id': 823518894182846464, 'id_str': '823518894182846464', 'indices': [3, 15]}], 'urls': []}, source='Twitter for Android', source_url='http://twitter.com/download/android', in_reply_to_status_id=None, in_reply_to_status_id_str=None, in_reply_to_user_id=None, in_reply_to_user_id_str=None, in_reply_to_screen_name=None, geo=None, coordinates=None, place=None, contributors=None, retweeted_status=Status(_api=<tweepy.api.API object at 0x0000022B990CA9D0>, _json={'created_at': 'Mon Jul 25 13:49:07 +0000 2022', 'id': 1551565211366150144, 'id_str': '1551565211366150144', 'text': 'If our small minds, for some convenience, divide\\xa0this\\xa0universe, into parts — physics, biology, geology, astronomy,… https://t.co/AK7fRzXpVz', 'truncated': True, 'entities': {'hashtags': [], 'symbols': [], 'user_mentions': [], 'urls': [{'url': 'https://t.co/AK7fRzXpVz', 'expanded_url': 'https://twitter.com/i/web/status/1551565211366150144', 'display_url': 'twitter.com/i/web/status/1…', 'indices': [116, 139]}]}, 'source': '<a href=\"http://twitter.com/download/iphone\" rel=\"nofollow\">Twitter for iPhone</a>', 'in_reply_to_status_id': None, 'in_reply_to_status_id_str': None, 'in_reply_to_user_id': None, 'in_reply_to_user_id_str': None, 'in_reply_to_screen_name': None, 'geo': None, 'coordinates': None, 'place': None, 'contributors': None, 'is_quote_status': False, 'retweet_count': 1453, 'favorite_count': 7385, 'favorited': False, 'retweeted': False, 'lang': 'en'}, created_at=datetime.datetime(2022, 7, 25, 13, 49, 7), id=1551565211366150144, id_str='1551565211366150144', text='If our small minds, for some convenience, divide\\xa0this\\xa0universe, into parts — physics, biology, geology, astronomy,… https://t.co/AK7fRzXpVz', truncated=True, entities={'hashtags': [], 'symbols': [], 'user_mentions': [], 'urls': [{'url': 'https://t.co/AK7fRzXpVz', 'expanded_url': 'https://twitter.com/i/web/status/1551565211366150144', 'display_url': 'twitter.com/i/web/status/1…', 'indices': [116, 139]}]}, source='Twitter for iPhone', source_url='http://twitter.com/download/iphone', in_reply_to_status_id=None, in_reply_to_status_id_str=None, in_reply_to_user_id=None, in_reply_to_user_id_str=None, in_reply_to_screen_name=None, geo=None, coordinates=None, place=None, contributors=None, is_quote_status=False, retweet_count=1453, favorite_count=7385, favorited=False, retweeted=False, lang='en'), is_quote_status=False, retweet_count=1453, favorite_count=0, favorited=False, retweeted=False, lang='en'), contributors_enabled=False, is_translator=False, is_translation_enabled=False, profile_background_color='F5F8FA', profile_background_image_url=None, profile_background_image_url_https=None, profile_background_tile=False, profile_image_url='http://pbs.twimg.com/profile_images/1194759918529765379/amYDBjdF_normal.jpg', profile_image_url_https='https://pbs.twimg.com/profile_images/1194759918529765379/amYDBjdF_normal.jpg', profile_banner_url='https://pbs.twimg.com/profile_banners/1194759472087998465/1581710363', profile_link_color='1DA1F2', profile_sidebar_border_color='C0DEED', profile_sidebar_fill_color='DDEEF6', profile_text_color='333333', profile_use_background_image=True, has_extended_profile=False, default_profile=True, default_profile_image=False, following=False, follow_request_sent=False, notifications=False, translator_type='none', withheld_in_countries=[])"
      ]
     },
     "execution_count": 37,
     "metadata": {},
     "output_type": "execute_result"
    }
   ],
   "source": [
    "list_members[0]"
   ]
  },
  {
   "cell_type": "code",
   "execution_count": 40,
   "id": "north-friendship",
   "metadata": {
    "execution": {
     "iopub.execute_input": "2022-07-26T08:43:24.085689Z",
     "iopub.status.busy": "2022-07-26T08:43:24.085689Z",
     "iopub.status.idle": "2022-07-26T08:43:56.491700Z",
     "shell.execute_reply": "2022-07-26T08:43:56.491700Z",
     "shell.execute_reply.started": "2022-07-26T08:43:24.085689Z"
    }
   },
   "outputs": [],
   "source": [
    "pols = pd.read_excel('mps_uk_2020.xlsx')\n",
    "pols = pols[pols['country']=='United Kingdom']"
   ]
  },
  {
   "cell_type": "code",
   "execution_count": 45,
   "id": "twelve-assembly",
   "metadata": {
    "execution": {
     "iopub.execute_input": "2022-07-26T08:45:36.683653Z",
     "iopub.status.busy": "2022-07-26T08:45:36.683653Z",
     "iopub.status.idle": "2022-07-26T08:45:39.036794Z",
     "shell.execute_reply": "2022-07-26T08:45:39.036794Z",
     "shell.execute_reply.started": "2022-07-26T08:45:36.683653Z"
    }
   },
   "outputs": [],
   "source": [
    "pols.to_excel('mps_uk_2020_.xlsx')"
   ]
  },
  {
   "cell_type": "markdown",
   "id": "realistic-ticket",
   "metadata": {},
   "source": [
    "# Import data"
   ]
  },
  {
   "cell_type": "code",
   "execution_count": 1,
   "id": "southern-rough",
   "metadata": {
    "execution": {
     "iopub.execute_input": "2022-07-27T07:35:10.807603Z",
     "iopub.status.busy": "2022-07-27T07:35:10.807603Z",
     "iopub.status.idle": "2022-07-27T07:35:12.052973Z",
     "shell.execute_reply": "2022-07-27T07:35:12.052973Z",
     "shell.execute_reply.started": "2022-07-27T07:35:10.807603Z"
    }
   },
   "outputs": [],
   "source": [
    "import pandas as pd\n",
    "import re as re\n",
    "import networkx as nx"
   ]
  },
  {
   "cell_type": "code",
   "execution_count": 180,
   "id": "future-photography",
   "metadata": {
    "execution": {
     "iopub.execute_input": "2022-07-27T12:02:29.293610Z",
     "iopub.status.busy": "2022-07-27T12:02:29.293610Z",
     "iopub.status.idle": "2022-07-27T12:03:55.780345Z",
     "shell.execute_reply": "2022-07-27T12:03:55.779344Z",
     "shell.execute_reply.started": "2022-07-27T12:02:29.293610Z"
    }
   },
   "outputs": [
    {
     "data": {
      "text/html": [
       "<div>\n",
       "<style scoped>\n",
       "    .dataframe tbody tr th:only-of-type {\n",
       "        vertical-align: middle;\n",
       "    }\n",
       "\n",
       "    .dataframe tbody tr th {\n",
       "        vertical-align: top;\n",
       "    }\n",
       "\n",
       "    .dataframe thead th {\n",
       "        text-align: right;\n",
       "    }\n",
       "</style>\n",
       "<table border=\"1\" class=\"dataframe\">\n",
       "  <thead>\n",
       "    <tr style=\"text-align: right;\">\n",
       "      <th></th>\n",
       "      <th>text</th>\n",
       "      <th>public_metrics</th>\n",
       "      <th>in_reply_to_user_id</th>\n",
       "      <th>created_at</th>\n",
       "      <th>id</th>\n",
       "      <th>referenced_tweets</th>\n",
       "      <th>author_id</th>\n",
       "      <th>conversation_id</th>\n",
       "      <th>author</th>\n",
       "      <th>in_reply_to_user</th>\n",
       "      <th>__twarc</th>\n",
       "      <th>withheld</th>\n",
       "      <th>user</th>\n",
       "      <th>sentiment</th>\n",
       "    </tr>\n",
       "  </thead>\n",
       "  <tbody>\n",
       "    <tr>\n",
       "      <th>7362</th>\n",
       "      <td>@cj_dinenage @ChildrensComm @NHSEngland And au...</td>\n",
       "      <td>{'retweet_count': 6, 'reply_count': 3, 'like_c...</td>\n",
       "      <td>383238347</td>\n",
       "      <td>2019-10-10 13:20:38+00:00</td>\n",
       "      <td>1182284806446551041</td>\n",
       "      <td>[{'type': 'replied_to', 'id': '118228149622641...</td>\n",
       "      <td>269965177</td>\n",
       "      <td>1182281496226418688</td>\n",
       "      <td>{'profile_image_url': 'https://pbs.twimg.com/p...</td>\n",
       "      <td>{'profile_image_url': 'https://pbs.twimg.com/p...</td>\n",
       "      <td>{'url': 'https://api.twitter.com/2/tweets/sear...</td>\n",
       "      <td>NaN</td>\n",
       "      <td>TwittleyJules</td>\n",
       "      <td>Negative</td>\n",
       "    </tr>\n",
       "    <tr>\n",
       "      <th>7005</th>\n",
       "      <td>@cj_dinenage @ChildrensComm @NHSEngland And au...</td>\n",
       "      <td>{'retweet_count': 6, 'reply_count': 3, 'like_c...</td>\n",
       "      <td>383238347</td>\n",
       "      <td>2019-10-10 13:20:38+00:00</td>\n",
       "      <td>1182284806446551041</td>\n",
       "      <td>[{'type': 'replied_to', 'id': '118228149622641...</td>\n",
       "      <td>269965177</td>\n",
       "      <td>1182281496226418688</td>\n",
       "      <td>{'description': 'Mother of sons, writer of stu...</td>\n",
       "      <td>{'description': 'Gosport MP, mum, wife. RT ≠ e...</td>\n",
       "      <td>{'url': 'https://api.twitter.com/2/tweets/sear...</td>\n",
       "      <td>NaN</td>\n",
       "      <td>TwittleyJules</td>\n",
       "      <td>Negative</td>\n",
       "    </tr>\n",
       "    <tr>\n",
       "      <th>7361</th>\n",
       "      <td>@TwittleyJules @cj_dinenage @ChildrensComm @NH...</td>\n",
       "      <td>{'retweet_count': 8, 'reply_count': 3, 'like_c...</td>\n",
       "      <td>269965177</td>\n",
       "      <td>2019-10-10 13:38:36+00:00</td>\n",
       "      <td>1182289327113621506</td>\n",
       "      <td>[{'type': 'replied_to', 'id': '118228480644655...</td>\n",
       "      <td>331178901</td>\n",
       "      <td>1182281496226418688</td>\n",
       "      <td>{'profile_image_url': 'https://pbs.twimg.com/p...</td>\n",
       "      <td>{'profile_image_url': 'https://pbs.twimg.com/p...</td>\n",
       "      <td>{'url': 'https://api.twitter.com/2/tweets/sear...</td>\n",
       "      <td>NaN</td>\n",
       "      <td>KeeleyMP</td>\n",
       "      <td>Negative</td>\n",
       "    </tr>\n",
       "    <tr>\n",
       "      <th>7004</th>\n",
       "      <td>@TwittleyJules @cj_dinenage @ChildrensComm @NH...</td>\n",
       "      <td>{'retweet_count': 8, 'reply_count': 3, 'like_c...</td>\n",
       "      <td>269965177</td>\n",
       "      <td>2019-10-10 13:38:36+00:00</td>\n",
       "      <td>1182289327113621506</td>\n",
       "      <td>[{'type': 'replied_to', 'id': '118228480644655...</td>\n",
       "      <td>331178901</td>\n",
       "      <td>1182281496226418688</td>\n",
       "      <td>{'description': 'Labour MP for Worsley &amp; Eccle...</td>\n",
       "      <td>{'description': 'Mother of sons, writer of stu...</td>\n",
       "      <td>{'url': 'https://api.twitter.com/2/tweets/sear...</td>\n",
       "      <td>NaN</td>\n",
       "      <td>KeeleyMP</td>\n",
       "      <td>Negative</td>\n",
       "    </tr>\n",
       "    <tr>\n",
       "      <th>7360</th>\n",
       "      <td>@TwittleyJules @cj_dinenage @ChildrensComm @NH...</td>\n",
       "      <td>{'retweet_count': 0, 'reply_count': 0, 'like_c...</td>\n",
       "      <td>269965177</td>\n",
       "      <td>2019-10-10 13:41:21+00:00</td>\n",
       "      <td>1182290019698008068</td>\n",
       "      <td>[{'type': 'replied_to', 'id': '118228480644655...</td>\n",
       "      <td>1095754783191896064</td>\n",
       "      <td>1182281496226418688</td>\n",
       "      <td>{'profile_image_url': 'https://pbs.twimg.com/p...</td>\n",
       "      <td>{'profile_image_url': 'https://pbs.twimg.com/p...</td>\n",
       "      <td>{'url': 'https://api.twitter.com/2/tweets/sear...</td>\n",
       "      <td>NaN</td>\n",
       "      <td>AutismMH</td>\n",
       "      <td>Neutral</td>\n",
       "    </tr>\n",
       "  </tbody>\n",
       "</table>\n",
       "</div>"
      ],
      "text/plain": [
       "                                                   text  \\\n",
       "7362  @cj_dinenage @ChildrensComm @NHSEngland And au...   \n",
       "7005  @cj_dinenage @ChildrensComm @NHSEngland And au...   \n",
       "7361  @TwittleyJules @cj_dinenage @ChildrensComm @NH...   \n",
       "7004  @TwittleyJules @cj_dinenage @ChildrensComm @NH...   \n",
       "7360  @TwittleyJules @cj_dinenage @ChildrensComm @NH...   \n",
       "\n",
       "                                         public_metrics  in_reply_to_user_id  \\\n",
       "7362  {'retweet_count': 6, 'reply_count': 3, 'like_c...            383238347   \n",
       "7005  {'retweet_count': 6, 'reply_count': 3, 'like_c...            383238347   \n",
       "7361  {'retweet_count': 8, 'reply_count': 3, 'like_c...            269965177   \n",
       "7004  {'retweet_count': 8, 'reply_count': 3, 'like_c...            269965177   \n",
       "7360  {'retweet_count': 0, 'reply_count': 0, 'like_c...            269965177   \n",
       "\n",
       "                    created_at                   id  \\\n",
       "7362 2019-10-10 13:20:38+00:00  1182284806446551041   \n",
       "7005 2019-10-10 13:20:38+00:00  1182284806446551041   \n",
       "7361 2019-10-10 13:38:36+00:00  1182289327113621506   \n",
       "7004 2019-10-10 13:38:36+00:00  1182289327113621506   \n",
       "7360 2019-10-10 13:41:21+00:00  1182290019698008068   \n",
       "\n",
       "                                      referenced_tweets            author_id  \\\n",
       "7362  [{'type': 'replied_to', 'id': '118228149622641...            269965177   \n",
       "7005  [{'type': 'replied_to', 'id': '118228149622641...            269965177   \n",
       "7361  [{'type': 'replied_to', 'id': '118228480644655...            331178901   \n",
       "7004  [{'type': 'replied_to', 'id': '118228480644655...            331178901   \n",
       "7360  [{'type': 'replied_to', 'id': '118228480644655...  1095754783191896064   \n",
       "\n",
       "          conversation_id                                             author  \\\n",
       "7362  1182281496226418688  {'profile_image_url': 'https://pbs.twimg.com/p...   \n",
       "7005  1182281496226418688  {'description': 'Mother of sons, writer of stu...   \n",
       "7361  1182281496226418688  {'profile_image_url': 'https://pbs.twimg.com/p...   \n",
       "7004  1182281496226418688  {'description': 'Labour MP for Worsley & Eccle...   \n",
       "7360  1182281496226418688  {'profile_image_url': 'https://pbs.twimg.com/p...   \n",
       "\n",
       "                                       in_reply_to_user  \\\n",
       "7362  {'profile_image_url': 'https://pbs.twimg.com/p...   \n",
       "7005  {'description': 'Gosport MP, mum, wife. RT ≠ e...   \n",
       "7361  {'profile_image_url': 'https://pbs.twimg.com/p...   \n",
       "7004  {'description': 'Mother of sons, writer of stu...   \n",
       "7360  {'profile_image_url': 'https://pbs.twimg.com/p...   \n",
       "\n",
       "                                                __twarc withheld  \\\n",
       "7362  {'url': 'https://api.twitter.com/2/tweets/sear...      NaN   \n",
       "7005  {'url': 'https://api.twitter.com/2/tweets/sear...      NaN   \n",
       "7361  {'url': 'https://api.twitter.com/2/tweets/sear...      NaN   \n",
       "7004  {'url': 'https://api.twitter.com/2/tweets/sear...      NaN   \n",
       "7360  {'url': 'https://api.twitter.com/2/tweets/sear...      NaN   \n",
       "\n",
       "               user sentiment  \n",
       "7362  TwittleyJules  Negative  \n",
       "7005  TwittleyJules  Negative  \n",
       "7361       KeeleyMP  Negative  \n",
       "7004       KeeleyMP  Negative  \n",
       "7360       AutismMH   Neutral  "
      ]
     },
     "execution_count": 180,
     "metadata": {},
     "output_type": "execute_result"
    }
   ],
   "source": [
    "#tweets = pd.read_json('tweets_flat.json', lines=True, convert_dates=True)\n",
    "tweets = pd.read_json('conversations_flat.json', lines=True, convert_dates=True, dtype={'id':'str'})\n",
    "tweets = tweets.drop(['entities', 'reply_settings', 'source', 'possibly_sensitive', 'lang', 'context_annotations', 'attachments', 'geo'], axis=1)\n",
    "\n",
    "authors = tweets['author'].to_list()\n",
    "usernames = []\n",
    "for user in range(len(authors)):\n",
    "    usernames.append(tweets['author'][user]['username'])\n",
    "tweets['user'] = usernames\n",
    "\n",
    "df_sen = pd.read_csv('tweet_sentiment.csv', dtype={'id':'str'})\n",
    "df_sen = df_sen.sort_values(by=['id'])\n",
    "tweets = tweets.sort_values(by=['id'])\n",
    "sen = df_sen['sentiment'].tolist()\n",
    "tweets['sentiment'] = sen\n",
    "\n",
    "tweets.head()"
   ]
  },
  {
   "cell_type": "code",
   "execution_count": 184,
   "id": "consecutive-seeker",
   "metadata": {
    "execution": {
     "iopub.execute_input": "2022-07-27T12:04:21.212844Z",
     "iopub.status.busy": "2022-07-27T12:04:21.212844Z",
     "iopub.status.idle": "2022-07-27T12:04:21.374991Z",
     "shell.execute_reply": "2022-07-27T12:04:21.374991Z",
     "shell.execute_reply.started": "2022-07-27T12:04:21.212844Z"
    }
   },
   "outputs": [],
   "source": [
    "before = tweets[tweets[\"created_at\"] <= \"2020-01-01 00:00:00+00:00\"]\n",
    "first_wave = tweets[tweets[\"created_at\"].between(\"2020-01-21 00:00:00+00:00\", \"2020-09-01 00:00:00+00:00\")]\n",
    "after_first = tweets[tweets[\"created_at\"] >= \"2020-09-01 00:00:00+00:00\"]"
   ]
  },
  {
   "cell_type": "code",
   "execution_count": 185,
   "id": "generic-angle",
   "metadata": {
    "execution": {
     "iopub.execute_input": "2022-07-27T12:04:23.448027Z",
     "iopub.status.busy": "2022-07-27T12:04:23.448027Z",
     "iopub.status.idle": "2022-07-27T12:04:23.664223Z",
     "shell.execute_reply": "2022-07-27T12:04:23.663223Z",
     "shell.execute_reply.started": "2022-07-27T12:04:23.448027Z"
    }
   },
   "outputs": [
    {
     "data": {
      "text/html": [
       "<div>\n",
       "<style scoped>\n",
       "    .dataframe tbody tr th:only-of-type {\n",
       "        vertical-align: middle;\n",
       "    }\n",
       "\n",
       "    .dataframe tbody tr th {\n",
       "        vertical-align: top;\n",
       "    }\n",
       "\n",
       "    .dataframe thead th {\n",
       "        text-align: right;\n",
       "    }\n",
       "</style>\n",
       "<table border=\"1\" class=\"dataframe\">\n",
       "  <thead>\n",
       "    <tr style=\"text-align: right;\">\n",
       "      <th></th>\n",
       "      <th>text</th>\n",
       "      <th>public_metrics</th>\n",
       "      <th>in_reply_to_user_id</th>\n",
       "      <th>created_at</th>\n",
       "      <th>id</th>\n",
       "      <th>referenced_tweets</th>\n",
       "      <th>author_id</th>\n",
       "      <th>conversation_id</th>\n",
       "      <th>author</th>\n",
       "      <th>in_reply_to_user</th>\n",
       "      <th>__twarc</th>\n",
       "      <th>withheld</th>\n",
       "      <th>user</th>\n",
       "      <th>sentiment</th>\n",
       "      <th>mention</th>\n",
       "    </tr>\n",
       "  </thead>\n",
       "  <tbody>\n",
       "    <tr>\n",
       "      <th>7362</th>\n",
       "      <td>@cj_dinenage @ChildrensComm @NHSEngland And au...</td>\n",
       "      <td>{'retweet_count': 6, 'reply_count': 3, 'like_c...</td>\n",
       "      <td>383238347</td>\n",
       "      <td>2019-10-10 13:20:38+00:00</td>\n",
       "      <td>1182284806446551041</td>\n",
       "      <td>[{'type': 'replied_to', 'id': '118228149622641...</td>\n",
       "      <td>269965177</td>\n",
       "      <td>1182281496226418688</td>\n",
       "      <td>{'profile_image_url': 'https://pbs.twimg.com/p...</td>\n",
       "      <td>{'profile_image_url': 'https://pbs.twimg.com/p...</td>\n",
       "      <td>{'url': 'https://api.twitter.com/2/tweets/sear...</td>\n",
       "      <td>NaN</td>\n",
       "      <td>TwittleyJules</td>\n",
       "      <td>-1</td>\n",
       "      <td>cj_dinenage, ChildrensComm, NHSEngland</td>\n",
       "    </tr>\n",
       "    <tr>\n",
       "      <th>7005</th>\n",
       "      <td>@cj_dinenage @ChildrensComm @NHSEngland And au...</td>\n",
       "      <td>{'retweet_count': 6, 'reply_count': 3, 'like_c...</td>\n",
       "      <td>383238347</td>\n",
       "      <td>2019-10-10 13:20:38+00:00</td>\n",
       "      <td>1182284806446551041</td>\n",
       "      <td>[{'type': 'replied_to', 'id': '118228149622641...</td>\n",
       "      <td>269965177</td>\n",
       "      <td>1182281496226418688</td>\n",
       "      <td>{'description': 'Mother of sons, writer of stu...</td>\n",
       "      <td>{'description': 'Gosport MP, mum, wife. RT ≠ e...</td>\n",
       "      <td>{'url': 'https://api.twitter.com/2/tweets/sear...</td>\n",
       "      <td>NaN</td>\n",
       "      <td>TwittleyJules</td>\n",
       "      <td>-1</td>\n",
       "      <td>cj_dinenage, ChildrensComm, NHSEngland</td>\n",
       "    </tr>\n",
       "    <tr>\n",
       "      <th>7361</th>\n",
       "      <td>@TwittleyJules @cj_dinenage @ChildrensComm @NH...</td>\n",
       "      <td>{'retweet_count': 8, 'reply_count': 3, 'like_c...</td>\n",
       "      <td>269965177</td>\n",
       "      <td>2019-10-10 13:38:36+00:00</td>\n",
       "      <td>1182289327113621506</td>\n",
       "      <td>[{'type': 'replied_to', 'id': '118228480644655...</td>\n",
       "      <td>331178901</td>\n",
       "      <td>1182281496226418688</td>\n",
       "      <td>{'profile_image_url': 'https://pbs.twimg.com/p...</td>\n",
       "      <td>{'profile_image_url': 'https://pbs.twimg.com/p...</td>\n",
       "      <td>{'url': 'https://api.twitter.com/2/tweets/sear...</td>\n",
       "      <td>NaN</td>\n",
       "      <td>KeeleyMP</td>\n",
       "      <td>-1</td>\n",
       "      <td>TwittleyJules, cj_dinenage, ChildrensComm, NHS...</td>\n",
       "    </tr>\n",
       "    <tr>\n",
       "      <th>7004</th>\n",
       "      <td>@TwittleyJules @cj_dinenage @ChildrensComm @NH...</td>\n",
       "      <td>{'retweet_count': 8, 'reply_count': 3, 'like_c...</td>\n",
       "      <td>269965177</td>\n",
       "      <td>2019-10-10 13:38:36+00:00</td>\n",
       "      <td>1182289327113621506</td>\n",
       "      <td>[{'type': 'replied_to', 'id': '118228480644655...</td>\n",
       "      <td>331178901</td>\n",
       "      <td>1182281496226418688</td>\n",
       "      <td>{'description': 'Labour MP for Worsley &amp; Eccle...</td>\n",
       "      <td>{'description': 'Mother of sons, writer of stu...</td>\n",
       "      <td>{'url': 'https://api.twitter.com/2/tweets/sear...</td>\n",
       "      <td>NaN</td>\n",
       "      <td>KeeleyMP</td>\n",
       "      <td>-1</td>\n",
       "      <td>TwittleyJules, cj_dinenage, ChildrensComm, NHS...</td>\n",
       "    </tr>\n",
       "    <tr>\n",
       "      <th>7360</th>\n",
       "      <td>@TwittleyJules @cj_dinenage @ChildrensComm @NH...</td>\n",
       "      <td>{'retweet_count': 0, 'reply_count': 0, 'like_c...</td>\n",
       "      <td>269965177</td>\n",
       "      <td>2019-10-10 13:41:21+00:00</td>\n",
       "      <td>1182290019698008068</td>\n",
       "      <td>[{'type': 'replied_to', 'id': '118228480644655...</td>\n",
       "      <td>1095754783191896064</td>\n",
       "      <td>1182281496226418688</td>\n",
       "      <td>{'profile_image_url': 'https://pbs.twimg.com/p...</td>\n",
       "      <td>{'profile_image_url': 'https://pbs.twimg.com/p...</td>\n",
       "      <td>{'url': 'https://api.twitter.com/2/tweets/sear...</td>\n",
       "      <td>NaN</td>\n",
       "      <td>AutismMH</td>\n",
       "      <td>0</td>\n",
       "      <td>TwittleyJules, cj_dinenage, ChildrensComm, NHS...</td>\n",
       "    </tr>\n",
       "  </tbody>\n",
       "</table>\n",
       "</div>"
      ],
      "text/plain": [
       "                                                   text  \\\n",
       "7362  @cj_dinenage @ChildrensComm @NHSEngland And au...   \n",
       "7005  @cj_dinenage @ChildrensComm @NHSEngland And au...   \n",
       "7361  @TwittleyJules @cj_dinenage @ChildrensComm @NH...   \n",
       "7004  @TwittleyJules @cj_dinenage @ChildrensComm @NH...   \n",
       "7360  @TwittleyJules @cj_dinenage @ChildrensComm @NH...   \n",
       "\n",
       "                                         public_metrics  in_reply_to_user_id  \\\n",
       "7362  {'retweet_count': 6, 'reply_count': 3, 'like_c...            383238347   \n",
       "7005  {'retweet_count': 6, 'reply_count': 3, 'like_c...            383238347   \n",
       "7361  {'retweet_count': 8, 'reply_count': 3, 'like_c...            269965177   \n",
       "7004  {'retweet_count': 8, 'reply_count': 3, 'like_c...            269965177   \n",
       "7360  {'retweet_count': 0, 'reply_count': 0, 'like_c...            269965177   \n",
       "\n",
       "                    created_at                   id  \\\n",
       "7362 2019-10-10 13:20:38+00:00  1182284806446551041   \n",
       "7005 2019-10-10 13:20:38+00:00  1182284806446551041   \n",
       "7361 2019-10-10 13:38:36+00:00  1182289327113621506   \n",
       "7004 2019-10-10 13:38:36+00:00  1182289327113621506   \n",
       "7360 2019-10-10 13:41:21+00:00  1182290019698008068   \n",
       "\n",
       "                                      referenced_tweets            author_id  \\\n",
       "7362  [{'type': 'replied_to', 'id': '118228149622641...            269965177   \n",
       "7005  [{'type': 'replied_to', 'id': '118228149622641...            269965177   \n",
       "7361  [{'type': 'replied_to', 'id': '118228480644655...            331178901   \n",
       "7004  [{'type': 'replied_to', 'id': '118228480644655...            331178901   \n",
       "7360  [{'type': 'replied_to', 'id': '118228480644655...  1095754783191896064   \n",
       "\n",
       "          conversation_id                                             author  \\\n",
       "7362  1182281496226418688  {'profile_image_url': 'https://pbs.twimg.com/p...   \n",
       "7005  1182281496226418688  {'description': 'Mother of sons, writer of stu...   \n",
       "7361  1182281496226418688  {'profile_image_url': 'https://pbs.twimg.com/p...   \n",
       "7004  1182281496226418688  {'description': 'Labour MP for Worsley & Eccle...   \n",
       "7360  1182281496226418688  {'profile_image_url': 'https://pbs.twimg.com/p...   \n",
       "\n",
       "                                       in_reply_to_user  \\\n",
       "7362  {'profile_image_url': 'https://pbs.twimg.com/p...   \n",
       "7005  {'description': 'Gosport MP, mum, wife. RT ≠ e...   \n",
       "7361  {'profile_image_url': 'https://pbs.twimg.com/p...   \n",
       "7004  {'description': 'Mother of sons, writer of stu...   \n",
       "7360  {'profile_image_url': 'https://pbs.twimg.com/p...   \n",
       "\n",
       "                                                __twarc withheld  \\\n",
       "7362  {'url': 'https://api.twitter.com/2/tweets/sear...      NaN   \n",
       "7005  {'url': 'https://api.twitter.com/2/tweets/sear...      NaN   \n",
       "7361  {'url': 'https://api.twitter.com/2/tweets/sear...      NaN   \n",
       "7004  {'url': 'https://api.twitter.com/2/tweets/sear...      NaN   \n",
       "7360  {'url': 'https://api.twitter.com/2/tweets/sear...      NaN   \n",
       "\n",
       "               user  sentiment  \\\n",
       "7362  TwittleyJules         -1   \n",
       "7005  TwittleyJules         -1   \n",
       "7361       KeeleyMP         -1   \n",
       "7004       KeeleyMP         -1   \n",
       "7360       AutismMH          0   \n",
       "\n",
       "                                                mention  \n",
       "7362             cj_dinenage, ChildrensComm, NHSEngland  \n",
       "7005             cj_dinenage, ChildrensComm, NHSEngland  \n",
       "7361  TwittleyJules, cj_dinenage, ChildrensComm, NHS...  \n",
       "7004  TwittleyJules, cj_dinenage, ChildrensComm, NHS...  \n",
       "7360  TwittleyJules, cj_dinenage, ChildrensComm, NHS...  "
      ]
     },
     "execution_count": 185,
     "metadata": {},
     "output_type": "execute_result"
    }
   ],
   "source": [
    "def find_at_word(text):\n",
    "    word=re.findall(r'(?<=@)\\w+',text)\n",
    "    return \", \".join(word)\n",
    "\n",
    "tweets['mention']=tweets['text'].apply(lambda x: find_at_word(x))\n",
    "tweets.head()"
   ]
  },
  {
   "cell_type": "code",
   "execution_count": 186,
   "id": "aquatic-bangkok",
   "metadata": {
    "execution": {
     "iopub.execute_input": "2022-07-27T12:04:23.665225Z",
     "iopub.status.busy": "2022-07-27T12:04:23.665225Z",
     "iopub.status.idle": "2022-07-27T12:04:23.852394Z",
     "shell.execute_reply": "2022-07-27T12:04:23.851393Z",
     "shell.execute_reply.started": "2022-07-27T12:04:23.665225Z"
    }
   },
   "outputs": [
    {
     "name": "stderr",
     "output_type": "stream",
     "text": [
      "<ipython-input-186-43faed23c8da>:1: SettingWithCopyWarning: \n",
      "A value is trying to be set on a copy of a slice from a DataFrame.\n",
      "Try using .loc[row_indexer,col_indexer] = value instead\n",
      "\n",
      "See the caveats in the documentation: https://pandas.pydata.org/pandas-docs/stable/user_guide/indexing.html#returning-a-view-versus-a-copy\n",
      "  before['mention']=before['text'].apply(lambda x: find_at_word(x))\n",
      "<ipython-input-186-43faed23c8da>:2: SettingWithCopyWarning: \n",
      "A value is trying to be set on a copy of a slice from a DataFrame.\n",
      "Try using .loc[row_indexer,col_indexer] = value instead\n",
      "\n",
      "See the caveats in the documentation: https://pandas.pydata.org/pandas-docs/stable/user_guide/indexing.html#returning-a-view-versus-a-copy\n",
      "  first_wave['mention']=first_wave['text'].apply(lambda x: find_at_word(x))\n",
      "<ipython-input-186-43faed23c8da>:3: SettingWithCopyWarning: \n",
      "A value is trying to be set on a copy of a slice from a DataFrame.\n",
      "Try using .loc[row_indexer,col_indexer] = value instead\n",
      "\n",
      "See the caveats in the documentation: https://pandas.pydata.org/pandas-docs/stable/user_guide/indexing.html#returning-a-view-versus-a-copy\n",
      "  after_first['mention']=after_first['text'].apply(lambda x: find_at_word(x))\n"
     ]
    }
   ],
   "source": [
    "before['mention']=before['text'].apply(lambda x: find_at_word(x))\n",
    "first_wave['mention']=first_wave['text'].apply(lambda x: find_at_word(x))\n",
    "after_first['mention']=after_first['text'].apply(lambda x: find_at_word(x))"
   ]
  },
  {
   "cell_type": "markdown",
   "id": "instrumental-hanging",
   "metadata": {},
   "source": [
    "# Matching usernames to parties"
   ]
  },
  {
   "cell_type": "code",
   "execution_count": 6,
   "id": "beneficial-yesterday",
   "metadata": {
    "execution": {
     "iopub.execute_input": "2022-07-27T07:35:28.103237Z",
     "iopub.status.busy": "2022-07-27T07:35:28.102236Z",
     "iopub.status.idle": "2022-07-27T07:35:30.670089Z",
     "shell.execute_reply": "2022-07-27T07:35:30.670089Z",
     "shell.execute_reply.started": "2022-07-27T07:35:28.103237Z"
    }
   },
   "outputs": [],
   "source": [
    "users = pd.read_json('mps_flat.json', lines=True, convert_dates=True)\n",
    "all_mps = pd.read_excel('mps_uk_2020_.xlsx')\n",
    "pols = all_mps['uid'].tolist()"
   ]
  },
  {
   "cell_type": "code",
   "execution_count": 7,
   "id": "banned-beaver",
   "metadata": {
    "execution": {
     "iopub.execute_input": "2022-07-27T07:35:30.671091Z",
     "iopub.status.busy": "2022-07-27T07:35:30.671091Z",
     "iopub.status.idle": "2022-07-27T07:35:30.718133Z",
     "shell.execute_reply": "2022-07-27T07:35:30.718133Z",
     "shell.execute_reply.started": "2022-07-27T07:35:30.671091Z"
    }
   },
   "outputs": [
    {
     "data": {
      "text/plain": [
       "0      Conservative\n",
       "1      Conservative\n",
       "2      Conservative\n",
       "3      Conservative\n",
       "4      Conservative\n",
       "           ...     \n",
       "511    Conservative\n",
       "512    Conservative\n",
       "513    Conservative\n",
       "514    Labour Co-op\n",
       "515    Conservative\n",
       "Name: party, Length: 516, dtype: object"
      ]
     },
     "execution_count": 7,
     "metadata": {},
     "output_type": "execute_result"
    }
   ],
   "source": [
    "all_mps = all_mps.drop_duplicates(subset=['uid'])\n",
    "df_merge = users.merge(all_mps, right_on='uid', left_on='id', how='inner')\n",
    "df_merge['party']"
   ]
  },
  {
   "cell_type": "code",
   "execution_count": 8,
   "id": "powerful-adventure",
   "metadata": {
    "execution": {
     "iopub.execute_input": "2022-07-27T07:35:30.720135Z",
     "iopub.status.busy": "2022-07-27T07:35:30.720135Z",
     "iopub.status.idle": "2022-07-27T07:35:30.733146Z",
     "shell.execute_reply": "2022-07-27T07:35:30.733146Z",
     "shell.execute_reply.started": "2022-07-27T07:35:30.720135Z"
    }
   },
   "outputs": [],
   "source": [
    "# Constructing labels for use in Networkx node attributes\n",
    "labels = zip(df_merge.username, df_merge.party)\n",
    "labels = dict(labels)"
   ]
  },
  {
   "cell_type": "markdown",
   "id": "plain-watson",
   "metadata": {},
   "source": [
    "# Sentiment per user"
   ]
  },
  {
   "cell_type": "code",
   "execution_count": 181,
   "id": "endless-capability",
   "metadata": {
    "execution": {
     "iopub.execute_input": "2022-07-27T12:03:55.784349Z",
     "iopub.status.busy": "2022-07-27T12:03:55.784349Z",
     "iopub.status.idle": "2022-07-27T12:03:55.888444Z",
     "shell.execute_reply": "2022-07-27T12:03:55.887442Z",
     "shell.execute_reply.started": "2022-07-27T12:03:55.784349Z"
    }
   },
   "outputs": [],
   "source": [
    "tweets['sentiment'] = tweets['sentiment'].str.replace('Positive', '1')\n",
    "tweets['sentiment'] = tweets['sentiment'].str.replace('Neutral', '0')\n",
    "tweets['sentiment'] = tweets['sentiment'].str.replace('Negative', '-1')\n",
    "\n",
    "tweets['sentiment'] = tweets['sentiment'].astype(int)"
   ]
  },
  {
   "cell_type": "code",
   "execution_count": 187,
   "id": "romance-bidding",
   "metadata": {
    "execution": {
     "iopub.execute_input": "2022-07-27T12:05:04.803282Z",
     "iopub.status.busy": "2022-07-27T12:05:04.803282Z",
     "iopub.status.idle": "2022-07-27T12:05:04.975438Z",
     "shell.execute_reply": "2022-07-27T12:05:04.975438Z",
     "shell.execute_reply.started": "2022-07-27T12:05:04.803282Z"
    }
   },
   "outputs": [],
   "source": [
    "sen_users_before = before.groupby('user').mean()\n",
    "sen_users_first = first_wave.groupby('user').mean()\n",
    "sen_users_after = after_first.groupby('user').mean()"
   ]
  },
  {
   "cell_type": "code",
   "execution_count": 196,
   "id": "inappropriate-passenger",
   "metadata": {
    "execution": {
     "iopub.execute_input": "2022-07-27T12:08:48.505283Z",
     "iopub.status.busy": "2022-07-27T12:08:48.505283Z",
     "iopub.status.idle": "2022-07-27T12:08:48.515408Z",
     "shell.execute_reply": "2022-07-27T12:08:48.515408Z",
     "shell.execute_reply.started": "2022-07-27T12:08:48.505283Z"
    }
   },
   "outputs": [
    {
     "data": {
      "text/html": [
       "<div>\n",
       "<style scoped>\n",
       "    .dataframe tbody tr th:only-of-type {\n",
       "        vertical-align: middle;\n",
       "    }\n",
       "\n",
       "    .dataframe tbody tr th {\n",
       "        vertical-align: top;\n",
       "    }\n",
       "\n",
       "    .dataframe thead th {\n",
       "        text-align: right;\n",
       "    }\n",
       "</style>\n",
       "<table border=\"1\" class=\"dataframe\">\n",
       "  <thead>\n",
       "    <tr style=\"text-align: right;\">\n",
       "      <th></th>\n",
       "      <th>in_reply_to_user_id</th>\n",
       "      <th>author_id</th>\n",
       "      <th>conversation_id</th>\n",
       "      <th>sentiment</th>\n",
       "    </tr>\n",
       "    <tr>\n",
       "      <th>user</th>\n",
       "      <th></th>\n",
       "      <th></th>\n",
       "      <th></th>\n",
       "      <th></th>\n",
       "    </tr>\n",
       "  </thead>\n",
       "  <tbody>\n",
       "    <tr>\n",
       "      <th>001_LDN</th>\n",
       "      <td>6.777180e+17</td>\n",
       "      <td>1.168296e+18</td>\n",
       "      <td>1.335487e+18</td>\n",
       "      <td>-0.666667</td>\n",
       "    </tr>\n",
       "    <tr>\n",
       "      <th>0079Ibrahim</th>\n",
       "      <td>2.005290e+07</td>\n",
       "      <td>1.431128e+18</td>\n",
       "      <td>1.503116e+18</td>\n",
       "      <td>0.000000</td>\n",
       "    </tr>\n",
       "    <tr>\n",
       "      <th>007iKb</th>\n",
       "      <td>1.068600e+18</td>\n",
       "      <td>9.899555e+17</td>\n",
       "      <td>1.336204e+18</td>\n",
       "      <td>-1.000000</td>\n",
       "    </tr>\n",
       "    <tr>\n",
       "      <th>00Olmolungring</th>\n",
       "      <td>2.005290e+07</td>\n",
       "      <td>2.872229e+07</td>\n",
       "      <td>1.505513e+18</td>\n",
       "      <td>-1.000000</td>\n",
       "    </tr>\n",
       "    <tr>\n",
       "      <th>00adam</th>\n",
       "      <td>7.415463e+17</td>\n",
       "      <td>2.200306e+07</td>\n",
       "      <td>1.335487e+18</td>\n",
       "      <td>-1.000000</td>\n",
       "    </tr>\n",
       "  </tbody>\n",
       "</table>\n",
       "</div>"
      ],
      "text/plain": [
       "                in_reply_to_user_id     author_id  conversation_id  sentiment\n",
       "user                                                                         \n",
       "001_LDN                6.777180e+17  1.168296e+18     1.335487e+18  -0.666667\n",
       "0079Ibrahim            2.005290e+07  1.431128e+18     1.503116e+18   0.000000\n",
       "007iKb                 1.068600e+18  9.899555e+17     1.336204e+18  -1.000000\n",
       "00Olmolungring         2.005290e+07  2.872229e+07     1.505513e+18  -1.000000\n",
       "00adam                 7.415463e+17  2.200306e+07     1.335487e+18  -1.000000"
      ]
     },
     "execution_count": 196,
     "metadata": {},
     "output_type": "execute_result"
    }
   ],
   "source": [
    "sen_users_after.head()"
   ]
  },
  {
   "cell_type": "code",
   "execution_count": 193,
   "id": "scientific-worthy",
   "metadata": {
    "execution": {
     "iopub.execute_input": "2022-07-27T12:07:42.812646Z",
     "iopub.status.busy": "2022-07-27T12:07:42.812646Z",
     "iopub.status.idle": "2022-07-27T12:07:42.833665Z",
     "shell.execute_reply": "2022-07-27T12:07:42.832663Z",
     "shell.execute_reply.started": "2022-07-27T12:07:42.812646Z"
    }
   },
   "outputs": [],
   "source": [
    "# Constructing labels for use in Networkx node attributes\n",
    "sentiment_dict_before = zip(sen_users_before.index, sen_users_before.sentiment)\n",
    "sentiment_dict_before = dict(sentiment_dict_before)\n",
    "\n",
    "sentiment_dict_first = zip(sen_users_first.index, sen_users_first.sentiment)\n",
    "sentiment_dict_first = dict(sentiment_dict_first)\n",
    "\n",
    "sentiment_dict_after= zip(sen_users_after.index, sen_users_after.sentiment)\n",
    "sentiment_dict_after = dict(sentiment_dict_after)"
   ]
  },
  {
   "cell_type": "markdown",
   "id": "naval-angel",
   "metadata": {},
   "source": [
    "# Generating mention networks\n",
    "\n",
    "## Before pandemic"
   ]
  },
  {
   "cell_type": "code",
   "execution_count": 197,
   "id": "empirical-delta",
   "metadata": {
    "execution": {
     "iopub.execute_input": "2022-07-27T12:10:24.711049Z",
     "iopub.status.busy": "2022-07-27T12:10:24.711049Z",
     "iopub.status.idle": "2022-07-27T12:10:24.726063Z",
     "shell.execute_reply": "2022-07-27T12:10:24.725062Z",
     "shell.execute_reply.started": "2022-07-27T12:10:24.711049Z"
    }
   },
   "outputs": [],
   "source": [
    "users = before['user'].tolist()\n",
    "mentions = before['mention'].tolist()"
   ]
  },
  {
   "cell_type": "code",
   "execution_count": 198,
   "id": "laughing-hayes",
   "metadata": {
    "execution": {
     "iopub.execute_input": "2022-07-27T12:10:25.928526Z",
     "iopub.status.busy": "2022-07-27T12:10:25.928526Z",
     "iopub.status.idle": "2022-07-27T12:10:25.944539Z",
     "shell.execute_reply": "2022-07-27T12:10:25.943537Z",
     "shell.execute_reply.started": "2022-07-27T12:10:25.928526Z"
    }
   },
   "outputs": [
    {
     "data": {
      "text/plain": [
       "'Starchild65 KirstenPeebles  cj_dinenage  ChildrensComm  NHSEngland'"
      ]
     },
     "execution_count": 198,
     "metadata": {},
     "output_type": "execute_result"
    }
   ],
   "source": [
    "# Creating adjadency list for network graph cration\n",
    "adj_list = [] \n",
    "\n",
    "for i in range(len(users)):\n",
    "    adj_list.append(users[i]+' '+mentions[i].replace(',',' '))\n",
    "\n",
    "adj_list[53]"
   ]
  },
  {
   "cell_type": "code",
   "execution_count": 199,
   "id": "broad-birthday",
   "metadata": {
    "execution": {
     "iopub.execute_input": "2022-07-27T12:10:27.175575Z",
     "iopub.status.busy": "2022-07-27T12:10:27.175575Z",
     "iopub.status.idle": "2022-07-27T12:10:27.198596Z",
     "shell.execute_reply": "2022-07-27T12:10:27.197595Z",
     "shell.execute_reply.started": "2022-07-27T12:10:27.175575Z"
    },
    "tags": []
   },
   "outputs": [],
   "source": [
    "# Writing adjacency list to textfile\n",
    "\n",
    "textfile = open(\"before_adjlist.txt\", \"w\")\n",
    "\n",
    "for element in adj_list:\n",
    "    textfile.write(element + \"\\n\")\n",
    "textfile.close()"
   ]
  },
  {
   "cell_type": "code",
   "execution_count": 200,
   "id": "daily-seller",
   "metadata": {
    "execution": {
     "iopub.execute_input": "2022-07-27T12:10:27.481852Z",
     "iopub.status.busy": "2022-07-27T12:10:27.481852Z",
     "iopub.status.idle": "2022-07-27T12:10:27.557921Z",
     "shell.execute_reply": "2022-07-27T12:10:27.556920Z",
     "shell.execute_reply.started": "2022-07-27T12:10:27.481852Z"
    },
    "tags": []
   },
   "outputs": [],
   "source": [
    "# Importing adjacency list to directed graph\n",
    "G = nx.Graph()\n",
    "G = nx.read_adjlist('before_adjlist.txt', create_using = nx.DiGraph())\n",
    "nx.set_node_attributes(G, labels, \"party\")\n",
    "nx.set_node_attributes(G, sentiment_dict_before, \"sentiment\")"
   ]
  },
  {
   "cell_type": "code",
   "execution_count": 201,
   "id": "broken-occurrence",
   "metadata": {
    "execution": {
     "iopub.execute_input": "2022-07-27T12:10:27.994317Z",
     "iopub.status.busy": "2022-07-27T12:10:27.993316Z",
     "iopub.status.idle": "2022-07-27T12:10:51.886108Z",
     "shell.execute_reply": "2022-07-27T12:10:51.885107Z",
     "shell.execute_reply.started": "2022-07-27T12:10:27.994317Z"
    },
    "tags": []
   },
   "outputs": [
    {
     "data": {
      "image/png": "[encoded data removed]",
      "text/plain": [
       "<Figure size 432x288 with 1 Axes>"
      ]
     },
     "metadata": {},
     "output_type": "display_data"
    }
   ],
   "source": [
    "nx.draw_networkx(G)"
   ]
  },
  {
   "cell_type": "code",
   "execution_count": 202,
   "id": "recreational-boxing",
   "metadata": {
    "execution": {
     "iopub.execute_input": "2022-07-27T12:10:51.887110Z",
     "iopub.status.busy": "2022-07-27T12:10:51.887110Z",
     "iopub.status.idle": "2022-07-27T12:10:51.963178Z",
     "shell.execute_reply": "2022-07-27T12:10:51.963178Z",
     "shell.execute_reply.started": "2022-07-27T12:10:51.887110Z"
    }
   },
   "outputs": [],
   "source": [
    "nx.write_gexf(G, 'mention_before_network.gexf')"
   ]
  },
  {
   "cell_type": "markdown",
   "id": "monthly-duration",
   "metadata": {},
   "source": [
    "## First wave"
   ]
  },
  {
   "cell_type": "code",
   "execution_count": 203,
   "id": "agreed-packet",
   "metadata": {
    "execution": {
     "iopub.execute_input": "2022-07-27T12:12:31.057173Z",
     "iopub.status.busy": "2022-07-27T12:12:31.056171Z",
     "iopub.status.idle": "2022-07-27T12:12:31.070185Z",
     "shell.execute_reply": "2022-07-27T12:12:31.069183Z",
     "shell.execute_reply.started": "2022-07-27T12:12:31.057173Z"
    }
   },
   "outputs": [],
   "source": [
    "users = first_wave['user'].tolist()\n",
    "mentions = first_wave['mention'].tolist()"
   ]
  },
  {
   "cell_type": "code",
   "execution_count": 204,
   "id": "broadband-characterization",
   "metadata": {
    "execution": {
     "iopub.execute_input": "2022-07-27T12:12:31.252349Z",
     "iopub.status.busy": "2022-07-27T12:12:31.252349Z",
     "iopub.status.idle": "2022-07-27T12:12:31.276372Z",
     "shell.execute_reply": "2022-07-27T12:12:31.275370Z",
     "shell.execute_reply.started": "2022-07-27T12:12:31.252349Z"
    }
   },
   "outputs": [
    {
     "data": {
      "text/plain": [
       "'GarryDoolan2552 justinmadders  NHSEngland'"
      ]
     },
     "execution_count": 204,
     "metadata": {},
     "output_type": "execute_result"
    }
   ],
   "source": [
    "# Creating adjadency list for network graph cration\n",
    "adj_list = [] \n",
    "\n",
    "for i in range(len(users)):\n",
    "    adj_list.append(users[i]+' '+mentions[i].replace(',',' '))\n",
    "\n",
    "adj_list[53]"
   ]
  },
  {
   "cell_type": "code",
   "execution_count": 205,
   "id": "wanted-express",
   "metadata": {
    "execution": {
     "iopub.execute_input": "2022-07-27T12:12:31.436517Z",
     "iopub.status.busy": "2022-07-27T12:12:31.436517Z",
     "iopub.status.idle": "2022-07-27T12:12:31.450530Z",
     "shell.execute_reply": "2022-07-27T12:12:31.449529Z",
     "shell.execute_reply.started": "2022-07-27T12:12:31.436517Z"
    },
    "tags": []
   },
   "outputs": [],
   "source": [
    "# Writing adjacency list to textfile\n",
    "textfile = open(\"first_wave_adjlist.txt\", \"w\")\n",
    "\n",
    "for element in adj_list:\n",
    "    textfile.write(element + \"\\n\")\n",
    "textfile.close()"
   ]
  },
  {
   "cell_type": "code",
   "execution_count": 206,
   "id": "marked-bradford",
   "metadata": {
    "execution": {
     "iopub.execute_input": "2022-07-27T12:12:31.611676Z",
     "iopub.status.busy": "2022-07-27T12:12:31.611676Z",
     "iopub.status.idle": "2022-07-27T12:12:31.683741Z",
     "shell.execute_reply": "2022-07-27T12:12:31.683741Z",
     "shell.execute_reply.started": "2022-07-27T12:12:31.611676Z"
    },
    "tags": []
   },
   "outputs": [],
   "source": [
    "# Importing adjacency list to directed graph\n",
    "G = nx.Graph()\n",
    "G = nx.read_adjlist('first_wave_adjlist.txt', create_using = nx.DiGraph())\n",
    "nx.set_node_attributes(G, labels, \"party\")\n",
    "nx.set_node_attributes(G, sentiment_dict_first, \"sentiment\")"
   ]
  },
  {
   "cell_type": "code",
   "execution_count": 207,
   "id": "sustainable-republican",
   "metadata": {
    "execution": {
     "iopub.execute_input": "2022-07-27T12:12:31.787841Z",
     "iopub.status.busy": "2022-07-27T12:12:31.787841Z",
     "iopub.status.idle": "2022-07-27T12:14:33.295749Z",
     "shell.execute_reply": "2022-07-27T12:14:33.294748Z",
     "shell.execute_reply.started": "2022-07-27T12:12:31.787841Z"
    },
    "tags": []
   },
   "outputs": [
    {
     "data": {
      "image/png": "[encoded data removed]",
      "text/plain": [
       "<Figure size 432x288 with 1 Axes>"
      ]
     },
     "metadata": {},
     "output_type": "display_data"
    }
   ],
   "source": [
    "nx.draw_networkx(G)"
   ]
  },
  {
   "cell_type": "code",
   "execution_count": 208,
   "id": "previous-google",
   "metadata": {
    "execution": {
     "iopub.execute_input": "2022-07-27T12:14:33.296751Z",
     "iopub.status.busy": "2022-07-27T12:14:33.296751Z",
     "iopub.status.idle": "2022-07-27T12:14:33.571999Z",
     "shell.execute_reply": "2022-07-27T12:14:33.571999Z",
     "shell.execute_reply.started": "2022-07-27T12:14:33.296751Z"
    }
   },
   "outputs": [],
   "source": [
    "nx.write_gexf(G, 'mention_first_wave_network.gexf')"
   ]
  },
  {
   "cell_type": "markdown",
   "id": "organizational-butter",
   "metadata": {},
   "source": [
    "## After first wave"
   ]
  },
  {
   "cell_type": "code",
   "execution_count": 209,
   "id": "reverse-confidentiality",
   "metadata": {
    "execution": {
     "iopub.execute_input": "2022-07-27T12:14:33.574001Z",
     "iopub.status.busy": "2022-07-27T12:14:33.573000Z",
     "iopub.status.idle": "2022-07-27T12:14:33.587013Z",
     "shell.execute_reply": "2022-07-27T12:14:33.587013Z",
     "shell.execute_reply.started": "2022-07-27T12:14:33.574001Z"
    }
   },
   "outputs": [],
   "source": [
    "users = after_first['user'].tolist()\n",
    "mentions = after_first['mention'].tolist()"
   ]
  },
  {
   "cell_type": "code",
   "execution_count": 210,
   "id": "alike-hampton",
   "metadata": {
    "execution": {
     "iopub.execute_input": "2022-07-27T12:14:33.588014Z",
     "iopub.status.busy": "2022-07-27T12:14:33.588014Z",
     "iopub.status.idle": "2022-07-27T12:14:33.632054Z",
     "shell.execute_reply": "2022-07-27T12:14:33.632054Z",
     "shell.execute_reply.started": "2022-07-27T12:14:33.588014Z"
    }
   },
   "outputs": [
    {
     "data": {
      "text/plain": [
       "'Bec_j87 aliciakearns  NHSEngland  PregnantScrewed  AVMikhailova  BetterBirth1  RWT_NHS'"
      ]
     },
     "execution_count": 210,
     "metadata": {},
     "output_type": "execute_result"
    }
   ],
   "source": [
    "# Creating adjadency list for network graph cration\n",
    "adj_list = [] \n",
    "for i in range(len(users)):\n",
    "    adj_list.append(users[i]+' '+mentions[i].replace(',',' '))\n",
    "adj_list[53]"
   ]
  },
  {
   "cell_type": "code",
   "execution_count": 211,
   "id": "rough-discussion",
   "metadata": {
    "execution": {
     "iopub.execute_input": "2022-07-27T12:14:33.633055Z",
     "iopub.status.busy": "2022-07-27T12:14:33.633055Z",
     "iopub.status.idle": "2022-07-27T12:14:33.692109Z",
     "shell.execute_reply": "2022-07-27T12:14:33.692109Z",
     "shell.execute_reply.started": "2022-07-27T12:14:33.633055Z"
    },
    "tags": []
   },
   "outputs": [],
   "source": [
    "# Writing adjacency list to textfile\n",
    "\n",
    "textfile = open(\"after_first_adjlist.txt\", \"w\")\n",
    "\n",
    "for element in adj_list:\n",
    "    textfile.write(element + \"\\n\")\n",
    "textfile.close()"
   ]
  },
  {
   "cell_type": "code",
   "execution_count": 212,
   "id": "iraqi-analysis",
   "metadata": {
    "execution": {
     "iopub.execute_input": "2022-07-27T12:14:33.693109Z",
     "iopub.status.busy": "2022-07-27T12:14:33.693109Z",
     "iopub.status.idle": "2022-07-27T12:14:34.062446Z",
     "shell.execute_reply": "2022-07-27T12:14:34.061444Z",
     "shell.execute_reply.started": "2022-07-27T12:14:33.693109Z"
    },
    "tags": []
   },
   "outputs": [],
   "source": [
    "# Importing adjacency list to directed graph\n",
    "G = nx.Graph()\n",
    "G = nx.read_adjlist('after_first_adjlist.txt', create_using = nx.DiGraph())\n",
    "nx.set_node_attributes(G, labels, \"party\")\n",
    "nx.set_node_attributes(G, sentiment_dict_after, \"sentiment\")"
   ]
  },
  {
   "cell_type": "code",
   "execution_count": null,
   "id": "played-browser",
   "metadata": {
    "execution": {
     "iopub.execute_input": "2022-07-27T12:14:34.063446Z",
     "iopub.status.busy": "2022-07-27T12:14:34.063446Z"
    },
    "tags": []
   },
   "outputs": [],
   "source": [
    "nx.draw_networkx(G)"
   ]
  },
  {
   "cell_type": "code",
   "execution_count": null,
   "id": "compatible-physiology",
   "metadata": {},
   "outputs": [],
   "source": [
    "nx.write_gexf(G, 'mention_after_first_network.gexf')"
   ]
  },
  {
   "cell_type": "markdown",
   "id": "covered-reverse",
   "metadata": {},
   "source": [
    "# Generating reply networks"
   ]
  },
  {
   "cell_type": "code",
   "execution_count": 40,
   "id": "environmental-walter",
   "metadata": {
    "execution": {
     "iopub.execute_input": "2022-07-27T08:00:01.987928Z",
     "iopub.status.busy": "2022-07-27T08:00:01.987928Z",
     "iopub.status.idle": "2022-07-27T08:00:02.056991Z",
     "shell.execute_reply": "2022-07-27T08:00:02.056991Z",
     "shell.execute_reply.started": "2022-07-27T08:00:01.987928Z"
    }
   },
   "outputs": [],
   "source": [
    "df_replies = tweets[tweets['in_reply_to_user'].notna()]"
   ]
  },
  {
   "cell_type": "code",
   "execution_count": 54,
   "id": "floppy-sterling",
   "metadata": {
    "execution": {
     "iopub.execute_input": "2022-07-27T08:36:42.383170Z",
     "iopub.status.busy": "2022-07-27T08:36:42.383170Z",
     "iopub.status.idle": "2022-07-27T08:36:42.437219Z",
     "shell.execute_reply": "2022-07-27T08:36:42.436218Z",
     "shell.execute_reply.started": "2022-07-27T08:36:42.383170Z"
    }
   },
   "outputs": [
    {
     "data": {
      "text/html": [
       "<div>\n",
       "<style scoped>\n",
       "    .dataframe tbody tr th:only-of-type {\n",
       "        vertical-align: middle;\n",
       "    }\n",
       "\n",
       "    .dataframe tbody tr th {\n",
       "        vertical-align: top;\n",
       "    }\n",
       "\n",
       "    .dataframe thead th {\n",
       "        text-align: right;\n",
       "    }\n",
       "</style>\n",
       "<table border=\"1\" class=\"dataframe\">\n",
       "  <thead>\n",
       "    <tr style=\"text-align: right;\">\n",
       "      <th></th>\n",
       "      <th>text</th>\n",
       "      <th>public_metrics</th>\n",
       "      <th>in_reply_to_user_id</th>\n",
       "      <th>created_at</th>\n",
       "      <th>id</th>\n",
       "      <th>referenced_tweets</th>\n",
       "      <th>author_id</th>\n",
       "      <th>conversation_id</th>\n",
       "      <th>author</th>\n",
       "      <th>in_reply_to_user</th>\n",
       "      <th>__twarc</th>\n",
       "      <th>withheld</th>\n",
       "      <th>user</th>\n",
       "      <th>mention</th>\n",
       "      <th>is_retweet</th>\n",
       "    </tr>\n",
       "  </thead>\n",
       "  <tbody>\n",
       "    <tr>\n",
       "      <th>0</th>\n",
       "      <td>@RobinMillarMP @AlyAShields @BetsiCadwaladr @h...</td>\n",
       "      <td>{'retweet_count': 2, 'reply_count': 0, 'like_c...</td>\n",
       "      <td>1194759472087998464</td>\n",
       "      <td>2020-10-09 12:17:15+00:00</td>\n",
       "      <td>1314540427874308096</td>\n",
       "      <td>[{'type': 'replied_to', 'id': '131449302570007...</td>\n",
       "      <td>709375301583835136</td>\n",
       "      <td>1314477726678614016</td>\n",
       "      <td>{'description': 'Raising awareness for PANS Pa...</td>\n",
       "      <td>{'entities': {'url': {'urls': [{'start': 0, 'e...</td>\n",
       "      <td>{'url': 'https://api.twitter.com/2/tweets/sear...</td>\n",
       "      <td>NaN</td>\n",
       "      <td>kathryn_gillett</td>\n",
       "      <td>RobinMillarMP, AlyAShields, BetsiCadwaladr, he...</td>\n",
       "      <td>nan</td>\n",
       "    </tr>\n",
       "    <tr>\n",
       "      <th>1</th>\n",
       "      <td>@RobinMillarMP @BetsiCadwaladr @healthdpt @NIC...</td>\n",
       "      <td>{'retweet_count': 0, 'reply_count': 0, 'like_c...</td>\n",
       "      <td>1194759472087998464</td>\n",
       "      <td>2020-10-09 11:49:31+00:00</td>\n",
       "      <td>1314533448405614592</td>\n",
       "      <td>[{'type': 'replied_to', 'id': '131449302570007...</td>\n",
       "      <td>470801601</td>\n",
       "      <td>1314477726678614016</td>\n",
       "      <td>{'entities': {'description': {'urls': [{'start...</td>\n",
       "      <td>{'entities': {'url': {'urls': [{'start': 0, 'e...</td>\n",
       "      <td>{'url': 'https://api.twitter.com/2/tweets/sear...</td>\n",
       "      <td>NaN</td>\n",
       "      <td>AlyAShields</td>\n",
       "      <td>RobinMillarMP, BetsiCadwaladr, healthdpt, NICE...</td>\n",
       "      <td>nan</td>\n",
       "    </tr>\n",
       "    <tr>\n",
       "      <th>2</th>\n",
       "      <td>@RobinMillarMP @AlyAShields @BetsiCadwaladr @h...</td>\n",
       "      <td>{'retweet_count': 4, 'reply_count': 0, 'like_c...</td>\n",
       "      <td>1194759472087998464</td>\n",
       "      <td>2020-10-09 10:12:43+00:00</td>\n",
       "      <td>1314509086596239360</td>\n",
       "      <td>[{'type': 'replied_to', 'id': '131449302570007...</td>\n",
       "      <td>816444807371517952</td>\n",
       "      <td>1314477726678614016</td>\n",
       "      <td>{'entities': {'url': {'urls': [{'start': 0, 'e...</td>\n",
       "      <td>{'entities': {'url': {'urls': [{'start': 0, 'e...</td>\n",
       "      <td>{'url': 'https://api.twitter.com/2/tweets/sear...</td>\n",
       "      <td>NaN</td>\n",
       "      <td>soniaserrano0</td>\n",
       "      <td>RobinMillarMP, AlyAShields, BetsiCadwaladr, he...</td>\n",
       "      <td>nan</td>\n",
       "    </tr>\n",
       "    <tr>\n",
       "      <th>3</th>\n",
       "      <td>@AlyAShields @BetsiCadwaladr @healthdpt @NICEC...</td>\n",
       "      <td>{'retweet_count': 8, 'reply_count': 3, 'like_c...</td>\n",
       "      <td>470801601</td>\n",
       "      <td>2020-10-09 09:08:54+00:00</td>\n",
       "      <td>1314493025700077568</td>\n",
       "      <td>[{'type': 'replied_to', 'id': '131447772937129...</td>\n",
       "      <td>1194759472087998464</td>\n",
       "      <td>1314477726678614016</td>\n",
       "      <td>{'entities': {'url': {'urls': [{'start': 0, 'e...</td>\n",
       "      <td>{'entities': {'description': {'urls': [{'start...</td>\n",
       "      <td>{'url': 'https://api.twitter.com/2/tweets/sear...</td>\n",
       "      <td>NaN</td>\n",
       "      <td>RobinMillarMP</td>\n",
       "      <td>AlyAShields, BetsiCadwaladr, healthdpt, NICECo...</td>\n",
       "      <td>nan</td>\n",
       "    </tr>\n",
       "    <tr>\n",
       "      <th>4</th>\n",
       "      <td>@BetsiCadwaladr @CALL_247 @MindCymru @Research...</td>\n",
       "      <td>{'retweet_count': 4, 'reply_count': 1, 'like_c...</td>\n",
       "      <td>470801601</td>\n",
       "      <td>2020-10-09 08:08:07+00:00</td>\n",
       "      <td>1314477729371299840</td>\n",
       "      <td>[{'type': 'replied_to', 'id': '131447772667861...</td>\n",
       "      <td>470801601</td>\n",
       "      <td>1314477726678614016</td>\n",
       "      <td>{'entities': {'description': {'urls': [{'start...</td>\n",
       "      <td>{'entities': {'description': {'urls': [{'start...</td>\n",
       "      <td>{'url': 'https://api.twitter.com/2/tweets/sear...</td>\n",
       "      <td>NaN</td>\n",
       "      <td>AlyAShields</td>\n",
       "      <td>BetsiCadwaladr, CALL_247, MindCymru, ResearchW...</td>\n",
       "      <td>nan</td>\n",
       "    </tr>\n",
       "  </tbody>\n",
       "</table>\n",
       "</div>"
      ],
      "text/plain": [
       "                                                text  \\\n",
       "0  @RobinMillarMP @AlyAShields @BetsiCadwaladr @h...   \n",
       "1  @RobinMillarMP @BetsiCadwaladr @healthdpt @NIC...   \n",
       "2  @RobinMillarMP @AlyAShields @BetsiCadwaladr @h...   \n",
       "3  @AlyAShields @BetsiCadwaladr @healthdpt @NICEC...   \n",
       "4  @BetsiCadwaladr @CALL_247 @MindCymru @Research...   \n",
       "\n",
       "                                      public_metrics  in_reply_to_user_id  \\\n",
       "0  {'retweet_count': 2, 'reply_count': 0, 'like_c...  1194759472087998464   \n",
       "1  {'retweet_count': 0, 'reply_count': 0, 'like_c...  1194759472087998464   \n",
       "2  {'retweet_count': 4, 'reply_count': 0, 'like_c...  1194759472087998464   \n",
       "3  {'retweet_count': 8, 'reply_count': 3, 'like_c...            470801601   \n",
       "4  {'retweet_count': 4, 'reply_count': 1, 'like_c...            470801601   \n",
       "\n",
       "                 created_at                   id  \\\n",
       "0 2020-10-09 12:17:15+00:00  1314540427874308096   \n",
       "1 2020-10-09 11:49:31+00:00  1314533448405614592   \n",
       "2 2020-10-09 10:12:43+00:00  1314509086596239360   \n",
       "3 2020-10-09 09:08:54+00:00  1314493025700077568   \n",
       "4 2020-10-09 08:08:07+00:00  1314477729371299840   \n",
       "\n",
       "                                   referenced_tweets            author_id  \\\n",
       "0  [{'type': 'replied_to', 'id': '131449302570007...   709375301583835136   \n",
       "1  [{'type': 'replied_to', 'id': '131449302570007...            470801601   \n",
       "2  [{'type': 'replied_to', 'id': '131449302570007...   816444807371517952   \n",
       "3  [{'type': 'replied_to', 'id': '131447772937129...  1194759472087998464   \n",
       "4  [{'type': 'replied_to', 'id': '131447772667861...            470801601   \n",
       "\n",
       "       conversation_id                                             author  \\\n",
       "0  1314477726678614016  {'description': 'Raising awareness for PANS Pa...   \n",
       "1  1314477726678614016  {'entities': {'description': {'urls': [{'start...   \n",
       "2  1314477726678614016  {'entities': {'url': {'urls': [{'start': 0, 'e...   \n",
       "3  1314477726678614016  {'entities': {'url': {'urls': [{'start': 0, 'e...   \n",
       "4  1314477726678614016  {'entities': {'description': {'urls': [{'start...   \n",
       "\n",
       "                                    in_reply_to_user  \\\n",
       "0  {'entities': {'url': {'urls': [{'start': 0, 'e...   \n",
       "1  {'entities': {'url': {'urls': [{'start': 0, 'e...   \n",
       "2  {'entities': {'url': {'urls': [{'start': 0, 'e...   \n",
       "3  {'entities': {'description': {'urls': [{'start...   \n",
       "4  {'entities': {'description': {'urls': [{'start...   \n",
       "\n",
       "                                             __twarc withheld  \\\n",
       "0  {'url': 'https://api.twitter.com/2/tweets/sear...      NaN   \n",
       "1  {'url': 'https://api.twitter.com/2/tweets/sear...      NaN   \n",
       "2  {'url': 'https://api.twitter.com/2/tweets/sear...      NaN   \n",
       "3  {'url': 'https://api.twitter.com/2/tweets/sear...      NaN   \n",
       "4  {'url': 'https://api.twitter.com/2/tweets/sear...      NaN   \n",
       "\n",
       "              user                                            mention  \\\n",
       "0  kathryn_gillett  RobinMillarMP, AlyAShields, BetsiCadwaladr, he...   \n",
       "1      AlyAShields  RobinMillarMP, BetsiCadwaladr, healthdpt, NICE...   \n",
       "2    soniaserrano0  RobinMillarMP, AlyAShields, BetsiCadwaladr, he...   \n",
       "3    RobinMillarMP  AlyAShields, BetsiCadwaladr, healthdpt, NICECo...   \n",
       "4      AlyAShields  BetsiCadwaladr, CALL_247, MindCymru, ResearchW...   \n",
       "\n",
       "  is_retweet  \n",
       "0        nan  \n",
       "1        nan  \n",
       "2        nan  \n",
       "3        nan  \n",
       "4        nan  "
      ]
     },
     "execution_count": 54,
     "metadata": {},
     "output_type": "execute_result"
    }
   ],
   "source": [
    "df_replies.head()"
   ]
  },
  {
   "cell_type": "code",
   "execution_count": 62,
   "id": "stretch-vacation",
   "metadata": {
    "execution": {
     "iopub.execute_input": "2022-07-27T08:40:14.556910Z",
     "iopub.status.busy": "2022-07-27T08:40:14.556910Z",
     "iopub.status.idle": "2022-07-27T08:40:14.604953Z",
     "shell.execute_reply": "2022-07-27T08:40:14.604953Z",
     "shell.execute_reply.started": "2022-07-27T08:40:14.556910Z"
    }
   },
   "outputs": [],
   "source": [
    "replies = df_replies['in_reply_to_user'].tolist()\n",
    "\n",
    "tweet_type = []\n",
    "for user in range(len(replies)):\n",
    "    try:\n",
    "        tweet_type.append(replies[user]['username'])\n",
    "    except:\n",
    "        tweet_type.append('nan')\n",
    "df_replies['reply_to_user'] = tweet_type"
   ]
  },
  {
   "cell_type": "code",
   "execution_count": 63,
   "id": "fabulous-wheel",
   "metadata": {
    "execution": {
     "iopub.execute_input": "2022-07-27T08:40:32.870282Z",
     "iopub.status.busy": "2022-07-27T08:40:32.869281Z",
     "iopub.status.idle": "2022-07-27T08:40:32.922329Z",
     "shell.execute_reply": "2022-07-27T08:40:32.922329Z",
     "shell.execute_reply.started": "2022-07-27T08:40:32.870282Z"
    }
   },
   "outputs": [
    {
     "data": {
      "text/html": [
       "<div>\n",
       "<style scoped>\n",
       "    .dataframe tbody tr th:only-of-type {\n",
       "        vertical-align: middle;\n",
       "    }\n",
       "\n",
       "    .dataframe tbody tr th {\n",
       "        vertical-align: top;\n",
       "    }\n",
       "\n",
       "    .dataframe thead th {\n",
       "        text-align: right;\n",
       "    }\n",
       "</style>\n",
       "<table border=\"1\" class=\"dataframe\">\n",
       "  <thead>\n",
       "    <tr style=\"text-align: right;\">\n",
       "      <th></th>\n",
       "      <th>text</th>\n",
       "      <th>public_metrics</th>\n",
       "      <th>in_reply_to_user_id</th>\n",
       "      <th>created_at</th>\n",
       "      <th>id</th>\n",
       "      <th>referenced_tweets</th>\n",
       "      <th>author_id</th>\n",
       "      <th>conversation_id</th>\n",
       "      <th>author</th>\n",
       "      <th>in_reply_to_user</th>\n",
       "      <th>__twarc</th>\n",
       "      <th>withheld</th>\n",
       "      <th>user</th>\n",
       "      <th>mention</th>\n",
       "      <th>is_retweet</th>\n",
       "      <th>reply_to_user</th>\n",
       "    </tr>\n",
       "  </thead>\n",
       "  <tbody>\n",
       "    <tr>\n",
       "      <th>0</th>\n",
       "      <td>@RobinMillarMP @AlyAShields @BetsiCadwaladr @h...</td>\n",
       "      <td>{'retweet_count': 2, 'reply_count': 0, 'like_c...</td>\n",
       "      <td>1194759472087998464</td>\n",
       "      <td>2020-10-09 12:17:15+00:00</td>\n",
       "      <td>1314540427874308096</td>\n",
       "      <td>[{'type': 'replied_to', 'id': '131449302570007...</td>\n",
       "      <td>709375301583835136</td>\n",
       "      <td>1314477726678614016</td>\n",
       "      <td>{'description': 'Raising awareness for PANS Pa...</td>\n",
       "      <td>{'entities': {'url': {'urls': [{'start': 0, 'e...</td>\n",
       "      <td>{'url': 'https://api.twitter.com/2/tweets/sear...</td>\n",
       "      <td>NaN</td>\n",
       "      <td>kathryn_gillett</td>\n",
       "      <td>RobinMillarMP, AlyAShields, BetsiCadwaladr, he...</td>\n",
       "      <td>nan</td>\n",
       "      <td>RobinMillarMP</td>\n",
       "    </tr>\n",
       "    <tr>\n",
       "      <th>1</th>\n",
       "      <td>@RobinMillarMP @BetsiCadwaladr @healthdpt @NIC...</td>\n",
       "      <td>{'retweet_count': 0, 'reply_count': 0, 'like_c...</td>\n",
       "      <td>1194759472087998464</td>\n",
       "      <td>2020-10-09 11:49:31+00:00</td>\n",
       "      <td>1314533448405614592</td>\n",
       "      <td>[{'type': 'replied_to', 'id': '131449302570007...</td>\n",
       "      <td>470801601</td>\n",
       "      <td>1314477726678614016</td>\n",
       "      <td>{'entities': {'description': {'urls': [{'start...</td>\n",
       "      <td>{'entities': {'url': {'urls': [{'start': 0, 'e...</td>\n",
       "      <td>{'url': 'https://api.twitter.com/2/tweets/sear...</td>\n",
       "      <td>NaN</td>\n",
       "      <td>AlyAShields</td>\n",
       "      <td>RobinMillarMP, BetsiCadwaladr, healthdpt, NICE...</td>\n",
       "      <td>nan</td>\n",
       "      <td>RobinMillarMP</td>\n",
       "    </tr>\n",
       "    <tr>\n",
       "      <th>2</th>\n",
       "      <td>@RobinMillarMP @AlyAShields @BetsiCadwaladr @h...</td>\n",
       "      <td>{'retweet_count': 4, 'reply_count': 0, 'like_c...</td>\n",
       "      <td>1194759472087998464</td>\n",
       "      <td>2020-10-09 10:12:43+00:00</td>\n",
       "      <td>1314509086596239360</td>\n",
       "      <td>[{'type': 'replied_to', 'id': '131449302570007...</td>\n",
       "      <td>816444807371517952</td>\n",
       "      <td>1314477726678614016</td>\n",
       "      <td>{'entities': {'url': {'urls': [{'start': 0, 'e...</td>\n",
       "      <td>{'entities': {'url': {'urls': [{'start': 0, 'e...</td>\n",
       "      <td>{'url': 'https://api.twitter.com/2/tweets/sear...</td>\n",
       "      <td>NaN</td>\n",
       "      <td>soniaserrano0</td>\n",
       "      <td>RobinMillarMP, AlyAShields, BetsiCadwaladr, he...</td>\n",
       "      <td>nan</td>\n",
       "      <td>RobinMillarMP</td>\n",
       "    </tr>\n",
       "    <tr>\n",
       "      <th>3</th>\n",
       "      <td>@AlyAShields @BetsiCadwaladr @healthdpt @NICEC...</td>\n",
       "      <td>{'retweet_count': 8, 'reply_count': 3, 'like_c...</td>\n",
       "      <td>470801601</td>\n",
       "      <td>2020-10-09 09:08:54+00:00</td>\n",
       "      <td>1314493025700077568</td>\n",
       "      <td>[{'type': 'replied_to', 'id': '131447772937129...</td>\n",
       "      <td>1194759472087998464</td>\n",
       "      <td>1314477726678614016</td>\n",
       "      <td>{'entities': {'url': {'urls': [{'start': 0, 'e...</td>\n",
       "      <td>{'entities': {'description': {'urls': [{'start...</td>\n",
       "      <td>{'url': 'https://api.twitter.com/2/tweets/sear...</td>\n",
       "      <td>NaN</td>\n",
       "      <td>RobinMillarMP</td>\n",
       "      <td>AlyAShields, BetsiCadwaladr, healthdpt, NICECo...</td>\n",
       "      <td>nan</td>\n",
       "      <td>AlyAShields</td>\n",
       "    </tr>\n",
       "    <tr>\n",
       "      <th>4</th>\n",
       "      <td>@BetsiCadwaladr @CALL_247 @MindCymru @Research...</td>\n",
       "      <td>{'retweet_count': 4, 'reply_count': 1, 'like_c...</td>\n",
       "      <td>470801601</td>\n",
       "      <td>2020-10-09 08:08:07+00:00</td>\n",
       "      <td>1314477729371299840</td>\n",
       "      <td>[{'type': 'replied_to', 'id': '131447772667861...</td>\n",
       "      <td>470801601</td>\n",
       "      <td>1314477726678614016</td>\n",
       "      <td>{'entities': {'description': {'urls': [{'start...</td>\n",
       "      <td>{'entities': {'description': {'urls': [{'start...</td>\n",
       "      <td>{'url': 'https://api.twitter.com/2/tweets/sear...</td>\n",
       "      <td>NaN</td>\n",
       "      <td>AlyAShields</td>\n",
       "      <td>BetsiCadwaladr, CALL_247, MindCymru, ResearchW...</td>\n",
       "      <td>nan</td>\n",
       "      <td>AlyAShields</td>\n",
       "    </tr>\n",
       "  </tbody>\n",
       "</table>\n",
       "</div>"
      ],
      "text/plain": [
       "                                                text  \\\n",
       "0  @RobinMillarMP @AlyAShields @BetsiCadwaladr @h...   \n",
       "1  @RobinMillarMP @BetsiCadwaladr @healthdpt @NIC...   \n",
       "2  @RobinMillarMP @AlyAShields @BetsiCadwaladr @h...   \n",
       "3  @AlyAShields @BetsiCadwaladr @healthdpt @NICEC...   \n",
       "4  @BetsiCadwaladr @CALL_247 @MindCymru @Research...   \n",
       "\n",
       "                                      public_metrics  in_reply_to_user_id  \\\n",
       "0  {'retweet_count': 2, 'reply_count': 0, 'like_c...  1194759472087998464   \n",
       "1  {'retweet_count': 0, 'reply_count': 0, 'like_c...  1194759472087998464   \n",
       "2  {'retweet_count': 4, 'reply_count': 0, 'like_c...  1194759472087998464   \n",
       "3  {'retweet_count': 8, 'reply_count': 3, 'like_c...            470801601   \n",
       "4  {'retweet_count': 4, 'reply_count': 1, 'like_c...            470801601   \n",
       "\n",
       "                 created_at                   id  \\\n",
       "0 2020-10-09 12:17:15+00:00  1314540427874308096   \n",
       "1 2020-10-09 11:49:31+00:00  1314533448405614592   \n",
       "2 2020-10-09 10:12:43+00:00  1314509086596239360   \n",
       "3 2020-10-09 09:08:54+00:00  1314493025700077568   \n",
       "4 2020-10-09 08:08:07+00:00  1314477729371299840   \n",
       "\n",
       "                                   referenced_tweets            author_id  \\\n",
       "0  [{'type': 'replied_to', 'id': '131449302570007...   709375301583835136   \n",
       "1  [{'type': 'replied_to', 'id': '131449302570007...            470801601   \n",
       "2  [{'type': 'replied_to', 'id': '131449302570007...   816444807371517952   \n",
       "3  [{'type': 'replied_to', 'id': '131447772937129...  1194759472087998464   \n",
       "4  [{'type': 'replied_to', 'id': '131447772667861...            470801601   \n",
       "\n",
       "       conversation_id                                             author  \\\n",
       "0  1314477726678614016  {'description': 'Raising awareness for PANS Pa...   \n",
       "1  1314477726678614016  {'entities': {'description': {'urls': [{'start...   \n",
       "2  1314477726678614016  {'entities': {'url': {'urls': [{'start': 0, 'e...   \n",
       "3  1314477726678614016  {'entities': {'url': {'urls': [{'start': 0, 'e...   \n",
       "4  1314477726678614016  {'entities': {'description': {'urls': [{'start...   \n",
       "\n",
       "                                    in_reply_to_user  \\\n",
       "0  {'entities': {'url': {'urls': [{'start': 0, 'e...   \n",
       "1  {'entities': {'url': {'urls': [{'start': 0, 'e...   \n",
       "2  {'entities': {'url': {'urls': [{'start': 0, 'e...   \n",
       "3  {'entities': {'description': {'urls': [{'start...   \n",
       "4  {'entities': {'description': {'urls': [{'start...   \n",
       "\n",
       "                                             __twarc withheld  \\\n",
       "0  {'url': 'https://api.twitter.com/2/tweets/sear...      NaN   \n",
       "1  {'url': 'https://api.twitter.com/2/tweets/sear...      NaN   \n",
       "2  {'url': 'https://api.twitter.com/2/tweets/sear...      NaN   \n",
       "3  {'url': 'https://api.twitter.com/2/tweets/sear...      NaN   \n",
       "4  {'url': 'https://api.twitter.com/2/tweets/sear...      NaN   \n",
       "\n",
       "              user                                            mention  \\\n",
       "0  kathryn_gillett  RobinMillarMP, AlyAShields, BetsiCadwaladr, he...   \n",
       "1      AlyAShields  RobinMillarMP, BetsiCadwaladr, healthdpt, NICE...   \n",
       "2    soniaserrano0  RobinMillarMP, AlyAShields, BetsiCadwaladr, he...   \n",
       "3    RobinMillarMP  AlyAShields, BetsiCadwaladr, healthdpt, NICECo...   \n",
       "4      AlyAShields  BetsiCadwaladr, CALL_247, MindCymru, ResearchW...   \n",
       "\n",
       "  is_retweet  reply_to_user  \n",
       "0        nan  RobinMillarMP  \n",
       "1        nan  RobinMillarMP  \n",
       "2        nan  RobinMillarMP  \n",
       "3        nan    AlyAShields  \n",
       "4        nan    AlyAShields  "
      ]
     },
     "execution_count": 63,
     "metadata": {},
     "output_type": "execute_result"
    }
   ],
   "source": [
    "df_replies.head()"
   ]
  },
  {
   "cell_type": "code",
   "execution_count": 69,
   "id": "elder-chance",
   "metadata": {
    "execution": {
     "iopub.execute_input": "2022-07-27T08:41:58.673087Z",
     "iopub.status.busy": "2022-07-27T08:41:58.673087Z",
     "iopub.status.idle": "2022-07-27T08:41:58.752160Z",
     "shell.execute_reply": "2022-07-27T08:41:58.752160Z",
     "shell.execute_reply.started": "2022-07-27T08:41:58.673087Z"
    }
   },
   "outputs": [],
   "source": [
    "before_rp = df_replies[df_replies[\"created_at\"] <= \"2020-01-01 00:00:00+00:00\"]\n",
    "first_wave_rp = df_replies[df_replies[\"created_at\"].between(\"2020-01-21 00:00:00+00:00\", \"2020-09-01 00:00:00+00:00\")]\n",
    "after_first_rp = df_replies[df_replies[\"created_at\"] >= \"2020-09-01 00:00:00+00:00\"]"
   ]
  },
  {
   "cell_type": "markdown",
   "id": "accessory-church",
   "metadata": {},
   "source": [
    "## Before pandemic"
   ]
  },
  {
   "cell_type": "code",
   "execution_count": 72,
   "id": "grave-height",
   "metadata": {
    "execution": {
     "iopub.execute_input": "2022-07-27T08:42:13.896343Z",
     "iopub.status.busy": "2022-07-27T08:42:13.896343Z",
     "iopub.status.idle": "2022-07-27T08:42:13.900347Z",
     "shell.execute_reply": "2022-07-27T08:42:13.900347Z",
     "shell.execute_reply.started": "2022-07-27T08:42:13.896343Z"
    }
   },
   "outputs": [],
   "source": [
    "users = before_rp['user'].tolist()\n",
    "replies = before_rp['reply_to_user'].tolist()"
   ]
  },
  {
   "cell_type": "code",
   "execution_count": 73,
   "id": "limited-dodge",
   "metadata": {
    "execution": {
     "iopub.execute_input": "2022-07-27T08:42:14.125552Z",
     "iopub.status.busy": "2022-07-27T08:42:14.125552Z",
     "iopub.status.idle": "2022-07-27T08:42:14.140565Z",
     "shell.execute_reply": "2022-07-27T08:42:14.139563Z",
     "shell.execute_reply.started": "2022-07-27T08:42:14.125552Z"
    }
   },
   "outputs": [
    {
     "data": {
      "text/plain": [
       "'LDMSPR CherylJoanDavis'"
      ]
     },
     "execution_count": 73,
     "metadata": {},
     "output_type": "execute_result"
    }
   ],
   "source": [
    "# Creating adjadency list for network graph cration\n",
    "adj_list = [] \n",
    "\n",
    "for i in range(len(users)):\n",
    "    adj_list.append(users[i]+' '+replies[i].replace(',',' '))\n",
    "\n",
    "adj_list[0]"
   ]
  },
  {
   "cell_type": "code",
   "execution_count": 74,
   "id": "southwest-hours",
   "metadata": {
    "execution": {
     "iopub.execute_input": "2022-07-27T08:42:14.629383Z",
     "iopub.status.busy": "2022-07-27T08:42:14.629383Z",
     "iopub.status.idle": "2022-07-27T08:42:14.650401Z",
     "shell.execute_reply": "2022-07-27T08:42:14.649400Z",
     "shell.execute_reply.started": "2022-07-27T08:42:14.629383Z"
    },
    "tags": []
   },
   "outputs": [],
   "source": [
    "# Writing adjacency list to textfile\n",
    "\n",
    "textfile = open(\"before_adjlist_rp.txt\", \"w\")\n",
    "\n",
    "for element in adj_list:\n",
    "    textfile.write(element + \"\\n\")\n",
    "textfile.close()"
   ]
  },
  {
   "cell_type": "code",
   "execution_count": 75,
   "id": "metric-internet",
   "metadata": {
    "execution": {
     "iopub.execute_input": "2022-07-27T08:42:16.645169Z",
     "iopub.status.busy": "2022-07-27T08:42:16.645169Z",
     "iopub.status.idle": "2022-07-27T08:42:16.657180Z",
     "shell.execute_reply": "2022-07-27T08:42:16.657180Z",
     "shell.execute_reply.started": "2022-07-27T08:42:16.645169Z"
    },
    "tags": []
   },
   "outputs": [],
   "source": [
    "# Importing adjacency list to directed graph\n",
    "G = nx.Graph()\n",
    "G = nx.read_adjlist('before_adjlist_rp.txt', create_using = nx.DiGraph())\n",
    "nx.set_node_attributes(G, labels, \"party\")"
   ]
  },
  {
   "cell_type": "code",
   "execution_count": 76,
   "id": "employed-sport",
   "metadata": {
    "execution": {
     "iopub.execute_input": "2022-07-27T08:42:17.149968Z",
     "iopub.status.busy": "2022-07-27T08:42:17.149968Z",
     "iopub.status.idle": "2022-07-27T08:42:25.680505Z",
     "shell.execute_reply": "2022-07-27T08:42:25.679505Z",
     "shell.execute_reply.started": "2022-07-27T08:42:17.149968Z"
    },
    "tags": []
   },
   "outputs": [
    {
     "data": {
      "image/png": "[encoded data removed]",
      "text/plain": [
       "<Figure size 432x288 with 1 Axes>"
      ]
     },
     "metadata": {},
     "output_type": "display_data"
    }
   ],
   "source": [
    "nx.draw_networkx(G)"
   ]
  },
  {
   "cell_type": "code",
   "execution_count": 77,
   "id": "excellent-linux",
   "metadata": {
    "execution": {
     "iopub.execute_input": "2022-07-27T08:42:25.681506Z",
     "iopub.status.busy": "2022-07-27T08:42:25.681506Z",
     "iopub.status.idle": "2022-07-27T08:42:25.711533Z",
     "shell.execute_reply": "2022-07-27T08:42:25.710533Z",
     "shell.execute_reply.started": "2022-07-27T08:42:25.681506Z"
    }
   },
   "outputs": [],
   "source": [
    "nx.write_gexf(G, 'rp_before_network.gexf')"
   ]
  },
  {
   "cell_type": "markdown",
   "id": "macro-astrology",
   "metadata": {},
   "source": [
    "## First wave"
   ]
  },
  {
   "cell_type": "code",
   "execution_count": 78,
   "id": "excited-parliament",
   "metadata": {
    "execution": {
     "iopub.execute_input": "2022-07-27T08:42:32.203603Z",
     "iopub.status.busy": "2022-07-27T08:42:32.203603Z",
     "iopub.status.idle": "2022-07-27T08:42:32.212290Z",
     "shell.execute_reply": "2022-07-27T08:42:32.212290Z",
     "shell.execute_reply.started": "2022-07-27T08:42:32.203603Z"
    }
   },
   "outputs": [],
   "source": [
    "users = first_wave_rp['user'].tolist()\n",
    "replies = first_wave_rp['reply_to_user'].tolist()"
   ]
  },
  {
   "cell_type": "code",
   "execution_count": 79,
   "id": "understanding-blink",
   "metadata": {
    "execution": {
     "iopub.execute_input": "2022-07-27T08:42:32.431489Z",
     "iopub.status.busy": "2022-07-27T08:42:32.431489Z",
     "iopub.status.idle": "2022-07-27T08:42:32.446502Z",
     "shell.execute_reply": "2022-07-27T08:42:32.446502Z",
     "shell.execute_reply.started": "2022-07-27T08:42:32.431489Z"
    }
   },
   "outputs": [
    {
     "data": {
      "text/plain": [
       "'BrynSeiriol RobinMillarMP'"
      ]
     },
     "execution_count": 79,
     "metadata": {},
     "output_type": "execute_result"
    }
   ],
   "source": [
    "# Creating adjadency list for network graph cration\n",
    "adj_list = [] \n",
    "\n",
    "for i in range(len(users)):\n",
    "    adj_list.append(users[i]+' '+replies[i].replace(',',' '))\n",
    "\n",
    "adj_list[0]"
   ]
  },
  {
   "cell_type": "code",
   "execution_count": 80,
   "id": "dried-nowhere",
   "metadata": {
    "execution": {
     "iopub.execute_input": "2022-07-27T08:42:34.118951Z",
     "iopub.status.busy": "2022-07-27T08:42:34.118951Z",
     "iopub.status.idle": "2022-07-27T08:42:34.131961Z",
     "shell.execute_reply": "2022-07-27T08:42:34.131961Z",
     "shell.execute_reply.started": "2022-07-27T08:42:34.118951Z"
    },
    "tags": []
   },
   "outputs": [],
   "source": [
    "# Writing adjacency list to textfile\n",
    "\n",
    "textfile = open(\"first_wave_rp_adjlist_rp.txt\", \"w\")\n",
    "\n",
    "for element in adj_list:\n",
    "    textfile.write(element + \"\\n\")\n",
    "textfile.close()"
   ]
  },
  {
   "cell_type": "code",
   "execution_count": 81,
   "id": "attempted-coupon",
   "metadata": {
    "execution": {
     "iopub.execute_input": "2022-07-27T08:42:34.807597Z",
     "iopub.status.busy": "2022-07-27T08:42:34.806596Z",
     "iopub.status.idle": "2022-07-27T08:42:34.835627Z",
     "shell.execute_reply": "2022-07-27T08:42:34.835627Z",
     "shell.execute_reply.started": "2022-07-27T08:42:34.807597Z"
    },
    "tags": []
   },
   "outputs": [],
   "source": [
    "# Importing adjacency list to directed graph\n",
    "G = nx.Graph()\n",
    "G = nx.read_adjlist('first_wave_rp_adjlist_rp.txt', create_using = nx.DiGraph())\n",
    "nx.set_node_attributes(G, labels, \"party\")"
   ]
  },
  {
   "cell_type": "code",
   "execution_count": 82,
   "id": "black-payday",
   "metadata": {
    "execution": {
     "iopub.execute_input": "2022-07-27T08:42:35.631682Z",
     "iopub.status.busy": "2022-07-27T08:42:35.631682Z",
     "iopub.status.idle": "2022-07-27T08:43:23.217575Z",
     "shell.execute_reply": "2022-07-27T08:43:23.216574Z",
     "shell.execute_reply.started": "2022-07-27T08:42:35.631682Z"
    },
    "tags": []
   },
   "outputs": [
    {
     "data": {
      "image/png": "[encoded data removed]",
      "text/plain": [
       "<Figure size 432x288 with 1 Axes>"
      ]
     },
     "metadata": {},
     "output_type": "display_data"
    }
   ],
   "source": [
    "nx.draw_networkx(G)"
   ]
  },
  {
   "cell_type": "code",
   "execution_count": 83,
   "id": "jewish-ordinance",
   "metadata": {
    "execution": {
     "iopub.execute_input": "2022-07-27T08:43:23.218576Z",
     "iopub.status.busy": "2022-07-27T08:43:23.218576Z",
     "iopub.status.idle": "2022-07-27T08:43:23.296647Z",
     "shell.execute_reply": "2022-07-27T08:43:23.296647Z",
     "shell.execute_reply.started": "2022-07-27T08:43:23.218576Z"
    }
   },
   "outputs": [],
   "source": [
    "nx.write_gexf(G, 'rp_first_wave_network.gexf')"
   ]
  },
  {
   "cell_type": "markdown",
   "id": "unknown-input",
   "metadata": {},
   "source": [
    "## After first wave"
   ]
  },
  {
   "cell_type": "code",
   "execution_count": 84,
   "id": "atomic-ethernet",
   "metadata": {
    "execution": {
     "iopub.execute_input": "2022-07-27T08:43:23.297648Z",
     "iopub.status.busy": "2022-07-27T08:43:23.297648Z",
     "iopub.status.idle": "2022-07-27T08:43:23.312661Z",
     "shell.execute_reply": "2022-07-27T08:43:23.312661Z",
     "shell.execute_reply.started": "2022-07-27T08:43:23.297648Z"
    }
   },
   "outputs": [],
   "source": [
    "users = after_first_rp['user'].tolist()\n",
    "replies = after_first_rp['reply_to_user'].tolist()"
   ]
  },
  {
   "cell_type": "code",
   "execution_count": 85,
   "id": "informative-columbus",
   "metadata": {
    "execution": {
     "iopub.execute_input": "2022-07-27T08:43:23.313662Z",
     "iopub.status.busy": "2022-07-27T08:43:23.313662Z",
     "iopub.status.idle": "2022-07-27T08:43:23.358703Z",
     "shell.execute_reply": "2022-07-27T08:43:23.358703Z",
     "shell.execute_reply.started": "2022-07-27T08:43:23.313662Z"
    }
   },
   "outputs": [
    {
     "data": {
      "text/plain": [
       "'kathryn_gillett RobinMillarMP'"
      ]
     },
     "execution_count": 85,
     "metadata": {},
     "output_type": "execute_result"
    }
   ],
   "source": [
    "# Creating adjadency list for network graph cration\n",
    "adj_list = [] \n",
    "\n",
    "for i in range(len(users)):\n",
    "    adj_list.append(users[i]+' '+replies[i].replace(',',' '))\n",
    "\n",
    "adj_list[0]"
   ]
  },
  {
   "cell_type": "code",
   "execution_count": 86,
   "id": "revised-overview",
   "metadata": {
    "execution": {
     "iopub.execute_input": "2022-07-27T08:43:23.359705Z",
     "iopub.status.busy": "2022-07-27T08:43:23.359705Z",
     "iopub.status.idle": "2022-07-27T08:43:23.405746Z",
     "shell.execute_reply": "2022-07-27T08:43:23.405746Z",
     "shell.execute_reply.started": "2022-07-27T08:43:23.359705Z"
    },
    "tags": []
   },
   "outputs": [],
   "source": [
    "# Writing adjacency list to textfile\n",
    "\n",
    "textfile = open(\"after_first_rp_adjlist_rp.txt\", \"w\")\n",
    "\n",
    "for element in adj_list:\n",
    "    textfile.write(element + \"\\n\")\n",
    "textfile.close()"
   ]
  },
  {
   "cell_type": "code",
   "execution_count": 87,
   "id": "alpine-hotel",
   "metadata": {
    "execution": {
     "iopub.execute_input": "2022-07-27T08:43:23.406747Z",
     "iopub.status.busy": "2022-07-27T08:43:23.406747Z",
     "iopub.status.idle": "2022-07-27T08:43:23.590913Z",
     "shell.execute_reply": "2022-07-27T08:43:23.590913Z",
     "shell.execute_reply.started": "2022-07-27T08:43:23.406747Z"
    },
    "tags": []
   },
   "outputs": [],
   "source": [
    "# Importing adjacency list to directed graph\n",
    "G = nx.Graph()\n",
    "G = nx.read_adjlist('after_first_rp_adjlist_rp.txt', create_using = nx.DiGraph())\n",
    "nx.set_node_attributes(G, labels, \"party\")"
   ]
  },
  {
   "cell_type": "code",
   "execution_count": 88,
   "id": "fiscal-promotion",
   "metadata": {
    "execution": {
     "iopub.execute_input": "2022-07-27T08:43:23.591916Z",
     "iopub.status.busy": "2022-07-27T08:43:23.591916Z",
     "iopub.status.idle": "2022-07-27T09:00:13.847282Z",
     "shell.execute_reply": "2022-07-27T09:00:13.847282Z",
     "shell.execute_reply.started": "2022-07-27T08:43:23.591916Z"
    },
    "tags": []
   },
   "outputs": [
    {
     "data": {
      "image/png": "[encoded data removed]",
      "text/plain": [
       "<Figure size 432x288 with 1 Axes>"
      ]
     },
     "metadata": {},
     "output_type": "display_data"
    }
   ],
   "source": [
    "nx.draw_networkx(G)"
   ]
  },
  {
   "cell_type": "code",
   "execution_count": 89,
   "id": "peaceful-effects",
   "metadata": {
    "execution": {
     "iopub.execute_input": "2022-07-27T09:00:13.848282Z",
     "iopub.status.busy": "2022-07-27T09:00:13.848282Z",
     "iopub.status.idle": "2022-07-27T09:00:14.371354Z",
     "shell.execute_reply": "2022-07-27T09:00:14.371354Z",
     "shell.execute_reply.started": "2022-07-27T09:00:13.848282Z"
    }
   },
   "outputs": [],
   "source": [
    "nx.write_gexf(G, 'rp_after_first_network.gexf')"
   ]
  },
  {
   "cell_type": "code",
   "execution_count": 166,
   "id": "forward-auckland",
   "metadata": {
    "execution": {
     "iopub.execute_input": "2022-07-27T11:56:06.462045Z",
     "iopub.status.busy": "2022-07-27T11:56:06.461045Z",
     "iopub.status.idle": "2022-07-27T11:56:06.523102Z",
     "shell.execute_reply": "2022-07-27T11:56:06.523102Z",
     "shell.execute_reply.started": "2022-07-27T11:56:06.462045Z"
    }
   },
   "outputs": [],
   "source": [
    "df_sen = pd.read_csv('tweet_sentiment.csv', dtype={'id':'str'})"
   ]
  },
  {
   "cell_type": "code",
   "execution_count": 167,
   "id": "preceding-honor",
   "metadata": {
    "execution": {
     "iopub.execute_input": "2022-07-27T11:56:06.760317Z",
     "iopub.status.busy": "2022-07-27T11:56:06.760317Z",
     "iopub.status.idle": "2022-07-27T11:56:06.932472Z",
     "shell.execute_reply": "2022-07-27T11:56:06.931472Z",
     "shell.execute_reply.started": "2022-07-27T11:56:06.760317Z"
    }
   },
   "outputs": [],
   "source": [
    "df_sen = df_sen.sort_values(by=['id'])\n",
    "tweets = tweets.sort_values(by=['id'])\n",
    "#tweets"
   ]
  },
  {
   "cell_type": "code",
   "execution_count": 171,
   "id": "geographic-listing",
   "metadata": {
    "execution": {
     "iopub.execute_input": "2022-07-27T11:56:31.742481Z",
     "iopub.status.busy": "2022-07-27T11:56:31.742481Z",
     "iopub.status.idle": "2022-07-27T11:56:31.748487Z",
     "shell.execute_reply": "2022-07-27T11:56:31.748487Z",
     "shell.execute_reply.started": "2022-07-27T11:56:31.742481Z"
    }
   },
   "outputs": [],
   "source": [
    "sen = df_sen['sentiment'].tolist()\n",
    "tweets['sentiment'] = sen"
   ]
  },
  {
   "cell_type": "code",
   "execution_count": null,
   "id": "basic-final",
   "metadata": {},
   "outputs": [],
   "source": [
    "df_sen = pd.read_csv('tweet_sentiment.csv', dtype={'id':'str'})\n",
    "df_sen = df_sen.sort_values(by=['id'])\n",
    "tweets = tweets.sort_values(by=['id'])\n",
    "sen = df_sen['sentiment'].tolist()\n",
    "tweets['sentiment'] = sen"
   ]
  },
  {
   "cell_type": "code",
   "execution_count": 172,
   "id": "variable-dimension",
   "metadata": {
    "execution": {
     "iopub.execute_input": "2022-07-27T11:56:34.283398Z",
     "iopub.status.busy": "2022-07-27T11:56:34.283398Z",
     "iopub.status.idle": "2022-07-27T11:56:34.351460Z",
     "shell.execute_reply": "2022-07-27T11:56:34.350459Z",
     "shell.execute_reply.started": "2022-07-27T11:56:34.283398Z"
    }
   },
   "outputs": [
    {
     "data": {
      "text/html": [
       "<div>\n",
       "<style scoped>\n",
       "    .dataframe tbody tr th:only-of-type {\n",
       "        vertical-align: middle;\n",
       "    }\n",
       "\n",
       "    .dataframe tbody tr th {\n",
       "        vertical-align: top;\n",
       "    }\n",
       "\n",
       "    .dataframe thead th {\n",
       "        text-align: right;\n",
       "    }\n",
       "</style>\n",
       "<table border=\"1\" class=\"dataframe\">\n",
       "  <thead>\n",
       "    <tr style=\"text-align: right;\">\n",
       "      <th></th>\n",
       "      <th>text</th>\n",
       "      <th>public_metrics</th>\n",
       "      <th>in_reply_to_user_id</th>\n",
       "      <th>created_at</th>\n",
       "      <th>id</th>\n",
       "      <th>referenced_tweets</th>\n",
       "      <th>author_id</th>\n",
       "      <th>conversation_id</th>\n",
       "      <th>author</th>\n",
       "      <th>in_reply_to_user</th>\n",
       "      <th>__twarc</th>\n",
       "      <th>withheld</th>\n",
       "      <th>user</th>\n",
       "      <th>sentiment</th>\n",
       "    </tr>\n",
       "  </thead>\n",
       "  <tbody>\n",
       "    <tr>\n",
       "      <th>7362</th>\n",
       "      <td>@cj_dinenage @ChildrensComm @NHSEngland And au...</td>\n",
       "      <td>{'retweet_count': 6, 'reply_count': 3, 'like_c...</td>\n",
       "      <td>383238347</td>\n",
       "      <td>2019-10-10 13:20:38+00:00</td>\n",
       "      <td>1182284806446551041</td>\n",
       "      <td>[{'type': 'replied_to', 'id': '118228149622641...</td>\n",
       "      <td>269965177</td>\n",
       "      <td>1182281496226418688</td>\n",
       "      <td>{'profile_image_url': 'https://pbs.twimg.com/p...</td>\n",
       "      <td>{'profile_image_url': 'https://pbs.twimg.com/p...</td>\n",
       "      <td>{'url': 'https://api.twitter.com/2/tweets/sear...</td>\n",
       "      <td>NaN</td>\n",
       "      <td>TwittleyJules</td>\n",
       "      <td>Negative</td>\n",
       "    </tr>\n",
       "    <tr>\n",
       "      <th>7005</th>\n",
       "      <td>@cj_dinenage @ChildrensComm @NHSEngland And au...</td>\n",
       "      <td>{'retweet_count': 6, 'reply_count': 3, 'like_c...</td>\n",
       "      <td>383238347</td>\n",
       "      <td>2019-10-10 13:20:38+00:00</td>\n",
       "      <td>1182284806446551041</td>\n",
       "      <td>[{'type': 'replied_to', 'id': '118228149622641...</td>\n",
       "      <td>269965177</td>\n",
       "      <td>1182281496226418688</td>\n",
       "      <td>{'description': 'Mother of sons, writer of stu...</td>\n",
       "      <td>{'description': 'Gosport MP, mum, wife. RT ≠ e...</td>\n",
       "      <td>{'url': 'https://api.twitter.com/2/tweets/sear...</td>\n",
       "      <td>NaN</td>\n",
       "      <td>TwittleyJules</td>\n",
       "      <td>Negative</td>\n",
       "    </tr>\n",
       "    <tr>\n",
       "      <th>7361</th>\n",
       "      <td>@TwittleyJules @cj_dinenage @ChildrensComm @NH...</td>\n",
       "      <td>{'retweet_count': 8, 'reply_count': 3, 'like_c...</td>\n",
       "      <td>269965177</td>\n",
       "      <td>2019-10-10 13:38:36+00:00</td>\n",
       "      <td>1182289327113621506</td>\n",
       "      <td>[{'type': 'replied_to', 'id': '118228480644655...</td>\n",
       "      <td>331178901</td>\n",
       "      <td>1182281496226418688</td>\n",
       "      <td>{'profile_image_url': 'https://pbs.twimg.com/p...</td>\n",
       "      <td>{'profile_image_url': 'https://pbs.twimg.com/p...</td>\n",
       "      <td>{'url': 'https://api.twitter.com/2/tweets/sear...</td>\n",
       "      <td>NaN</td>\n",
       "      <td>KeeleyMP</td>\n",
       "      <td>Negative</td>\n",
       "    </tr>\n",
       "    <tr>\n",
       "      <th>7004</th>\n",
       "      <td>@TwittleyJules @cj_dinenage @ChildrensComm @NH...</td>\n",
       "      <td>{'retweet_count': 8, 'reply_count': 3, 'like_c...</td>\n",
       "      <td>269965177</td>\n",
       "      <td>2019-10-10 13:38:36+00:00</td>\n",
       "      <td>1182289327113621506</td>\n",
       "      <td>[{'type': 'replied_to', 'id': '118228480644655...</td>\n",
       "      <td>331178901</td>\n",
       "      <td>1182281496226418688</td>\n",
       "      <td>{'description': 'Labour MP for Worsley &amp; Eccle...</td>\n",
       "      <td>{'description': 'Mother of sons, writer of stu...</td>\n",
       "      <td>{'url': 'https://api.twitter.com/2/tweets/sear...</td>\n",
       "      <td>NaN</td>\n",
       "      <td>KeeleyMP</td>\n",
       "      <td>Negative</td>\n",
       "    </tr>\n",
       "    <tr>\n",
       "      <th>7360</th>\n",
       "      <td>@TwittleyJules @cj_dinenage @ChildrensComm @NH...</td>\n",
       "      <td>{'retweet_count': 0, 'reply_count': 0, 'like_c...</td>\n",
       "      <td>269965177</td>\n",
       "      <td>2019-10-10 13:41:21+00:00</td>\n",
       "      <td>1182290019698008068</td>\n",
       "      <td>[{'type': 'replied_to', 'id': '118228480644655...</td>\n",
       "      <td>1095754783191896064</td>\n",
       "      <td>1182281496226418688</td>\n",
       "      <td>{'profile_image_url': 'https://pbs.twimg.com/p...</td>\n",
       "      <td>{'profile_image_url': 'https://pbs.twimg.com/p...</td>\n",
       "      <td>{'url': 'https://api.twitter.com/2/tweets/sear...</td>\n",
       "      <td>NaN</td>\n",
       "      <td>AutismMH</td>\n",
       "      <td>Neutral</td>\n",
       "    </tr>\n",
       "    <tr>\n",
       "      <th>...</th>\n",
       "      <td>...</td>\n",
       "      <td>...</td>\n",
       "      <td>...</td>\n",
       "      <td>...</td>\n",
       "      <td>...</td>\n",
       "      <td>...</td>\n",
       "      <td>...</td>\n",
       "      <td>...</td>\n",
       "      <td>...</td>\n",
       "      <td>...</td>\n",
       "      <td>...</td>\n",
       "      <td>...</td>\n",
       "      <td>...</td>\n",
       "      <td>...</td>\n",
       "    </tr>\n",
       "    <tr>\n",
       "      <th>7444</th>\n",
       "      <td>@SteveBarclay @DHSCgovuk @NHSEngland Stop harm...</td>\n",
       "      <td>{'retweet_count': 0, 'reply_count': 0, 'like_c...</td>\n",
       "      <td>269788397</td>\n",
       "      <td>2022-07-26 06:08:19+00:00</td>\n",
       "      <td>1551811633952997377</td>\n",
       "      <td>[{'type': 'replied_to', 'id': '154443852042043...</td>\n",
       "      <td>1543742706010185728</td>\n",
       "      <td>1544438520420438016</td>\n",
       "      <td>{'profile_image_url': 'https://pbs.twimg.com/p...</td>\n",
       "      <td>{'profile_image_url': 'https://pbs.twimg.com/p...</td>\n",
       "      <td>{'url': 'https://api.twitter.com/2/tweets/sear...</td>\n",
       "      <td>NaN</td>\n",
       "      <td>avyetgotone</td>\n",
       "      <td>Negative</td>\n",
       "    </tr>\n",
       "    <tr>\n",
       "      <th>7443</th>\n",
       "      <td>@SteveBarclay @DHSCgovuk @NHSEngland @SteveBar...</td>\n",
       "      <td>{'retweet_count': 0, 'reply_count': 0, 'like_c...</td>\n",
       "      <td>269788397</td>\n",
       "      <td>2022-07-26 06:56:05+00:00</td>\n",
       "      <td>1551823655935565825</td>\n",
       "      <td>[{'type': 'replied_to', 'id': '154443852042043...</td>\n",
       "      <td>4891618599</td>\n",
       "      <td>1544438520420438016</td>\n",
       "      <td>{'profile_image_url': 'https://pbs.twimg.com/p...</td>\n",
       "      <td>{'profile_image_url': 'https://pbs.twimg.com/p...</td>\n",
       "      <td>{'url': 'https://api.twitter.com/2/tweets/sear...</td>\n",
       "      <td>NaN</td>\n",
       "      <td>londontenniscoa</td>\n",
       "      <td>Negative</td>\n",
       "    </tr>\n",
       "    <tr>\n",
       "      <th>7442</th>\n",
       "      <td>@SteveBarclay @DHSCgovuk @NHSEngland Let us ac...</td>\n",
       "      <td>{'retweet_count': 0, 'reply_count': 0, 'like_c...</td>\n",
       "      <td>269788397</td>\n",
       "      <td>2022-07-26 08:57:56+00:00</td>\n",
       "      <td>1551854318222966785</td>\n",
       "      <td>[{'type': 'quoted', 'id': '1551853949703045121...</td>\n",
       "      <td>376191717</td>\n",
       "      <td>1544438520420438016</td>\n",
       "      <td>{'profile_image_url': 'https://pbs.twimg.com/p...</td>\n",
       "      <td>{'profile_image_url': 'https://pbs.twimg.com/p...</td>\n",
       "      <td>{'url': 'https://api.twitter.com/2/tweets/sear...</td>\n",
       "      <td>NaN</td>\n",
       "      <td>prog_alli_asap</td>\n",
       "      <td>Neutral</td>\n",
       "    </tr>\n",
       "    <tr>\n",
       "      <th>7441</th>\n",
       "      <td>@SteveBarclay @DHSCgovuk @NHSEngland @SteveBar...</td>\n",
       "      <td>{'retweet_count': 0, 'reply_count': 0, 'like_c...</td>\n",
       "      <td>269788397</td>\n",
       "      <td>2022-07-26 09:01:17+00:00</td>\n",
       "      <td>1551855164616761344</td>\n",
       "      <td>[{'type': 'quoted', 'id': '1551853949703045121...</td>\n",
       "      <td>376191717</td>\n",
       "      <td>1544438520420438016</td>\n",
       "      <td>{'profile_image_url': 'https://pbs.twimg.com/p...</td>\n",
       "      <td>{'profile_image_url': 'https://pbs.twimg.com/p...</td>\n",
       "      <td>{'url': 'https://api.twitter.com/2/tweets/sear...</td>\n",
       "      <td>NaN</td>\n",
       "      <td>prog_alli_asap</td>\n",
       "      <td>Neutral</td>\n",
       "    </tr>\n",
       "    <tr>\n",
       "      <th>7440</th>\n",
       "      <td>@SteveBarclay @DHSCgovuk @NHSEngland Do someth...</td>\n",
       "      <td>{'retweet_count': 0, 'reply_count': 0, 'like_c...</td>\n",
       "      <td>269788397</td>\n",
       "      <td>2022-07-26 09:19:05+00:00</td>\n",
       "      <td>1551859640417357825</td>\n",
       "      <td>[{'type': 'replied_to', 'id': '154443852042043...</td>\n",
       "      <td>1551844821446410240</td>\n",
       "      <td>1544438520420438016</td>\n",
       "      <td>{'profile_image_url': 'https://abs.twimg.com/s...</td>\n",
       "      <td>{'profile_image_url': 'https://pbs.twimg.com/p...</td>\n",
       "      <td>{'url': 'https://api.twitter.com/2/tweets/sear...</td>\n",
       "      <td>NaN</td>\n",
       "      <td>btbybu</td>\n",
       "      <td>Positive</td>\n",
       "    </tr>\n",
       "  </tbody>\n",
       "</table>\n",
       "<p>52302 rows × 14 columns</p>\n",
       "</div>"
      ],
      "text/plain": [
       "                                                   text  \\\n",
       "7362  @cj_dinenage @ChildrensComm @NHSEngland And au...   \n",
       "7005  @cj_dinenage @ChildrensComm @NHSEngland And au...   \n",
       "7361  @TwittleyJules @cj_dinenage @ChildrensComm @NH...   \n",
       "7004  @TwittleyJules @cj_dinenage @ChildrensComm @NH...   \n",
       "7360  @TwittleyJules @cj_dinenage @ChildrensComm @NH...   \n",
       "...                                                 ...   \n",
       "7444  @SteveBarclay @DHSCgovuk @NHSEngland Stop harm...   \n",
       "7443  @SteveBarclay @DHSCgovuk @NHSEngland @SteveBar...   \n",
       "7442  @SteveBarclay @DHSCgovuk @NHSEngland Let us ac...   \n",
       "7441  @SteveBarclay @DHSCgovuk @NHSEngland @SteveBar...   \n",
       "7440  @SteveBarclay @DHSCgovuk @NHSEngland Do someth...   \n",
       "\n",
       "                                         public_metrics  in_reply_to_user_id  \\\n",
       "7362  {'retweet_count': 6, 'reply_count': 3, 'like_c...            383238347   \n",
       "7005  {'retweet_count': 6, 'reply_count': 3, 'like_c...            383238347   \n",
       "7361  {'retweet_count': 8, 'reply_count': 3, 'like_c...            269965177   \n",
       "7004  {'retweet_count': 8, 'reply_count': 3, 'like_c...            269965177   \n",
       "7360  {'retweet_count': 0, 'reply_count': 0, 'like_c...            269965177   \n",
       "...                                                 ...                  ...   \n",
       "7444  {'retweet_count': 0, 'reply_count': 0, 'like_c...            269788397   \n",
       "7443  {'retweet_count': 0, 'reply_count': 0, 'like_c...            269788397   \n",
       "7442  {'retweet_count': 0, 'reply_count': 0, 'like_c...            269788397   \n",
       "7441  {'retweet_count': 0, 'reply_count': 0, 'like_c...            269788397   \n",
       "7440  {'retweet_count': 0, 'reply_count': 0, 'like_c...            269788397   \n",
       "\n",
       "                    created_at                   id  \\\n",
       "7362 2019-10-10 13:20:38+00:00  1182284806446551041   \n",
       "7005 2019-10-10 13:20:38+00:00  1182284806446551041   \n",
       "7361 2019-10-10 13:38:36+00:00  1182289327113621506   \n",
       "7004 2019-10-10 13:38:36+00:00  1182289327113621506   \n",
       "7360 2019-10-10 13:41:21+00:00  1182290019698008068   \n",
       "...                        ...                  ...   \n",
       "7444 2022-07-26 06:08:19+00:00  1551811633952997377   \n",
       "7443 2022-07-26 06:56:05+00:00  1551823655935565825   \n",
       "7442 2022-07-26 08:57:56+00:00  1551854318222966785   \n",
       "7441 2022-07-26 09:01:17+00:00  1551855164616761344   \n",
       "7440 2022-07-26 09:19:05+00:00  1551859640417357825   \n",
       "\n",
       "                                      referenced_tweets            author_id  \\\n",
       "7362  [{'type': 'replied_to', 'id': '118228149622641...            269965177   \n",
       "7005  [{'type': 'replied_to', 'id': '118228149622641...            269965177   \n",
       "7361  [{'type': 'replied_to', 'id': '118228480644655...            331178901   \n",
       "7004  [{'type': 'replied_to', 'id': '118228480644655...            331178901   \n",
       "7360  [{'type': 'replied_to', 'id': '118228480644655...  1095754783191896064   \n",
       "...                                                 ...                  ...   \n",
       "7444  [{'type': 'replied_to', 'id': '154443852042043...  1543742706010185728   \n",
       "7443  [{'type': 'replied_to', 'id': '154443852042043...           4891618599   \n",
       "7442  [{'type': 'quoted', 'id': '1551853949703045121...            376191717   \n",
       "7441  [{'type': 'quoted', 'id': '1551853949703045121...            376191717   \n",
       "7440  [{'type': 'replied_to', 'id': '154443852042043...  1551844821446410240   \n",
       "\n",
       "          conversation_id                                             author  \\\n",
       "7362  1182281496226418688  {'profile_image_url': 'https://pbs.twimg.com/p...   \n",
       "7005  1182281496226418688  {'description': 'Mother of sons, writer of stu...   \n",
       "7361  1182281496226418688  {'profile_image_url': 'https://pbs.twimg.com/p...   \n",
       "7004  1182281496226418688  {'description': 'Labour MP for Worsley & Eccle...   \n",
       "7360  1182281496226418688  {'profile_image_url': 'https://pbs.twimg.com/p...   \n",
       "...                   ...                                                ...   \n",
       "7444  1544438520420438016  {'profile_image_url': 'https://pbs.twimg.com/p...   \n",
       "7443  1544438520420438016  {'profile_image_url': 'https://pbs.twimg.com/p...   \n",
       "7442  1544438520420438016  {'profile_image_url': 'https://pbs.twimg.com/p...   \n",
       "7441  1544438520420438016  {'profile_image_url': 'https://pbs.twimg.com/p...   \n",
       "7440  1544438520420438016  {'profile_image_url': 'https://abs.twimg.com/s...   \n",
       "\n",
       "                                       in_reply_to_user  \\\n",
       "7362  {'profile_image_url': 'https://pbs.twimg.com/p...   \n",
       "7005  {'description': 'Gosport MP, mum, wife. RT ≠ e...   \n",
       "7361  {'profile_image_url': 'https://pbs.twimg.com/p...   \n",
       "7004  {'description': 'Mother of sons, writer of stu...   \n",
       "7360  {'profile_image_url': 'https://pbs.twimg.com/p...   \n",
       "...                                                 ...   \n",
       "7444  {'profile_image_url': 'https://pbs.twimg.com/p...   \n",
       "7443  {'profile_image_url': 'https://pbs.twimg.com/p...   \n",
       "7442  {'profile_image_url': 'https://pbs.twimg.com/p...   \n",
       "7441  {'profile_image_url': 'https://pbs.twimg.com/p...   \n",
       "7440  {'profile_image_url': 'https://pbs.twimg.com/p...   \n",
       "\n",
       "                                                __twarc withheld  \\\n",
       "7362  {'url': 'https://api.twitter.com/2/tweets/sear...      NaN   \n",
       "7005  {'url': 'https://api.twitter.com/2/tweets/sear...      NaN   \n",
       "7361  {'url': 'https://api.twitter.com/2/tweets/sear...      NaN   \n",
       "7004  {'url': 'https://api.twitter.com/2/tweets/sear...      NaN   \n",
       "7360  {'url': 'https://api.twitter.com/2/tweets/sear...      NaN   \n",
       "...                                                 ...      ...   \n",
       "7444  {'url': 'https://api.twitter.com/2/tweets/sear...      NaN   \n",
       "7443  {'url': 'https://api.twitter.com/2/tweets/sear...      NaN   \n",
       "7442  {'url': 'https://api.twitter.com/2/tweets/sear...      NaN   \n",
       "7441  {'url': 'https://api.twitter.com/2/tweets/sear...      NaN   \n",
       "7440  {'url': 'https://api.twitter.com/2/tweets/sear...      NaN   \n",
       "\n",
       "                 user sentiment  \n",
       "7362    TwittleyJules  Negative  \n",
       "7005    TwittleyJules  Negative  \n",
       "7361         KeeleyMP  Negative  \n",
       "7004         KeeleyMP  Negative  \n",
       "7360         AutismMH   Neutral  \n",
       "...               ...       ...  \n",
       "7444      avyetgotone  Negative  \n",
       "7443  londontenniscoa  Negative  \n",
       "7442   prog_alli_asap   Neutral  \n",
       "7441   prog_alli_asap   Neutral  \n",
       "7440           btbybu  Positive  \n",
       "\n",
       "[52302 rows x 14 columns]"
      ]
     },
     "execution_count": 172,
     "metadata": {},
     "output_type": "execute_result"
    }
   ],
   "source": [
    "tweets"
   ]
  },
  {
   "cell_type": "code",
   "execution_count": null,
   "id": "engaging-ghana",
   "metadata": {},
   "outputs": [],
   "source": []
  }
 ],
 "metadata": {
  "kernelspec": {
   "display_name": "Python 3",
   "language": "python",
   "name": "python3"
  },
  "language_info": {
   "codemirror_mode": {
    "name": "ipython",
    "version": 3
   },
   "file_extension": ".py",
   "mimetype": "text/x-python",
   "name": "python",
   "nbconvert_exporter": "python",
   "pygments_lexer": "ipython3",
   "version": "3.8.5"
  },
  "widgets": {
   "application/vnd.jupyter.widget-state+json": {
    "state": {},
    "version_major": 2,
    "version_minor": 0
   }
  }
 },
 "nbformat": 4,
 "nbformat_minor": 5
}
