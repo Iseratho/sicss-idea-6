{
 "cells": [
  {
   "cell_type": "markdown",
   "id": "entitled-representative",
   "metadata": {},
   "source": [
    "# Import data"
   ]
  },
  {
   "cell_type": "code",
   "execution_count": 42,
   "id": "extended-bennett",
   "metadata": {
    "execution": {
     "iopub.execute_input": "2022-07-28T08:45:56.279710Z",
     "iopub.status.busy": "2022-07-28T08:45:56.278711Z",
     "iopub.status.idle": "2022-07-28T08:45:56.294709Z",
     "shell.execute_reply": "2022-07-28T08:45:56.293709Z",
     "shell.execute_reply.started": "2022-07-28T08:45:56.279710Z"
    }
   },
   "outputs": [],
   "source": [
    "import pandas as pd\n",
    "import re as re\n",
    "import networkx as nx\n",
    "import numpy as np"
   ]
  },
  {
   "cell_type": "code",
   "execution_count": 52,
   "id": "round-consideration",
   "metadata": {
    "execution": {
     "iopub.execute_input": "2022-07-28T08:50:43.774063Z",
     "iopub.status.busy": "2022-07-28T08:50:43.773060Z",
     "iopub.status.idle": "2022-07-28T08:51:00.460408Z",
     "shell.execute_reply": "2022-07-28T08:51:00.459405Z",
     "shell.execute_reply.started": "2022-07-28T08:50:43.774063Z"
    }
   },
   "outputs": [
    {
     "data": {
      "text/html": [
       "<div>\n",
       "<style scoped>\n",
       "    .dataframe tbody tr th:only-of-type {\n",
       "        vertical-align: middle;\n",
       "    }\n",
       "\n",
       "    .dataframe tbody tr th {\n",
       "        vertical-align: top;\n",
       "    }\n",
       "\n",
       "    .dataframe thead th {\n",
       "        text-align: right;\n",
       "    }\n",
       "</style>\n",
       "<table border=\"1\" class=\"dataframe\">\n",
       "  <thead>\n",
       "    <tr style=\"text-align: right;\">\n",
       "      <th></th>\n",
       "      <th>text</th>\n",
       "      <th>public_metrics</th>\n",
       "      <th>in_reply_to_user_id</th>\n",
       "      <th>created_at</th>\n",
       "      <th>id</th>\n",
       "      <th>referenced_tweets</th>\n",
       "      <th>author_id</th>\n",
       "      <th>conversation_id</th>\n",
       "      <th>author</th>\n",
       "      <th>in_reply_to_user</th>\n",
       "      <th>...</th>\n",
       "      <th>withheld</th>\n",
       "      <th>user</th>\n",
       "      <th>sentiment</th>\n",
       "      <th>emotion</th>\n",
       "      <th>sadness_bin</th>\n",
       "      <th>joy_bin</th>\n",
       "      <th>anger_bin</th>\n",
       "      <th>optimism_bin</th>\n",
       "      <th>hate</th>\n",
       "      <th>offensive</th>\n",
       "    </tr>\n",
       "  </thead>\n",
       "  <tbody>\n",
       "    <tr>\n",
       "      <th>7362</th>\n",
       "      <td>@cj_dinenage @ChildrensComm @NHSEngland And au...</td>\n",
       "      <td>{'retweet_count': 6, 'reply_count': 3, 'like_c...</td>\n",
       "      <td>383238347</td>\n",
       "      <td>2019-10-10 13:20:38+00:00</td>\n",
       "      <td>1182284806446551041</td>\n",
       "      <td>[{'type': 'replied_to', 'id': '118228149622641...</td>\n",
       "      <td>269965177</td>\n",
       "      <td>1182281496226418688</td>\n",
       "      <td>{'profile_image_url': 'https://pbs.twimg.com/p...</td>\n",
       "      <td>{'profile_image_url': 'https://pbs.twimg.com/p...</td>\n",
       "      <td>...</td>\n",
       "      <td>NaN</td>\n",
       "      <td>TwittleyJules</td>\n",
       "      <td>-1</td>\n",
       "      <td>sadness</td>\n",
       "      <td>1</td>\n",
       "      <td>0</td>\n",
       "      <td>0</td>\n",
       "      <td>0</td>\n",
       "      <td>0.008285</td>\n",
       "      <td>0.113663</td>\n",
       "    </tr>\n",
       "    <tr>\n",
       "      <th>7005</th>\n",
       "      <td>@cj_dinenage @ChildrensComm @NHSEngland And au...</td>\n",
       "      <td>{'retweet_count': 6, 'reply_count': 3, 'like_c...</td>\n",
       "      <td>383238347</td>\n",
       "      <td>2019-10-10 13:20:38+00:00</td>\n",
       "      <td>1182284806446551041</td>\n",
       "      <td>[{'type': 'replied_to', 'id': '118228149622641...</td>\n",
       "      <td>269965177</td>\n",
       "      <td>1182281496226418688</td>\n",
       "      <td>{'description': 'Mother of sons, writer of stu...</td>\n",
       "      <td>{'description': 'Gosport MP, mum, wife. RT ≠ e...</td>\n",
       "      <td>...</td>\n",
       "      <td>NaN</td>\n",
       "      <td>TwittleyJules</td>\n",
       "      <td>-1</td>\n",
       "      <td>sadness</td>\n",
       "      <td>1</td>\n",
       "      <td>0</td>\n",
       "      <td>0</td>\n",
       "      <td>0</td>\n",
       "      <td>0.008285</td>\n",
       "      <td>0.113663</td>\n",
       "    </tr>\n",
       "    <tr>\n",
       "      <th>7361</th>\n",
       "      <td>@TwittleyJules @cj_dinenage @ChildrensComm @NH...</td>\n",
       "      <td>{'retweet_count': 8, 'reply_count': 3, 'like_c...</td>\n",
       "      <td>269965177</td>\n",
       "      <td>2019-10-10 13:38:36+00:00</td>\n",
       "      <td>1182289327113621506</td>\n",
       "      <td>[{'type': 'replied_to', 'id': '118228480644655...</td>\n",
       "      <td>331178901</td>\n",
       "      <td>1182281496226418688</td>\n",
       "      <td>{'profile_image_url': 'https://pbs.twimg.com/p...</td>\n",
       "      <td>{'profile_image_url': 'https://pbs.twimg.com/p...</td>\n",
       "      <td>...</td>\n",
       "      <td>NaN</td>\n",
       "      <td>KeeleyMP</td>\n",
       "      <td>-1</td>\n",
       "      <td>sadness</td>\n",
       "      <td>1</td>\n",
       "      <td>0</td>\n",
       "      <td>0</td>\n",
       "      <td>0</td>\n",
       "      <td>0.008389</td>\n",
       "      <td>0.107454</td>\n",
       "    </tr>\n",
       "    <tr>\n",
       "      <th>7004</th>\n",
       "      <td>@TwittleyJules @cj_dinenage @ChildrensComm @NH...</td>\n",
       "      <td>{'retweet_count': 8, 'reply_count': 3, 'like_c...</td>\n",
       "      <td>269965177</td>\n",
       "      <td>2019-10-10 13:38:36+00:00</td>\n",
       "      <td>1182289327113621506</td>\n",
       "      <td>[{'type': 'replied_to', 'id': '118228480644655...</td>\n",
       "      <td>331178901</td>\n",
       "      <td>1182281496226418688</td>\n",
       "      <td>{'description': 'Labour MP for Worsley &amp; Eccle...</td>\n",
       "      <td>{'description': 'Mother of sons, writer of stu...</td>\n",
       "      <td>...</td>\n",
       "      <td>NaN</td>\n",
       "      <td>KeeleyMP</td>\n",
       "      <td>-1</td>\n",
       "      <td>sadness</td>\n",
       "      <td>1</td>\n",
       "      <td>0</td>\n",
       "      <td>0</td>\n",
       "      <td>0</td>\n",
       "      <td>0.008389</td>\n",
       "      <td>0.107454</td>\n",
       "    </tr>\n",
       "    <tr>\n",
       "      <th>7360</th>\n",
       "      <td>@TwittleyJules @cj_dinenage @ChildrensComm @NH...</td>\n",
       "      <td>{'retweet_count': 0, 'reply_count': 0, 'like_c...</td>\n",
       "      <td>269965177</td>\n",
       "      <td>2019-10-10 13:41:21+00:00</td>\n",
       "      <td>1182290019698008068</td>\n",
       "      <td>[{'type': 'replied_to', 'id': '118228480644655...</td>\n",
       "      <td>1095754783191896064</td>\n",
       "      <td>1182281496226418688</td>\n",
       "      <td>{'profile_image_url': 'https://pbs.twimg.com/p...</td>\n",
       "      <td>{'profile_image_url': 'https://pbs.twimg.com/p...</td>\n",
       "      <td>...</td>\n",
       "      <td>NaN</td>\n",
       "      <td>AutismMH</td>\n",
       "      <td>0</td>\n",
       "      <td>optimism</td>\n",
       "      <td>0</td>\n",
       "      <td>0</td>\n",
       "      <td>0</td>\n",
       "      <td>1</td>\n",
       "      <td>0.013243</td>\n",
       "      <td>0.063335</td>\n",
       "    </tr>\n",
       "  </tbody>\n",
       "</table>\n",
       "<p>5 rows × 21 columns</p>\n",
       "</div>"
      ],
      "text/plain": [
       "                                                   text  \\\n",
       "7362  @cj_dinenage @ChildrensComm @NHSEngland And au...   \n",
       "7005  @cj_dinenage @ChildrensComm @NHSEngland And au...   \n",
       "7361  @TwittleyJules @cj_dinenage @ChildrensComm @NH...   \n",
       "7004  @TwittleyJules @cj_dinenage @ChildrensComm @NH...   \n",
       "7360  @TwittleyJules @cj_dinenage @ChildrensComm @NH...   \n",
       "\n",
       "                                         public_metrics  in_reply_to_user_id  \\\n",
       "7362  {'retweet_count': 6, 'reply_count': 3, 'like_c...            383238347   \n",
       "7005  {'retweet_count': 6, 'reply_count': 3, 'like_c...            383238347   \n",
       "7361  {'retweet_count': 8, 'reply_count': 3, 'like_c...            269965177   \n",
       "7004  {'retweet_count': 8, 'reply_count': 3, 'like_c...            269965177   \n",
       "7360  {'retweet_count': 0, 'reply_count': 0, 'like_c...            269965177   \n",
       "\n",
       "                    created_at                   id  \\\n",
       "7362 2019-10-10 13:20:38+00:00  1182284806446551041   \n",
       "7005 2019-10-10 13:20:38+00:00  1182284806446551041   \n",
       "7361 2019-10-10 13:38:36+00:00  1182289327113621506   \n",
       "7004 2019-10-10 13:38:36+00:00  1182289327113621506   \n",
       "7360 2019-10-10 13:41:21+00:00  1182290019698008068   \n",
       "\n",
       "                                      referenced_tweets            author_id  \\\n",
       "7362  [{'type': 'replied_to', 'id': '118228149622641...            269965177   \n",
       "7005  [{'type': 'replied_to', 'id': '118228149622641...            269965177   \n",
       "7361  [{'type': 'replied_to', 'id': '118228480644655...            331178901   \n",
       "7004  [{'type': 'replied_to', 'id': '118228480644655...            331178901   \n",
       "7360  [{'type': 'replied_to', 'id': '118228480644655...  1095754783191896064   \n",
       "\n",
       "          conversation_id                                             author  \\\n",
       "7362  1182281496226418688  {'profile_image_url': 'https://pbs.twimg.com/p...   \n",
       "7005  1182281496226418688  {'description': 'Mother of sons, writer of stu...   \n",
       "7361  1182281496226418688  {'profile_image_url': 'https://pbs.twimg.com/p...   \n",
       "7004  1182281496226418688  {'description': 'Labour MP for Worsley & Eccle...   \n",
       "7360  1182281496226418688  {'profile_image_url': 'https://pbs.twimg.com/p...   \n",
       "\n",
       "                                       in_reply_to_user  ... withheld  \\\n",
       "7362  {'profile_image_url': 'https://pbs.twimg.com/p...  ...      NaN   \n",
       "7005  {'description': 'Gosport MP, mum, wife. RT ≠ e...  ...      NaN   \n",
       "7361  {'profile_image_url': 'https://pbs.twimg.com/p...  ...      NaN   \n",
       "7004  {'description': 'Mother of sons, writer of stu...  ...      NaN   \n",
       "7360  {'profile_image_url': 'https://pbs.twimg.com/p...  ...      NaN   \n",
       "\n",
       "               user sentiment   emotion sadness_bin  joy_bin  anger_bin  \\\n",
       "7362  TwittleyJules        -1   sadness           1        0          0   \n",
       "7005  TwittleyJules        -1   sadness           1        0          0   \n",
       "7361       KeeleyMP        -1   sadness           1        0          0   \n",
       "7004       KeeleyMP        -1   sadness           1        0          0   \n",
       "7360       AutismMH         0  optimism           0        0          0   \n",
       "\n",
       "      optimism_bin      hate  offensive  \n",
       "7362             0  0.008285   0.113663  \n",
       "7005             0  0.008285   0.113663  \n",
       "7361             0  0.008389   0.107454  \n",
       "7004             0  0.008389   0.107454  \n",
       "7360             1  0.013243   0.063335  \n",
       "\n",
       "[5 rows x 21 columns]"
      ]
     },
     "execution_count": 52,
     "metadata": {},
     "output_type": "execute_result"
    }
   ],
   "source": [
    "tweets = pd.read_json('conversations_flat.json', lines=True, convert_dates=True, dtype={'id':'str'})\n",
    "tweets = tweets.drop(['entities', 'reply_settings', 'source', 'possibly_sensitive', 'lang', 'context_annotations', 'attachments', 'geo'], axis=1)\n",
    "\n",
    "authors = tweets['author'].to_list()\n",
    "usernames = []\n",
    "for user in range(len(authors)):\n",
    "    usernames.append(tweets['author'][user]['username'])\n",
    "tweets['user'] = usernames\n",
    "\n",
    "# Sentiment\n",
    "df_sen = pd.read_csv('tweet_sentiment.csv', dtype={'id':'str'})\n",
    "df_sen = df_sen.sort_values(by=['id'])\n",
    "tweets = tweets.sort_values(by=['id'])\n",
    "sen = df_sen['sentiment'].tolist()\n",
    "tweets['sentiment'] = sen\n",
    "tweets['sentiment'] = tweets['sentiment'].str.replace('Positive', '1')\n",
    "tweets['sentiment'] = tweets['sentiment'].str.replace('Neutral', '0')\n",
    "tweets['sentiment'] = tweets['sentiment'].str.replace('Negative', '-1')\n",
    "tweets['sentiment'] = tweets['sentiment'].astype(int)\n",
    "\n",
    "# Emotion\n",
    "df_emo = pd.read_csv('tweet_emotion.csv', dtype={'id':'str'})\n",
    "df_emo = df_emo.sort_values(by=['id'])\n",
    "tweets = tweets.sort_values(by=['id'])\n",
    "emo = df_emo['emotion'].tolist()\n",
    "tweets['emotion'] = emo\n",
    "\n",
    "tweets['sadness_bin'] = tweets['emotion'].map(lambda x: 1 if x == 'sadness' else 0)\n",
    "tweets['joy_bin'] = tweets['emotion'].map(lambda x: 1 if x == 'joy' else 0)\n",
    "tweets['anger_bin'] = tweets['emotion'].map(lambda x: 1 if x == 'anger' else 0)\n",
    "tweets['optimism_bin'] = tweets['emotion'].map(lambda x: 1 if x == 'optimism' else 0)\n",
    "\n",
    "# Hate/offensive\n",
    "df_hate = pd.read_csv('tweet_hate_offensive.csv', dtype={'id':'str'})\n",
    "df_hate = df_hate.sort_values(by=['id'])\n",
    "tweets = tweets.sort_values(by=['id'])\n",
    "hate = df_hate['hate'].tolist()\n",
    "off = df_hate['offensive'].tolist()\n",
    "tweets['hate'] = hate\n",
    "tweets['offensive'] = off\n",
    "\n",
    "tweets.head()"
   ]
  },
  {
   "cell_type": "code",
   "execution_count": 53,
   "id": "caroline-plate",
   "metadata": {
    "execution": {
     "iopub.execute_input": "2022-07-28T08:51:21.193703Z",
     "iopub.status.busy": "2022-07-28T08:51:21.193703Z",
     "iopub.status.idle": "2022-07-28T08:51:21.243716Z",
     "shell.execute_reply": "2022-07-28T08:51:21.242715Z",
     "shell.execute_reply.started": "2022-07-28T08:51:21.193703Z"
    }
   },
   "outputs": [],
   "source": [
    "before = tweets[tweets[\"created_at\"] <= \"2020-01-01 00:00:00+00:00\"]\n",
    "first_wave = tweets[tweets[\"created_at\"].between(\"2020-01-21 00:00:00+00:00\", \"2020-09-01 00:00:00+00:00\")]\n",
    "after_first = tweets[tweets[\"created_at\"] >= \"2020-09-01 00:00:00+00:00\"]"
   ]
  },
  {
   "cell_type": "code",
   "execution_count": 54,
   "id": "modified-machine",
   "metadata": {
    "execution": {
     "iopub.execute_input": "2022-07-28T08:51:21.605715Z",
     "iopub.status.busy": "2022-07-28T08:51:21.604716Z",
     "iopub.status.idle": "2022-07-28T08:51:21.836716Z",
     "shell.execute_reply": "2022-07-28T08:51:21.835713Z",
     "shell.execute_reply.started": "2022-07-28T08:51:21.605715Z"
    }
   },
   "outputs": [
    {
     "data": {
      "text/html": [
       "<div>\n",
       "<style scoped>\n",
       "    .dataframe tbody tr th:only-of-type {\n",
       "        vertical-align: middle;\n",
       "    }\n",
       "\n",
       "    .dataframe tbody tr th {\n",
       "        vertical-align: top;\n",
       "    }\n",
       "\n",
       "    .dataframe thead th {\n",
       "        text-align: right;\n",
       "    }\n",
       "</style>\n",
       "<table border=\"1\" class=\"dataframe\">\n",
       "  <thead>\n",
       "    <tr style=\"text-align: right;\">\n",
       "      <th></th>\n",
       "      <th>text</th>\n",
       "      <th>public_metrics</th>\n",
       "      <th>in_reply_to_user_id</th>\n",
       "      <th>created_at</th>\n",
       "      <th>id</th>\n",
       "      <th>referenced_tweets</th>\n",
       "      <th>author_id</th>\n",
       "      <th>conversation_id</th>\n",
       "      <th>author</th>\n",
       "      <th>in_reply_to_user</th>\n",
       "      <th>...</th>\n",
       "      <th>user</th>\n",
       "      <th>sentiment</th>\n",
       "      <th>emotion</th>\n",
       "      <th>sadness_bin</th>\n",
       "      <th>joy_bin</th>\n",
       "      <th>anger_bin</th>\n",
       "      <th>optimism_bin</th>\n",
       "      <th>hate</th>\n",
       "      <th>offensive</th>\n",
       "      <th>mention</th>\n",
       "    </tr>\n",
       "  </thead>\n",
       "  <tbody>\n",
       "    <tr>\n",
       "      <th>7362</th>\n",
       "      <td>@cj_dinenage @ChildrensComm @NHSEngland And au...</td>\n",
       "      <td>{'retweet_count': 6, 'reply_count': 3, 'like_c...</td>\n",
       "      <td>383238347</td>\n",
       "      <td>2019-10-10 13:20:38+00:00</td>\n",
       "      <td>1182284806446551041</td>\n",
       "      <td>[{'type': 'replied_to', 'id': '118228149622641...</td>\n",
       "      <td>269965177</td>\n",
       "      <td>1182281496226418688</td>\n",
       "      <td>{'profile_image_url': 'https://pbs.twimg.com/p...</td>\n",
       "      <td>{'profile_image_url': 'https://pbs.twimg.com/p...</td>\n",
       "      <td>...</td>\n",
       "      <td>TwittleyJules</td>\n",
       "      <td>-1</td>\n",
       "      <td>sadness</td>\n",
       "      <td>1</td>\n",
       "      <td>0</td>\n",
       "      <td>0</td>\n",
       "      <td>0</td>\n",
       "      <td>0.008285</td>\n",
       "      <td>0.113663</td>\n",
       "      <td>cj_dinenage, ChildrensComm, NHSEngland</td>\n",
       "    </tr>\n",
       "    <tr>\n",
       "      <th>7005</th>\n",
       "      <td>@cj_dinenage @ChildrensComm @NHSEngland And au...</td>\n",
       "      <td>{'retweet_count': 6, 'reply_count': 3, 'like_c...</td>\n",
       "      <td>383238347</td>\n",
       "      <td>2019-10-10 13:20:38+00:00</td>\n",
       "      <td>1182284806446551041</td>\n",
       "      <td>[{'type': 'replied_to', 'id': '118228149622641...</td>\n",
       "      <td>269965177</td>\n",
       "      <td>1182281496226418688</td>\n",
       "      <td>{'description': 'Mother of sons, writer of stu...</td>\n",
       "      <td>{'description': 'Gosport MP, mum, wife. RT ≠ e...</td>\n",
       "      <td>...</td>\n",
       "      <td>TwittleyJules</td>\n",
       "      <td>-1</td>\n",
       "      <td>sadness</td>\n",
       "      <td>1</td>\n",
       "      <td>0</td>\n",
       "      <td>0</td>\n",
       "      <td>0</td>\n",
       "      <td>0.008285</td>\n",
       "      <td>0.113663</td>\n",
       "      <td>cj_dinenage, ChildrensComm, NHSEngland</td>\n",
       "    </tr>\n",
       "    <tr>\n",
       "      <th>7361</th>\n",
       "      <td>@TwittleyJules @cj_dinenage @ChildrensComm @NH...</td>\n",
       "      <td>{'retweet_count': 8, 'reply_count': 3, 'like_c...</td>\n",
       "      <td>269965177</td>\n",
       "      <td>2019-10-10 13:38:36+00:00</td>\n",
       "      <td>1182289327113621506</td>\n",
       "      <td>[{'type': 'replied_to', 'id': '118228480644655...</td>\n",
       "      <td>331178901</td>\n",
       "      <td>1182281496226418688</td>\n",
       "      <td>{'profile_image_url': 'https://pbs.twimg.com/p...</td>\n",
       "      <td>{'profile_image_url': 'https://pbs.twimg.com/p...</td>\n",
       "      <td>...</td>\n",
       "      <td>KeeleyMP</td>\n",
       "      <td>-1</td>\n",
       "      <td>sadness</td>\n",
       "      <td>1</td>\n",
       "      <td>0</td>\n",
       "      <td>0</td>\n",
       "      <td>0</td>\n",
       "      <td>0.008389</td>\n",
       "      <td>0.107454</td>\n",
       "      <td>TwittleyJules, cj_dinenage, ChildrensComm, NHS...</td>\n",
       "    </tr>\n",
       "    <tr>\n",
       "      <th>7004</th>\n",
       "      <td>@TwittleyJules @cj_dinenage @ChildrensComm @NH...</td>\n",
       "      <td>{'retweet_count': 8, 'reply_count': 3, 'like_c...</td>\n",
       "      <td>269965177</td>\n",
       "      <td>2019-10-10 13:38:36+00:00</td>\n",
       "      <td>1182289327113621506</td>\n",
       "      <td>[{'type': 'replied_to', 'id': '118228480644655...</td>\n",
       "      <td>331178901</td>\n",
       "      <td>1182281496226418688</td>\n",
       "      <td>{'description': 'Labour MP for Worsley &amp; Eccle...</td>\n",
       "      <td>{'description': 'Mother of sons, writer of stu...</td>\n",
       "      <td>...</td>\n",
       "      <td>KeeleyMP</td>\n",
       "      <td>-1</td>\n",
       "      <td>sadness</td>\n",
       "      <td>1</td>\n",
       "      <td>0</td>\n",
       "      <td>0</td>\n",
       "      <td>0</td>\n",
       "      <td>0.008389</td>\n",
       "      <td>0.107454</td>\n",
       "      <td>TwittleyJules, cj_dinenage, ChildrensComm, NHS...</td>\n",
       "    </tr>\n",
       "    <tr>\n",
       "      <th>7360</th>\n",
       "      <td>@TwittleyJules @cj_dinenage @ChildrensComm @NH...</td>\n",
       "      <td>{'retweet_count': 0, 'reply_count': 0, 'like_c...</td>\n",
       "      <td>269965177</td>\n",
       "      <td>2019-10-10 13:41:21+00:00</td>\n",
       "      <td>1182290019698008068</td>\n",
       "      <td>[{'type': 'replied_to', 'id': '118228480644655...</td>\n",
       "      <td>1095754783191896064</td>\n",
       "      <td>1182281496226418688</td>\n",
       "      <td>{'profile_image_url': 'https://pbs.twimg.com/p...</td>\n",
       "      <td>{'profile_image_url': 'https://pbs.twimg.com/p...</td>\n",
       "      <td>...</td>\n",
       "      <td>AutismMH</td>\n",
       "      <td>0</td>\n",
       "      <td>optimism</td>\n",
       "      <td>0</td>\n",
       "      <td>0</td>\n",
       "      <td>0</td>\n",
       "      <td>1</td>\n",
       "      <td>0.013243</td>\n",
       "      <td>0.063335</td>\n",
       "      <td>TwittleyJules, cj_dinenage, ChildrensComm, NHS...</td>\n",
       "    </tr>\n",
       "  </tbody>\n",
       "</table>\n",
       "<p>5 rows × 22 columns</p>\n",
       "</div>"
      ],
      "text/plain": [
       "                                                   text  \\\n",
       "7362  @cj_dinenage @ChildrensComm @NHSEngland And au...   \n",
       "7005  @cj_dinenage @ChildrensComm @NHSEngland And au...   \n",
       "7361  @TwittleyJules @cj_dinenage @ChildrensComm @NH...   \n",
       "7004  @TwittleyJules @cj_dinenage @ChildrensComm @NH...   \n",
       "7360  @TwittleyJules @cj_dinenage @ChildrensComm @NH...   \n",
       "\n",
       "                                         public_metrics  in_reply_to_user_id  \\\n",
       "7362  {'retweet_count': 6, 'reply_count': 3, 'like_c...            383238347   \n",
       "7005  {'retweet_count': 6, 'reply_count': 3, 'like_c...            383238347   \n",
       "7361  {'retweet_count': 8, 'reply_count': 3, 'like_c...            269965177   \n",
       "7004  {'retweet_count': 8, 'reply_count': 3, 'like_c...            269965177   \n",
       "7360  {'retweet_count': 0, 'reply_count': 0, 'like_c...            269965177   \n",
       "\n",
       "                    created_at                   id  \\\n",
       "7362 2019-10-10 13:20:38+00:00  1182284806446551041   \n",
       "7005 2019-10-10 13:20:38+00:00  1182284806446551041   \n",
       "7361 2019-10-10 13:38:36+00:00  1182289327113621506   \n",
       "7004 2019-10-10 13:38:36+00:00  1182289327113621506   \n",
       "7360 2019-10-10 13:41:21+00:00  1182290019698008068   \n",
       "\n",
       "                                      referenced_tweets            author_id  \\\n",
       "7362  [{'type': 'replied_to', 'id': '118228149622641...            269965177   \n",
       "7005  [{'type': 'replied_to', 'id': '118228149622641...            269965177   \n",
       "7361  [{'type': 'replied_to', 'id': '118228480644655...            331178901   \n",
       "7004  [{'type': 'replied_to', 'id': '118228480644655...            331178901   \n",
       "7360  [{'type': 'replied_to', 'id': '118228480644655...  1095754783191896064   \n",
       "\n",
       "          conversation_id                                             author  \\\n",
       "7362  1182281496226418688  {'profile_image_url': 'https://pbs.twimg.com/p...   \n",
       "7005  1182281496226418688  {'description': 'Mother of sons, writer of stu...   \n",
       "7361  1182281496226418688  {'profile_image_url': 'https://pbs.twimg.com/p...   \n",
       "7004  1182281496226418688  {'description': 'Labour MP for Worsley & Eccle...   \n",
       "7360  1182281496226418688  {'profile_image_url': 'https://pbs.twimg.com/p...   \n",
       "\n",
       "                                       in_reply_to_user  ...           user  \\\n",
       "7362  {'profile_image_url': 'https://pbs.twimg.com/p...  ...  TwittleyJules   \n",
       "7005  {'description': 'Gosport MP, mum, wife. RT ≠ e...  ...  TwittleyJules   \n",
       "7361  {'profile_image_url': 'https://pbs.twimg.com/p...  ...       KeeleyMP   \n",
       "7004  {'description': 'Mother of sons, writer of stu...  ...       KeeleyMP   \n",
       "7360  {'profile_image_url': 'https://pbs.twimg.com/p...  ...       AutismMH   \n",
       "\n",
       "     sentiment   emotion  sadness_bin joy_bin  anger_bin  optimism_bin  \\\n",
       "7362        -1   sadness            1       0          0             0   \n",
       "7005        -1   sadness            1       0          0             0   \n",
       "7361        -1   sadness            1       0          0             0   \n",
       "7004        -1   sadness            1       0          0             0   \n",
       "7360         0  optimism            0       0          0             1   \n",
       "\n",
       "          hate  offensive                                            mention  \n",
       "7362  0.008285   0.113663             cj_dinenage, ChildrensComm, NHSEngland  \n",
       "7005  0.008285   0.113663             cj_dinenage, ChildrensComm, NHSEngland  \n",
       "7361  0.008389   0.107454  TwittleyJules, cj_dinenage, ChildrensComm, NHS...  \n",
       "7004  0.008389   0.107454  TwittleyJules, cj_dinenage, ChildrensComm, NHS...  \n",
       "7360  0.013243   0.063335  TwittleyJules, cj_dinenage, ChildrensComm, NHS...  \n",
       "\n",
       "[5 rows x 22 columns]"
      ]
     },
     "execution_count": 54,
     "metadata": {},
     "output_type": "execute_result"
    }
   ],
   "source": [
    "def find_at_word(text):\n",
    "    word=re.findall(r'(?<=@)\\w+',text)\n",
    "    return \", \".join(word)\n",
    "\n",
    "tweets['mention']=tweets['text'].apply(lambda x: find_at_word(x))\n",
    "tweets.head()"
   ]
  },
  {
   "cell_type": "code",
   "execution_count": 55,
   "id": "conventional-hometown",
   "metadata": {
    "execution": {
     "iopub.execute_input": "2022-07-28T08:51:22.191961Z",
     "iopub.status.busy": "2022-07-28T08:51:22.191961Z",
     "iopub.status.idle": "2022-07-28T08:51:22.383971Z",
     "shell.execute_reply": "2022-07-28T08:51:22.382969Z",
     "shell.execute_reply.started": "2022-07-28T08:51:22.191961Z"
    }
   },
   "outputs": [
    {
     "name": "stderr",
     "output_type": "stream",
     "text": [
      "<ipython-input-55-43faed23c8da>:1: SettingWithCopyWarning: \n",
      "A value is trying to be set on a copy of a slice from a DataFrame.\n",
      "Try using .loc[row_indexer,col_indexer] = value instead\n",
      "\n",
      "See the caveats in the documentation: https://pandas.pydata.org/pandas-docs/stable/user_guide/indexing.html#returning-a-view-versus-a-copy\n",
      "  before['mention']=before['text'].apply(lambda x: find_at_word(x))\n",
      "<ipython-input-55-43faed23c8da>:2: SettingWithCopyWarning: \n",
      "A value is trying to be set on a copy of a slice from a DataFrame.\n",
      "Try using .loc[row_indexer,col_indexer] = value instead\n",
      "\n",
      "See the caveats in the documentation: https://pandas.pydata.org/pandas-docs/stable/user_guide/indexing.html#returning-a-view-versus-a-copy\n",
      "  first_wave['mention']=first_wave['text'].apply(lambda x: find_at_word(x))\n",
      "<ipython-input-55-43faed23c8da>:3: SettingWithCopyWarning: \n",
      "A value is trying to be set on a copy of a slice from a DataFrame.\n",
      "Try using .loc[row_indexer,col_indexer] = value instead\n",
      "\n",
      "See the caveats in the documentation: https://pandas.pydata.org/pandas-docs/stable/user_guide/indexing.html#returning-a-view-versus-a-copy\n",
      "  after_first['mention']=after_first['text'].apply(lambda x: find_at_word(x))\n"
     ]
    }
   ],
   "source": [
    "before['mention']=before['text'].apply(lambda x: find_at_word(x))\n",
    "first_wave['mention']=first_wave['text'].apply(lambda x: find_at_word(x))\n",
    "after_first['mention']=after_first['text'].apply(lambda x: find_at_word(x))"
   ]
  },
  {
   "cell_type": "markdown",
   "id": "mental-order",
   "metadata": {},
   "source": [
    "# Matching usernames to parties"
   ]
  },
  {
   "cell_type": "code",
   "execution_count": 56,
   "id": "legal-peter",
   "metadata": {
    "execution": {
     "iopub.execute_input": "2022-07-28T08:51:44.115911Z",
     "iopub.status.busy": "2022-07-28T08:51:44.115911Z",
     "iopub.status.idle": "2022-07-28T08:51:45.487906Z",
     "shell.execute_reply": "2022-07-28T08:51:45.487906Z",
     "shell.execute_reply.started": "2022-07-28T08:51:44.115911Z"
    }
   },
   "outputs": [],
   "source": [
    "users = pd.read_json('mps_flat.json', lines=True, convert_dates=True)\n",
    "all_mps = pd.read_excel('mps_uk_2020_.xlsx')\n",
    "pols = all_mps['uid'].tolist()"
   ]
  },
  {
   "cell_type": "code",
   "execution_count": 57,
   "id": "married-sound",
   "metadata": {
    "execution": {
     "iopub.execute_input": "2022-07-28T08:51:45.489906Z",
     "iopub.status.busy": "2022-07-28T08:51:45.488906Z",
     "iopub.status.idle": "2022-07-28T08:51:45.534906Z",
     "shell.execute_reply": "2022-07-28T08:51:45.533908Z",
     "shell.execute_reply.started": "2022-07-28T08:51:45.489906Z"
    }
   },
   "outputs": [
    {
     "data": {
      "text/plain": [
       "0      Conservative\n",
       "1      Conservative\n",
       "2      Conservative\n",
       "3      Conservative\n",
       "4      Conservative\n",
       "           ...     \n",
       "511    Conservative\n",
       "512    Conservative\n",
       "513    Conservative\n",
       "514    Labour Co-op\n",
       "515    Conservative\n",
       "Name: party, Length: 516, dtype: object"
      ]
     },
     "execution_count": 57,
     "metadata": {},
     "output_type": "execute_result"
    }
   ],
   "source": [
    "all_mps = all_mps.drop_duplicates(subset=['uid'])\n",
    "df_merge = users.merge(all_mps, right_on='uid', left_on='id', how='inner')\n",
    "df_merge['party']"
   ]
  },
  {
   "cell_type": "code",
   "execution_count": 58,
   "id": "impressed-twist",
   "metadata": {
    "execution": {
     "iopub.execute_input": "2022-07-28T08:51:45.535906Z",
     "iopub.status.busy": "2022-07-28T08:51:45.535906Z",
     "iopub.status.idle": "2022-07-28T08:51:45.548910Z",
     "shell.execute_reply": "2022-07-28T08:51:45.548910Z",
     "shell.execute_reply.started": "2022-07-28T08:51:45.535906Z"
    }
   },
   "outputs": [],
   "source": [
    "# Constructing labels for use in Networkx node attributes\n",
    "labels = zip(df_merge.username, df_merge.party)\n",
    "labels = dict(labels)"
   ]
  },
  {
   "cell_type": "markdown",
   "id": "industrial-volleyball",
   "metadata": {},
   "source": [
    "# Sentiment / hate / offensive per user"
   ]
  },
  {
   "cell_type": "code",
   "execution_count": 59,
   "id": "occupational-mitchell",
   "metadata": {
    "execution": {
     "iopub.execute_input": "2022-07-28T08:51:47.531327Z",
     "iopub.status.busy": "2022-07-28T08:51:47.531327Z",
     "iopub.status.idle": "2022-07-28T08:51:47.665325Z",
     "shell.execute_reply": "2022-07-28T08:51:47.665325Z",
     "shell.execute_reply.started": "2022-07-28T08:51:47.531327Z"
    }
   },
   "outputs": [],
   "source": [
    "sen_users_before = before.groupby('user').mean()\n",
    "sen_users_first = first_wave.groupby('user').mean()\n",
    "sen_users_after = after_first.groupby('user').mean()"
   ]
  },
  {
   "cell_type": "code",
   "execution_count": 60,
   "id": "dirty-burns",
   "metadata": {
    "execution": {
     "iopub.execute_input": "2022-07-28T08:51:47.733325Z",
     "iopub.status.busy": "2022-07-28T08:51:47.733325Z",
     "iopub.status.idle": "2022-07-28T08:51:47.758325Z",
     "shell.execute_reply": "2022-07-28T08:51:47.757326Z",
     "shell.execute_reply.started": "2022-07-28T08:51:47.733325Z"
    }
   },
   "outputs": [
    {
     "data": {
      "text/html": [
       "<div>\n",
       "<style scoped>\n",
       "    .dataframe tbody tr th:only-of-type {\n",
       "        vertical-align: middle;\n",
       "    }\n",
       "\n",
       "    .dataframe tbody tr th {\n",
       "        vertical-align: top;\n",
       "    }\n",
       "\n",
       "    .dataframe thead th {\n",
       "        text-align: right;\n",
       "    }\n",
       "</style>\n",
       "<table border=\"1\" class=\"dataframe\">\n",
       "  <thead>\n",
       "    <tr style=\"text-align: right;\">\n",
       "      <th></th>\n",
       "      <th>in_reply_to_user_id</th>\n",
       "      <th>author_id</th>\n",
       "      <th>conversation_id</th>\n",
       "      <th>sentiment</th>\n",
       "      <th>sadness_bin</th>\n",
       "      <th>joy_bin</th>\n",
       "      <th>anger_bin</th>\n",
       "      <th>optimism_bin</th>\n",
       "      <th>hate</th>\n",
       "      <th>offensive</th>\n",
       "    </tr>\n",
       "    <tr>\n",
       "      <th>user</th>\n",
       "      <th></th>\n",
       "      <th></th>\n",
       "      <th></th>\n",
       "      <th></th>\n",
       "      <th></th>\n",
       "      <th></th>\n",
       "      <th></th>\n",
       "      <th></th>\n",
       "      <th></th>\n",
       "      <th></th>\n",
       "    </tr>\n",
       "  </thead>\n",
       "  <tbody>\n",
       "    <tr>\n",
       "      <th>101_Fritz</th>\n",
       "      <td>137118114.0</td>\n",
       "      <td>2.276355e+08</td>\n",
       "      <td>1.187388e+18</td>\n",
       "      <td>0.0</td>\n",
       "      <td>0.5</td>\n",
       "      <td>0.0</td>\n",
       "      <td>0.5</td>\n",
       "      <td>0.0</td>\n",
       "      <td>0.010138</td>\n",
       "      <td>0.059381</td>\n",
       "    </tr>\n",
       "    <tr>\n",
       "      <th>10GrandToes</th>\n",
       "      <td>137118114.0</td>\n",
       "      <td>3.867608e+08</td>\n",
       "      <td>1.187388e+18</td>\n",
       "      <td>1.0</td>\n",
       "      <td>0.0</td>\n",
       "      <td>0.0</td>\n",
       "      <td>0.0</td>\n",
       "      <td>1.0</td>\n",
       "      <td>0.015040</td>\n",
       "      <td>0.031897</td>\n",
       "    </tr>\n",
       "    <tr>\n",
       "      <th>1Joshwa</th>\n",
       "      <td>137118114.0</td>\n",
       "      <td>2.187150e+07</td>\n",
       "      <td>1.187388e+18</td>\n",
       "      <td>1.0</td>\n",
       "      <td>0.0</td>\n",
       "      <td>0.0</td>\n",
       "      <td>0.0</td>\n",
       "      <td>1.0</td>\n",
       "      <td>0.012633</td>\n",
       "      <td>0.033017</td>\n",
       "    </tr>\n",
       "    <tr>\n",
       "      <th>1PadreWil</th>\n",
       "      <td>137118114.0</td>\n",
       "      <td>9.639001e+17</td>\n",
       "      <td>1.187388e+18</td>\n",
       "      <td>1.0</td>\n",
       "      <td>0.0</td>\n",
       "      <td>0.0</td>\n",
       "      <td>0.0</td>\n",
       "      <td>1.0</td>\n",
       "      <td>0.010447</td>\n",
       "      <td>0.040298</td>\n",
       "    </tr>\n",
       "    <tr>\n",
       "      <th>4AdsthePoet</th>\n",
       "      <td>383238347.0</td>\n",
       "      <td>1.750892e+08</td>\n",
       "      <td>1.182281e+18</td>\n",
       "      <td>-1.0</td>\n",
       "      <td>1.0</td>\n",
       "      <td>0.0</td>\n",
       "      <td>0.0</td>\n",
       "      <td>0.0</td>\n",
       "      <td>0.010177</td>\n",
       "      <td>0.093909</td>\n",
       "    </tr>\n",
       "  </tbody>\n",
       "</table>\n",
       "</div>"
      ],
      "text/plain": [
       "             in_reply_to_user_id     author_id  conversation_id  sentiment  \\\n",
       "user                                                                         \n",
       "101_Fritz            137118114.0  2.276355e+08     1.187388e+18        0.0   \n",
       "10GrandToes          137118114.0  3.867608e+08     1.187388e+18        1.0   \n",
       "1Joshwa              137118114.0  2.187150e+07     1.187388e+18        1.0   \n",
       "1PadreWil            137118114.0  9.639001e+17     1.187388e+18        1.0   \n",
       "4AdsthePoet          383238347.0  1.750892e+08     1.182281e+18       -1.0   \n",
       "\n",
       "             sadness_bin  joy_bin  anger_bin  optimism_bin      hate  \\\n",
       "user                                                                   \n",
       "101_Fritz            0.5      0.0        0.5           0.0  0.010138   \n",
       "10GrandToes          0.0      0.0        0.0           1.0  0.015040   \n",
       "1Joshwa              0.0      0.0        0.0           1.0  0.012633   \n",
       "1PadreWil            0.0      0.0        0.0           1.0  0.010447   \n",
       "4AdsthePoet          1.0      0.0        0.0           0.0  0.010177   \n",
       "\n",
       "             offensive  \n",
       "user                    \n",
       "101_Fritz     0.059381  \n",
       "10GrandToes   0.031897  \n",
       "1Joshwa       0.033017  \n",
       "1PadreWil     0.040298  \n",
       "4AdsthePoet   0.093909  "
      ]
     },
     "execution_count": 60,
     "metadata": {},
     "output_type": "execute_result"
    }
   ],
   "source": [
    "sen_users_before.head()"
   ]
  },
  {
   "cell_type": "code",
   "execution_count": 61,
   "id": "silent-joint",
   "metadata": {
    "execution": {
     "iopub.execute_input": "2022-07-28T08:52:08.178167Z",
     "iopub.status.busy": "2022-07-28T08:52:08.178167Z",
     "iopub.status.idle": "2022-07-28T08:52:08.199167Z",
     "shell.execute_reply": "2022-07-28T08:52:08.198166Z",
     "shell.execute_reply.started": "2022-07-28T08:52:08.178167Z"
    }
   },
   "outputs": [],
   "source": [
    "# Constructing labels for use in Networkx node attributes\n",
    "sentiment_dict_before = zip(sen_users_before.index, sen_users_before.sentiment)\n",
    "sentiment_dict_before = dict(sentiment_dict_before)\n",
    "\n",
    "sentiment_dict_first = zip(sen_users_first.index, sen_users_first.sentiment)\n",
    "sentiment_dict_first = dict(sentiment_dict_first)\n",
    "\n",
    "sentiment_dict_after= zip(sen_users_after.index, sen_users_after.sentiment)\n",
    "sentiment_dict_after = dict(sentiment_dict_after)"
   ]
  },
  {
   "cell_type": "code",
   "execution_count": 62,
   "id": "sapphire-variety",
   "metadata": {
    "execution": {
     "iopub.execute_input": "2022-07-28T08:52:08.474127Z",
     "iopub.status.busy": "2022-07-28T08:52:08.474127Z",
     "iopub.status.idle": "2022-07-28T08:52:08.496489Z",
     "shell.execute_reply": "2022-07-28T08:52:08.495487Z",
     "shell.execute_reply.started": "2022-07-28T08:52:08.474127Z"
    }
   },
   "outputs": [],
   "source": [
    "# Constructing labels for use in Networkx node attributes\n",
    "hate_dict_before = zip(sen_users_before.index, sen_users_before.hate)\n",
    "hate_dict_before = dict(hate_dict_before)\n",
    "\n",
    "hate_dict_first = zip(sen_users_first.index, sen_users_first.hate)\n",
    "hate_dict_first = dict(hate_dict_first)\n",
    "\n",
    "hate_dict_after= zip(sen_users_after.index, sen_users_after.hate)\n",
    "hate_dict_after = dict(hate_dict_after)"
   ]
  },
  {
   "cell_type": "code",
   "execution_count": 63,
   "id": "arabic-surrey",
   "metadata": {
    "execution": {
     "iopub.execute_input": "2022-07-28T08:52:08.773653Z",
     "iopub.status.busy": "2022-07-28T08:52:08.773653Z",
     "iopub.status.idle": "2022-07-28T08:52:08.793652Z",
     "shell.execute_reply": "2022-07-28T08:52:08.792652Z",
     "shell.execute_reply.started": "2022-07-28T08:52:08.773653Z"
    }
   },
   "outputs": [],
   "source": [
    "# Constructing labels for use in Networkx node attributes\n",
    "off_dict_before = zip(sen_users_before.index, sen_users_before.offensive)\n",
    "off_dict_before = dict(off_dict_before)\n",
    "\n",
    "off_dict_first = zip(sen_users_first.index, sen_users_first.offensive)\n",
    "off_dict_first = dict(off_dict_first)\n",
    "\n",
    "off_dict_after= zip(sen_users_after.index, sen_users_after.offensive)\n",
    "off_dict_after = dict(off_dict_after)"
   ]
  },
  {
   "cell_type": "code",
   "execution_count": 65,
   "id": "correct-generator",
   "metadata": {
    "execution": {
     "iopub.execute_input": "2022-07-28T08:53:16.997862Z",
     "iopub.status.busy": "2022-07-28T08:53:16.997862Z",
     "iopub.status.idle": "2022-07-28T08:53:17.012094Z",
     "shell.execute_reply": "2022-07-28T08:53:17.012094Z",
     "shell.execute_reply.started": "2022-07-28T08:53:16.997862Z"
    }
   },
   "outputs": [],
   "source": [
    "# Constructing labels for use in Networkx node attributes\n",
    "sad_dict_before = zip(sen_users_before.index, sen_users_before.sadness_bin)\n",
    "sad_dict_before = dict(sad_dict_before)\n",
    "\n",
    "sad_dict_first = zip(sen_users_first.index, sen_users_first.sadness_bin)\n",
    "sad_dict_first = dict(sad_dict_first)\n",
    "\n",
    "sad_dict_after= zip(sen_users_after.index, sen_users_after.sadness_bin)\n",
    "sad_dict_after = dict(sad_dict_after)"
   ]
  },
  {
   "cell_type": "code",
   "execution_count": 66,
   "id": "literary-patio",
   "metadata": {
    "execution": {
     "iopub.execute_input": "2022-07-28T08:53:55.917681Z",
     "iopub.status.busy": "2022-07-28T08:53:55.916681Z",
     "iopub.status.idle": "2022-07-28T08:53:55.941679Z",
     "shell.execute_reply": "2022-07-28T08:53:55.940678Z",
     "shell.execute_reply.started": "2022-07-28T08:53:55.917681Z"
    }
   },
   "outputs": [],
   "source": [
    "# Constructing labels for use in Networkx node attributes\n",
    "ang_dict_before = zip(sen_users_before.index, sen_users_before.anger_bin)\n",
    "ang_dict_before = dict(ang_dict_before)\n",
    "\n",
    "ang_dict_first = zip(sen_users_first.index, sen_users_first.anger_bin)\n",
    "ang_dict_first = dict(ang_dict_first)\n",
    "\n",
    "ang_dict_after= zip(sen_users_after.index, sen_users_after.anger_bin)\n",
    "ang_dict_after = dict(ang_dict_after)"
   ]
  },
  {
   "cell_type": "code",
   "execution_count": 67,
   "id": "thirty-while",
   "metadata": {
    "execution": {
     "iopub.execute_input": "2022-07-28T08:54:33.489711Z",
     "iopub.status.busy": "2022-07-28T08:54:33.489711Z",
     "iopub.status.idle": "2022-07-28T08:54:33.513928Z",
     "shell.execute_reply": "2022-07-28T08:54:33.512927Z",
     "shell.execute_reply.started": "2022-07-28T08:54:33.489711Z"
    }
   },
   "outputs": [],
   "source": [
    "# Constructing labels for use in Networkx node attributes\n",
    "joy_dict_before = zip(sen_users_before.index, sen_users_before.joy_bin)\n",
    "joy_dict_before = dict(joy_dict_before)\n",
    "\n",
    "joy_dict_first = zip(sen_users_first.index, sen_users_first.joy_bin)\n",
    "joy_dict_first = dict(joy_dict_first)\n",
    "\n",
    "joy_dict_after= zip(sen_users_after.index, sen_users_after.joy_bin)\n",
    "joy_dict_after = dict(joy_dict_after)"
   ]
  },
  {
   "cell_type": "code",
   "execution_count": 68,
   "id": "acute-performance",
   "metadata": {
    "execution": {
     "iopub.execute_input": "2022-07-28T08:55:09.395276Z",
     "iopub.status.busy": "2022-07-28T08:55:09.395276Z",
     "iopub.status.idle": "2022-07-28T08:55:09.411274Z",
     "shell.execute_reply": "2022-07-28T08:55:09.410272Z",
     "shell.execute_reply.started": "2022-07-28T08:55:09.395276Z"
    }
   },
   "outputs": [],
   "source": [
    "# Constructing labels for use in Networkx node attributes\n",
    "opt_dict_before = zip(sen_users_before.index, sen_users_before.optimism_bin)\n",
    "opt_dict_before = dict(opt_dict_before)\n",
    "\n",
    "opt_dict_first = zip(sen_users_first.index, sen_users_first.optimism_bin)\n",
    "opt_dict_first = dict(opt_dict_first)\n",
    "\n",
    "opt_dict_after= zip(sen_users_after.index, sen_users_after.optimism_bin)\n",
    "opt_dict_after = dict(opt_dict_after)"
   ]
  },
  {
   "cell_type": "markdown",
   "id": "electric-saint",
   "metadata": {},
   "source": [
    "# Generating mention networks\n",
    "\n",
    "## Before pandemic"
   ]
  },
  {
   "cell_type": "code",
   "execution_count": 74,
   "id": "indie-maple",
   "metadata": {
    "execution": {
     "iopub.execute_input": "2022-07-28T09:10:18.122781Z",
     "iopub.status.busy": "2022-07-28T09:10:18.122781Z",
     "iopub.status.idle": "2022-07-28T09:10:18.136788Z",
     "shell.execute_reply": "2022-07-28T09:10:18.135781Z",
     "shell.execute_reply.started": "2022-07-28T09:10:18.122781Z"
    }
   },
   "outputs": [],
   "source": [
    "users = before['user'].tolist()\n",
    "mentions = before['mention'].tolist()"
   ]
  },
  {
   "cell_type": "code",
   "execution_count": 75,
   "id": "adequate-reality",
   "metadata": {
    "execution": {
     "iopub.execute_input": "2022-07-28T09:10:18.335295Z",
     "iopub.status.busy": "2022-07-28T09:10:18.335295Z",
     "iopub.status.idle": "2022-07-28T09:10:18.351815Z",
     "shell.execute_reply": "2022-07-28T09:10:18.350816Z",
     "shell.execute_reply.started": "2022-07-28T09:10:18.335295Z"
    }
   },
   "outputs": [
    {
     "data": {
      "text/plain": [
       "'Starchild65 KirstenPeebles  cj_dinenage  ChildrensComm  NHSEngland'"
      ]
     },
     "execution_count": 75,
     "metadata": {},
     "output_type": "execute_result"
    }
   ],
   "source": [
    "# Creating adjadency list for network graph cration\n",
    "adj_list = [] \n",
    "\n",
    "for i in range(len(users)):\n",
    "    adj_list.append(users[i]+' '+mentions[i].replace(',',' '))\n",
    "\n",
    "adj_list[53]"
   ]
  },
  {
   "cell_type": "code",
   "execution_count": 76,
   "id": "collaborative-writer",
   "metadata": {
    "execution": {
     "iopub.execute_input": "2022-07-28T09:10:18.622612Z",
     "iopub.status.busy": "2022-07-28T09:10:18.622612Z",
     "iopub.status.idle": "2022-07-28T09:10:18.635613Z",
     "shell.execute_reply": "2022-07-28T09:10:18.634612Z",
     "shell.execute_reply.started": "2022-07-28T09:10:18.622612Z"
    },
    "tags": []
   },
   "outputs": [],
   "source": [
    "# Writing adjacency list to textfile\n",
    "\n",
    "textfile = open(\"before_adjlist.txt\", \"w\")\n",
    "\n",
    "for element in adj_list:\n",
    "    textfile.write(element + \"\\n\")\n",
    "textfile.close()"
   ]
  },
  {
   "cell_type": "code",
   "execution_count": 77,
   "id": "flexible-allowance",
   "metadata": {
    "execution": {
     "iopub.execute_input": "2022-07-28T09:10:19.102789Z",
     "iopub.status.busy": "2022-07-28T09:10:19.102789Z",
     "iopub.status.idle": "2022-07-28T09:10:19.126789Z",
     "shell.execute_reply": "2022-07-28T09:10:19.125789Z",
     "shell.execute_reply.started": "2022-07-28T09:10:19.102789Z"
    },
    "tags": []
   },
   "outputs": [],
   "source": [
    "# Importing adjacency list to directed graph\n",
    "G_before = nx.Graph()\n",
    "G_before = nx.read_adjlist('before_adjlist.txt', create_using = nx.DiGraph())\n",
    "nx.set_node_attributes(G_before, labels, \"party\")\n",
    "nx.set_node_attributes(G_before, sentiment_dict_before, \"sentiment\")\n",
    "nx.set_node_attributes(G_before, hate_dict_before, \"hatespeech\")\n",
    "nx.set_node_attributes(G_before, off_dict_before, \"offensivelang\")\n",
    "nx.set_node_attributes(G_before, sad_dict_before, \"sadness_bin\")\n",
    "nx.set_node_attributes(G_before, ang_dict_before, \"anger_bin\")\n",
    "nx.set_node_attributes(G_before, joy_dict_before, \"joy_bin\")\n",
    "nx.set_node_attributes(G_before, opt_dict_before, \"optimism_bin\")"
   ]
  },
  {
   "cell_type": "code",
   "execution_count": 78,
   "id": "immune-revolution",
   "metadata": {
    "execution": {
     "iopub.execute_input": "2022-07-28T09:10:20.183829Z",
     "iopub.status.busy": "2022-07-28T09:10:20.183829Z",
     "iopub.status.idle": "2022-07-28T09:10:45.572358Z",
     "shell.execute_reply": "2022-07-28T09:10:45.571358Z",
     "shell.execute_reply.started": "2022-07-28T09:10:20.183829Z"
    },
    "tags": []
   },
   "outputs": [
    {
     "data": {
      "image/png": "[encoded data removed]",
      "text/plain": [
       "<Figure size 432x288 with 1 Axes>"
      ]
     },
     "metadata": {},
     "output_type": "display_data"
    }
   ],
   "source": [
    "nx.draw_networkx(G_before)"
   ]
  },
  {
   "cell_type": "code",
   "execution_count": 79,
   "id": "passing-badge",
   "metadata": {
    "execution": {
     "iopub.execute_input": "2022-07-28T09:10:45.573359Z",
     "iopub.status.busy": "2022-07-28T09:10:45.573359Z",
     "iopub.status.idle": "2022-07-28T09:10:45.677357Z",
     "shell.execute_reply": "2022-07-28T09:10:45.677357Z",
     "shell.execute_reply.started": "2022-07-28T09:10:45.573359Z"
    }
   },
   "outputs": [],
   "source": [
    "nx.write_gexf(G_before, 'mention_before_network.gexf')"
   ]
  },
  {
   "cell_type": "code",
   "execution_count": 95,
   "id": "consolidated-intervention",
   "metadata": {
    "execution": {
     "iopub.execute_input": "2022-07-28T09:41:55.981948Z",
     "iopub.status.busy": "2022-07-28T09:41:55.981948Z",
     "iopub.status.idle": "2022-07-28T09:41:56.117950Z",
     "shell.execute_reply": "2022-07-28T09:41:56.116947Z",
     "shell.execute_reply.started": "2022-07-28T09:41:55.981948Z"
    }
   },
   "outputs": [
    {
     "name": "stdout",
     "output_type": "stream",
     "text": [
      "0.3718172050280574\n"
     ]
    }
   ],
   "source": [
    "print(nx.average_clustering(G_before))"
   ]
  },
  {
   "cell_type": "markdown",
   "id": "contemporary-paraguay",
   "metadata": {},
   "source": [
    "## First wave"
   ]
  },
  {
   "cell_type": "code",
   "execution_count": 80,
   "id": "backed-reporter",
   "metadata": {
    "execution": {
     "iopub.execute_input": "2022-07-28T09:10:45.679358Z",
     "iopub.status.busy": "2022-07-28T09:10:45.679358Z",
     "iopub.status.idle": "2022-07-28T09:10:45.693360Z",
     "shell.execute_reply": "2022-07-28T09:10:45.692357Z",
     "shell.execute_reply.started": "2022-07-28T09:10:45.679358Z"
    }
   },
   "outputs": [],
   "source": [
    "users = first_wave['user'].tolist()\n",
    "mentions = first_wave['mention'].tolist()"
   ]
  },
  {
   "cell_type": "code",
   "execution_count": 81,
   "id": "developed-prophet",
   "metadata": {
    "execution": {
     "iopub.execute_input": "2022-07-28T09:10:45.694359Z",
     "iopub.status.busy": "2022-07-28T09:10:45.694359Z",
     "iopub.status.idle": "2022-07-28T09:10:45.709359Z",
     "shell.execute_reply": "2022-07-28T09:10:45.708358Z",
     "shell.execute_reply.started": "2022-07-28T09:10:45.694359Z"
    }
   },
   "outputs": [
    {
     "data": {
      "text/plain": [
       "'GarryDoolan2552 justinmadders  NHSEngland'"
      ]
     },
     "execution_count": 81,
     "metadata": {},
     "output_type": "execute_result"
    }
   ],
   "source": [
    "# Creating adjadency list for network graph cration\n",
    "adj_list = [] \n",
    "\n",
    "for i in range(len(users)):\n",
    "    adj_list.append(users[i]+' '+mentions[i].replace(',',' '))\n",
    "\n",
    "adj_list[53]"
   ]
  },
  {
   "cell_type": "code",
   "execution_count": 82,
   "id": "retired-tower",
   "metadata": {
    "execution": {
     "iopub.execute_input": "2022-07-28T09:10:45.710358Z",
     "iopub.status.busy": "2022-07-28T09:10:45.709359Z",
     "iopub.status.idle": "2022-07-28T09:10:45.724357Z",
     "shell.execute_reply": "2022-07-28T09:10:45.724357Z",
     "shell.execute_reply.started": "2022-07-28T09:10:45.710358Z"
    },
    "tags": []
   },
   "outputs": [],
   "source": [
    "# Writing adjacency list to textfile\n",
    "textfile = open(\"first_wave_adjlist.txt\", \"w\")\n",
    "\n",
    "for element in adj_list:\n",
    "    textfile.write(element + \"\\n\")\n",
    "textfile.close()"
   ]
  },
  {
   "cell_type": "code",
   "execution_count": 83,
   "id": "geographic-craft",
   "metadata": {
    "execution": {
     "iopub.execute_input": "2022-07-28T09:10:45.725357Z",
     "iopub.status.busy": "2022-07-28T09:10:45.725357Z",
     "iopub.status.idle": "2022-07-28T09:10:45.801357Z",
     "shell.execute_reply": "2022-07-28T09:10:45.801357Z",
     "shell.execute_reply.started": "2022-07-28T09:10:45.725357Z"
    },
    "tags": []
   },
   "outputs": [],
   "source": [
    "# Importing adjacency list to directed graph\n",
    "G_first = nx.Graph()\n",
    "G_first = nx.read_adjlist('first_wave_adjlist.txt', create_using = nx.DiGraph())\n",
    "nx.set_node_attributes(G_first, labels, \"party\")\n",
    "nx.set_node_attributes(G_first, sentiment_dict_first, \"sentiment\")\n",
    "nx.set_node_attributes(G_first, hate_dict_first, \"hatespeech\")\n",
    "nx.set_node_attributes(G_first, off_dict_first, \"offensivelang\")\n",
    "nx.set_node_attributes(G_first, sad_dict_first, \"sadness_bin\")\n",
    "nx.set_node_attributes(G_first, ang_dict_first, \"anger_bin\")\n",
    "nx.set_node_attributes(G_first, joy_dict_first, \"joy_bin\")\n",
    "nx.set_node_attributes(G_first, opt_dict_first, \"optimism_bin\")"
   ]
  },
  {
   "cell_type": "code",
   "execution_count": 84,
   "id": "prompt-stuart",
   "metadata": {
    "execution": {
     "iopub.execute_input": "2022-07-28T09:10:45.802358Z",
     "iopub.status.busy": "2022-07-28T09:10:45.802358Z",
     "iopub.status.idle": "2022-07-28T09:12:47.460584Z",
     "shell.execute_reply": "2022-07-28T09:12:47.459583Z",
     "shell.execute_reply.started": "2022-07-28T09:10:45.802358Z"
    },
    "tags": []
   },
   "outputs": [
    {
     "data": {
      "image/png": "[encoded data removed]",
      "text/plain": [
       "<Figure size 432x288 with 1 Axes>"
      ]
     },
     "metadata": {},
     "output_type": "display_data"
    }
   ],
   "source": [
    "nx.draw_networkx(G_first)"
   ]
  },
  {
   "cell_type": "code",
   "execution_count": 85,
   "id": "sexual-prime",
   "metadata": {
    "execution": {
     "iopub.execute_input": "2022-07-28T09:12:47.461582Z",
     "iopub.status.busy": "2022-07-28T09:12:47.461582Z",
     "iopub.status.idle": "2022-07-28T09:12:47.829581Z",
     "shell.execute_reply": "2022-07-28T09:12:47.829581Z",
     "shell.execute_reply.started": "2022-07-28T09:12:47.461582Z"
    }
   },
   "outputs": [],
   "source": [
    "nx.write_gexf(G_first, 'mention_first_wave_network.gexf')"
   ]
  },
  {
   "cell_type": "code",
   "execution_count": 94,
   "id": "earlier-disclaimer",
   "metadata": {
    "execution": {
     "iopub.execute_input": "2022-07-28T09:41:52.602947Z",
     "iopub.status.busy": "2022-07-28T09:41:52.602947Z",
     "iopub.status.idle": "2022-07-28T09:41:53.192949Z",
     "shell.execute_reply": "2022-07-28T09:41:53.191947Z",
     "shell.execute_reply.started": "2022-07-28T09:41:52.602947Z"
    }
   },
   "outputs": [
    {
     "name": "stdout",
     "output_type": "stream",
     "text": [
      "0.16380538296102667\n"
     ]
    }
   ],
   "source": [
    "print(nx.average_clustering(G_first))"
   ]
  },
  {
   "cell_type": "markdown",
   "id": "vertical-groove",
   "metadata": {},
   "source": [
    "## After first wave"
   ]
  },
  {
   "cell_type": "code",
   "execution_count": 86,
   "id": "assisted-titanium",
   "metadata": {
    "execution": {
     "iopub.execute_input": "2022-07-28T09:12:47.831583Z",
     "iopub.status.busy": "2022-07-28T09:12:47.831583Z",
     "iopub.status.idle": "2022-07-28T09:12:47.845583Z",
     "shell.execute_reply": "2022-07-28T09:12:47.844581Z",
     "shell.execute_reply.started": "2022-07-28T09:12:47.831583Z"
    }
   },
   "outputs": [],
   "source": [
    "users = after_first['user'].tolist()\n",
    "mentions = after_first['mention'].tolist()"
   ]
  },
  {
   "cell_type": "code",
   "execution_count": 87,
   "id": "efficient-kinase",
   "metadata": {
    "execution": {
     "iopub.execute_input": "2022-07-28T09:12:47.846581Z",
     "iopub.status.busy": "2022-07-28T09:12:47.846581Z",
     "iopub.status.idle": "2022-07-28T09:12:47.890582Z",
     "shell.execute_reply": "2022-07-28T09:12:47.889582Z",
     "shell.execute_reply.started": "2022-07-28T09:12:47.846581Z"
    }
   },
   "outputs": [
    {
     "data": {
      "text/plain": [
       "'Bec_j87 aliciakearns  NHSEngland  PregnantScrewed  AVMikhailova  BetterBirth1  RWT_NHS'"
      ]
     },
     "execution_count": 87,
     "metadata": {},
     "output_type": "execute_result"
    }
   ],
   "source": [
    "# Creating adjadency list for network graph cration\n",
    "adj_list = [] \n",
    "for i in range(len(users)):\n",
    "    adj_list.append(users[i]+' '+mentions[i].replace(',',' '))\n",
    "adj_list[53]"
   ]
  },
  {
   "cell_type": "code",
   "execution_count": 88,
   "id": "mental-vermont",
   "metadata": {
    "execution": {
     "iopub.execute_input": "2022-07-28T09:12:47.891582Z",
     "iopub.status.busy": "2022-07-28T09:12:47.891582Z",
     "iopub.status.idle": "2022-07-28T09:12:47.964581Z",
     "shell.execute_reply": "2022-07-28T09:12:47.964581Z",
     "shell.execute_reply.started": "2022-07-28T09:12:47.891582Z"
    },
    "tags": []
   },
   "outputs": [],
   "source": [
    "# Writing adjacency list to textfile\n",
    "\n",
    "textfile = open(\"after_first_adjlist.txt\", \"w\")\n",
    "\n",
    "for element in adj_list:\n",
    "    textfile.write(element + \"\\n\")\n",
    "textfile.close()"
   ]
  },
  {
   "cell_type": "code",
   "execution_count": 89,
   "id": "eight-designation",
   "metadata": {
    "execution": {
     "iopub.execute_input": "2022-07-28T09:12:47.966582Z",
     "iopub.status.busy": "2022-07-28T09:12:47.965582Z",
     "iopub.status.idle": "2022-07-28T09:12:48.512584Z",
     "shell.execute_reply": "2022-07-28T09:12:48.511583Z",
     "shell.execute_reply.started": "2022-07-28T09:12:47.966582Z"
    },
    "tags": []
   },
   "outputs": [],
   "source": [
    "# Importing adjacency list to directed graph\n",
    "G_after = nx.Graph()\n",
    "G_after = nx.read_adjlist('after_first_adjlist.txt', create_using = nx.DiGraph())\n",
    "nx.set_node_attributes(G_after, labels, \"party\")\n",
    "nx.set_node_attributes(G_after, sentiment_dict_after, \"sentiment\")\n",
    "nx.set_node_attributes(G_after, hate_dict_after, \"hatespeech\")\n",
    "nx.set_node_attributes(G_after, off_dict_after, \"offensivelang\")\n",
    "nx.set_node_attributes(G_after, sad_dict_after, \"sadness_bin\")\n",
    "nx.set_node_attributes(G_after, ang_dict_after, \"anger_bin\")\n",
    "nx.set_node_attributes(G_after, joy_dict_after, \"joy_bin\")\n",
    "nx.set_node_attributes(G_after, opt_dict_after, \"optimism_bin\")"
   ]
  },
  {
   "cell_type": "code",
   "execution_count": 90,
   "id": "running-inquiry",
   "metadata": {
    "execution": {
     "iopub.execute_input": "2022-07-28T09:12:48.513583Z",
     "iopub.status.busy": "2022-07-28T09:12:48.513583Z",
     "iopub.status.idle": "2022-07-28T09:39:17.106166Z",
     "shell.execute_reply": "2022-07-28T09:39:17.105166Z",
     "shell.execute_reply.started": "2022-07-28T09:12:48.513583Z"
    },
    "tags": []
   },
   "outputs": [
    {
     "data": {
      "image/png": "[encoded data removed]",
      "text/plain": [
       "<Figure size 432x288 with 1 Axes>"
      ]
     },
     "metadata": {},
     "output_type": "display_data"
    }
   ],
   "source": [
    "nx.draw_networkx(G_after)"
   ]
  },
  {
   "cell_type": "code",
   "execution_count": 92,
   "id": "incorrect-arthritis",
   "metadata": {
    "execution": {
     "iopub.execute_input": "2022-07-28T09:39:55.565261Z",
     "iopub.status.busy": "2022-07-28T09:39:55.565261Z",
     "iopub.status.idle": "2022-07-28T09:39:57.790288Z",
     "shell.execute_reply": "2022-07-28T09:39:57.789288Z",
     "shell.execute_reply.started": "2022-07-28T09:39:55.565261Z"
    }
   },
   "outputs": [],
   "source": [
    "nx.write_gexf(G_after, 'mention_after_first_network.gexf')"
   ]
  },
  {
   "cell_type": "code",
   "execution_count": 93,
   "id": "shaped-sperm",
   "metadata": {
    "execution": {
     "iopub.execute_input": "2022-07-28T09:39:57.791287Z",
     "iopub.status.busy": "2022-07-28T09:39:57.791287Z",
     "iopub.status.idle": "2022-07-28T09:40:38.740205Z",
     "shell.execute_reply": "2022-07-28T09:40:38.739203Z",
     "shell.execute_reply.started": "2022-07-28T09:39:57.791287Z"
    }
   },
   "outputs": [
    {
     "name": "stdout",
     "output_type": "stream",
     "text": [
      "0.2791353698104408\n"
     ]
    }
   ],
   "source": [
    "print(nx.average_clustering(G_after))"
   ]
  },
  {
   "cell_type": "code",
   "execution_count": 96,
   "id": "backed-clearance",
   "metadata": {
    "execution": {
     "iopub.execute_input": "2022-07-28T13:19:40.128084Z",
     "iopub.status.busy": "2022-07-28T13:19:40.126084Z",
     "iopub.status.idle": "2022-07-28T13:19:40.152979Z",
     "shell.execute_reply": "2022-07-28T13:19:40.151979Z",
     "shell.execute_reply.started": "2022-07-28T13:19:40.128084Z"
    }
   },
   "outputs": [
    {
     "data": {
      "text/plain": [
       "52302"
      ]
     },
     "execution_count": 96,
     "metadata": {},
     "output_type": "execute_result"
    }
   ],
   "source": [
    "len(tweets)"
   ]
  },
  {
   "cell_type": "markdown",
   "id": "subjective-wrestling",
   "metadata": {
    "heading_collapsed": "true"
   },
   "source": [
    "# Generating reply networks"
   ]
  },
  {
   "cell_type": "code",
   "execution_count": 40,
   "id": "atomic-retrieval",
   "metadata": {
    "execution": {
     "iopub.execute_input": "2022-07-27T08:00:01.987928Z",
     "iopub.status.busy": "2022-07-27T08:00:01.987928Z",
     "iopub.status.idle": "2022-07-27T08:00:02.056991Z",
     "shell.execute_reply": "2022-07-27T08:00:02.056991Z",
     "shell.execute_reply.started": "2022-07-27T08:00:01.987928Z"
    }
   },
   "outputs": [],
   "source": [
    "df_replies = tweets[tweets['in_reply_to_user'].notna()]"
   ]
  },
  {
   "cell_type": "code",
   "execution_count": 54,
   "id": "acknowledged-broad",
   "metadata": {
    "execution": {
     "iopub.execute_input": "2022-07-27T08:36:42.383170Z",
     "iopub.status.busy": "2022-07-27T08:36:42.383170Z",
     "iopub.status.idle": "2022-07-27T08:36:42.437219Z",
     "shell.execute_reply": "2022-07-27T08:36:42.436218Z",
     "shell.execute_reply.started": "2022-07-27T08:36:42.383170Z"
    }
   },
   "outputs": [
    {
     "data": {
      "text/html": [
       "<div>\n",
       "<style scoped>\n",
       "    .dataframe tbody tr th:only-of-type {\n",
       "        vertical-align: middle;\n",
       "    }\n",
       "\n",
       "    .dataframe tbody tr th {\n",
       "        vertical-align: top;\n",
       "    }\n",
       "\n",
       "    .dataframe thead th {\n",
       "        text-align: right;\n",
       "    }\n",
       "</style>\n",
       "<table border=\"1\" class=\"dataframe\">\n",
       "  <thead>\n",
       "    <tr style=\"text-align: right;\">\n",
       "      <th></th>\n",
       "      <th>text</th>\n",
       "      <th>public_metrics</th>\n",
       "      <th>in_reply_to_user_id</th>\n",
       "      <th>created_at</th>\n",
       "      <th>id</th>\n",
       "      <th>referenced_tweets</th>\n",
       "      <th>author_id</th>\n",
       "      <th>conversation_id</th>\n",
       "      <th>author</th>\n",
       "      <th>in_reply_to_user</th>\n",
       "      <th>__twarc</th>\n",
       "      <th>withheld</th>\n",
       "      <th>user</th>\n",
       "      <th>mention</th>\n",
       "      <th>is_retweet</th>\n",
       "    </tr>\n",
       "  </thead>\n",
       "  <tbody>\n",
       "    <tr>\n",
       "      <th>0</th>\n",
       "      <td>@RobinMillarMP @AlyAShields @BetsiCadwaladr @h...</td>\n",
       "      <td>{'retweet_count': 2, 'reply_count': 0, 'like_c...</td>\n",
       "      <td>1194759472087998464</td>\n",
       "      <td>2020-10-09 12:17:15+00:00</td>\n",
       "      <td>1314540427874308096</td>\n",
       "      <td>[{'type': 'replied_to', 'id': '131449302570007...</td>\n",
       "      <td>709375301583835136</td>\n",
       "      <td>1314477726678614016</td>\n",
       "      <td>{'description': 'Raising awareness for PANS Pa...</td>\n",
       "      <td>{'entities': {'url': {'urls': [{'start': 0, 'e...</td>\n",
       "      <td>{'url': 'https://api.twitter.com/2/tweets/sear...</td>\n",
       "      <td>NaN</td>\n",
       "      <td>kathryn_gillett</td>\n",
       "      <td>RobinMillarMP, AlyAShields, BetsiCadwaladr, he...</td>\n",
       "      <td>nan</td>\n",
       "    </tr>\n",
       "    <tr>\n",
       "      <th>1</th>\n",
       "      <td>@RobinMillarMP @BetsiCadwaladr @healthdpt @NIC...</td>\n",
       "      <td>{'retweet_count': 0, 'reply_count': 0, 'like_c...</td>\n",
       "      <td>1194759472087998464</td>\n",
       "      <td>2020-10-09 11:49:31+00:00</td>\n",
       "      <td>1314533448405614592</td>\n",
       "      <td>[{'type': 'replied_to', 'id': '131449302570007...</td>\n",
       "      <td>470801601</td>\n",
       "      <td>1314477726678614016</td>\n",
       "      <td>{'entities': {'description': {'urls': [{'start...</td>\n",
       "      <td>{'entities': {'url': {'urls': [{'start': 0, 'e...</td>\n",
       "      <td>{'url': 'https://api.twitter.com/2/tweets/sear...</td>\n",
       "      <td>NaN</td>\n",
       "      <td>AlyAShields</td>\n",
       "      <td>RobinMillarMP, BetsiCadwaladr, healthdpt, NICE...</td>\n",
       "      <td>nan</td>\n",
       "    </tr>\n",
       "    <tr>\n",
       "      <th>2</th>\n",
       "      <td>@RobinMillarMP @AlyAShields @BetsiCadwaladr @h...</td>\n",
       "      <td>{'retweet_count': 4, 'reply_count': 0, 'like_c...</td>\n",
       "      <td>1194759472087998464</td>\n",
       "      <td>2020-10-09 10:12:43+00:00</td>\n",
       "      <td>1314509086596239360</td>\n",
       "      <td>[{'type': 'replied_to', 'id': '131449302570007...</td>\n",
       "      <td>816444807371517952</td>\n",
       "      <td>1314477726678614016</td>\n",
       "      <td>{'entities': {'url': {'urls': [{'start': 0, 'e...</td>\n",
       "      <td>{'entities': {'url': {'urls': [{'start': 0, 'e...</td>\n",
       "      <td>{'url': 'https://api.twitter.com/2/tweets/sear...</td>\n",
       "      <td>NaN</td>\n",
       "      <td>soniaserrano0</td>\n",
       "      <td>RobinMillarMP, AlyAShields, BetsiCadwaladr, he...</td>\n",
       "      <td>nan</td>\n",
       "    </tr>\n",
       "    <tr>\n",
       "      <th>3</th>\n",
       "      <td>@AlyAShields @BetsiCadwaladr @healthdpt @NICEC...</td>\n",
       "      <td>{'retweet_count': 8, 'reply_count': 3, 'like_c...</td>\n",
       "      <td>470801601</td>\n",
       "      <td>2020-10-09 09:08:54+00:00</td>\n",
       "      <td>1314493025700077568</td>\n",
       "      <td>[{'type': 'replied_to', 'id': '131447772937129...</td>\n",
       "      <td>1194759472087998464</td>\n",
       "      <td>1314477726678614016</td>\n",
       "      <td>{'entities': {'url': {'urls': [{'start': 0, 'e...</td>\n",
       "      <td>{'entities': {'description': {'urls': [{'start...</td>\n",
       "      <td>{'url': 'https://api.twitter.com/2/tweets/sear...</td>\n",
       "      <td>NaN</td>\n",
       "      <td>RobinMillarMP</td>\n",
       "      <td>AlyAShields, BetsiCadwaladr, healthdpt, NICECo...</td>\n",
       "      <td>nan</td>\n",
       "    </tr>\n",
       "    <tr>\n",
       "      <th>4</th>\n",
       "      <td>@BetsiCadwaladr @CALL_247 @MindCymru @Research...</td>\n",
       "      <td>{'retweet_count': 4, 'reply_count': 1, 'like_c...</td>\n",
       "      <td>470801601</td>\n",
       "      <td>2020-10-09 08:08:07+00:00</td>\n",
       "      <td>1314477729371299840</td>\n",
       "      <td>[{'type': 'replied_to', 'id': '131447772667861...</td>\n",
       "      <td>470801601</td>\n",
       "      <td>1314477726678614016</td>\n",
       "      <td>{'entities': {'description': {'urls': [{'start...</td>\n",
       "      <td>{'entities': {'description': {'urls': [{'start...</td>\n",
       "      <td>{'url': 'https://api.twitter.com/2/tweets/sear...</td>\n",
       "      <td>NaN</td>\n",
       "      <td>AlyAShields</td>\n",
       "      <td>BetsiCadwaladr, CALL_247, MindCymru, ResearchW...</td>\n",
       "      <td>nan</td>\n",
       "    </tr>\n",
       "  </tbody>\n",
       "</table>\n",
       "</div>"
      ],
      "text/plain": [
       "                                                text  \\\n",
       "0  @RobinMillarMP @AlyAShields @BetsiCadwaladr @h...   \n",
       "1  @RobinMillarMP @BetsiCadwaladr @healthdpt @NIC...   \n",
       "2  @RobinMillarMP @AlyAShields @BetsiCadwaladr @h...   \n",
       "3  @AlyAShields @BetsiCadwaladr @healthdpt @NICEC...   \n",
       "4  @BetsiCadwaladr @CALL_247 @MindCymru @Research...   \n",
       "\n",
       "                                      public_metrics  in_reply_to_user_id  \\\n",
       "0  {'retweet_count': 2, 'reply_count': 0, 'like_c...  1194759472087998464   \n",
       "1  {'retweet_count': 0, 'reply_count': 0, 'like_c...  1194759472087998464   \n",
       "2  {'retweet_count': 4, 'reply_count': 0, 'like_c...  1194759472087998464   \n",
       "3  {'retweet_count': 8, 'reply_count': 3, 'like_c...            470801601   \n",
       "4  {'retweet_count': 4, 'reply_count': 1, 'like_c...            470801601   \n",
       "\n",
       "                 created_at                   id  \\\n",
       "0 2020-10-09 12:17:15+00:00  1314540427874308096   \n",
       "1 2020-10-09 11:49:31+00:00  1314533448405614592   \n",
       "2 2020-10-09 10:12:43+00:00  1314509086596239360   \n",
       "3 2020-10-09 09:08:54+00:00  1314493025700077568   \n",
       "4 2020-10-09 08:08:07+00:00  1314477729371299840   \n",
       "\n",
       "                                   referenced_tweets            author_id  \\\n",
       "0  [{'type': 'replied_to', 'id': '131449302570007...   709375301583835136   \n",
       "1  [{'type': 'replied_to', 'id': '131449302570007...            470801601   \n",
       "2  [{'type': 'replied_to', 'id': '131449302570007...   816444807371517952   \n",
       "3  [{'type': 'replied_to', 'id': '131447772937129...  1194759472087998464   \n",
       "4  [{'type': 'replied_to', 'id': '131447772667861...            470801601   \n",
       "\n",
       "       conversation_id                                             author  \\\n",
       "0  1314477726678614016  {'description': 'Raising awareness for PANS Pa...   \n",
       "1  1314477726678614016  {'entities': {'description': {'urls': [{'start...   \n",
       "2  1314477726678614016  {'entities': {'url': {'urls': [{'start': 0, 'e...   \n",
       "3  1314477726678614016  {'entities': {'url': {'urls': [{'start': 0, 'e...   \n",
       "4  1314477726678614016  {'entities': {'description': {'urls': [{'start...   \n",
       "\n",
       "                                    in_reply_to_user  \\\n",
       "0  {'entities': {'url': {'urls': [{'start': 0, 'e...   \n",
       "1  {'entities': {'url': {'urls': [{'start': 0, 'e...   \n",
       "2  {'entities': {'url': {'urls': [{'start': 0, 'e...   \n",
       "3  {'entities': {'description': {'urls': [{'start...   \n",
       "4  {'entities': {'description': {'urls': [{'start...   \n",
       "\n",
       "                                             __twarc withheld  \\\n",
       "0  {'url': 'https://api.twitter.com/2/tweets/sear...      NaN   \n",
       "1  {'url': 'https://api.twitter.com/2/tweets/sear...      NaN   \n",
       "2  {'url': 'https://api.twitter.com/2/tweets/sear...      NaN   \n",
       "3  {'url': 'https://api.twitter.com/2/tweets/sear...      NaN   \n",
       "4  {'url': 'https://api.twitter.com/2/tweets/sear...      NaN   \n",
       "\n",
       "              user                                            mention  \\\n",
       "0  kathryn_gillett  RobinMillarMP, AlyAShields, BetsiCadwaladr, he...   \n",
       "1      AlyAShields  RobinMillarMP, BetsiCadwaladr, healthdpt, NICE...   \n",
       "2    soniaserrano0  RobinMillarMP, AlyAShields, BetsiCadwaladr, he...   \n",
       "3    RobinMillarMP  AlyAShields, BetsiCadwaladr, healthdpt, NICECo...   \n",
       "4      AlyAShields  BetsiCadwaladr, CALL_247, MindCymru, ResearchW...   \n",
       "\n",
       "  is_retweet  \n",
       "0        nan  \n",
       "1        nan  \n",
       "2        nan  \n",
       "3        nan  \n",
       "4        nan  "
      ]
     },
     "execution_count": 54,
     "metadata": {},
     "output_type": "execute_result"
    }
   ],
   "source": [
    "df_replies.head()"
   ]
  },
  {
   "cell_type": "code",
   "execution_count": 62,
   "id": "large-daughter",
   "metadata": {
    "execution": {
     "iopub.execute_input": "2022-07-27T08:40:14.556910Z",
     "iopub.status.busy": "2022-07-27T08:40:14.556910Z",
     "iopub.status.idle": "2022-07-27T08:40:14.604953Z",
     "shell.execute_reply": "2022-07-27T08:40:14.604953Z",
     "shell.execute_reply.started": "2022-07-27T08:40:14.556910Z"
    }
   },
   "outputs": [],
   "source": [
    "replies = df_replies['in_reply_to_user'].tolist()\n",
    "\n",
    "tweet_type = []\n",
    "for user in range(len(replies)):\n",
    "    try:\n",
    "        tweet_type.append(replies[user]['username'])\n",
    "    except:\n",
    "        tweet_type.append('nan')\n",
    "df_replies['reply_to_user'] = tweet_type"
   ]
  },
  {
   "cell_type": "code",
   "execution_count": 63,
   "id": "wireless-potato",
   "metadata": {
    "execution": {
     "iopub.execute_input": "2022-07-27T08:40:32.870282Z",
     "iopub.status.busy": "2022-07-27T08:40:32.869281Z",
     "iopub.status.idle": "2022-07-27T08:40:32.922329Z",
     "shell.execute_reply": "2022-07-27T08:40:32.922329Z",
     "shell.execute_reply.started": "2022-07-27T08:40:32.870282Z"
    }
   },
   "outputs": [
    {
     "data": {
      "text/html": [
       "<div>\n",
       "<style scoped>\n",
       "    .dataframe tbody tr th:only-of-type {\n",
       "        vertical-align: middle;\n",
       "    }\n",
       "\n",
       "    .dataframe tbody tr th {\n",
       "        vertical-align: top;\n",
       "    }\n",
       "\n",
       "    .dataframe thead th {\n",
       "        text-align: right;\n",
       "    }\n",
       "</style>\n",
       "<table border=\"1\" class=\"dataframe\">\n",
       "  <thead>\n",
       "    <tr style=\"text-align: right;\">\n",
       "      <th></th>\n",
       "      <th>text</th>\n",
       "      <th>public_metrics</th>\n",
       "      <th>in_reply_to_user_id</th>\n",
       "      <th>created_at</th>\n",
       "      <th>id</th>\n",
       "      <th>referenced_tweets</th>\n",
       "      <th>author_id</th>\n",
       "      <th>conversation_id</th>\n",
       "      <th>author</th>\n",
       "      <th>in_reply_to_user</th>\n",
       "      <th>__twarc</th>\n",
       "      <th>withheld</th>\n",
       "      <th>user</th>\n",
       "      <th>mention</th>\n",
       "      <th>is_retweet</th>\n",
       "      <th>reply_to_user</th>\n",
       "    </tr>\n",
       "  </thead>\n",
       "  <tbody>\n",
       "    <tr>\n",
       "      <th>0</th>\n",
       "      <td>@RobinMillarMP @AlyAShields @BetsiCadwaladr @h...</td>\n",
       "      <td>{'retweet_count': 2, 'reply_count': 0, 'like_c...</td>\n",
       "      <td>1194759472087998464</td>\n",
       "      <td>2020-10-09 12:17:15+00:00</td>\n",
       "      <td>1314540427874308096</td>\n",
       "      <td>[{'type': 'replied_to', 'id': '131449302570007...</td>\n",
       "      <td>709375301583835136</td>\n",
       "      <td>1314477726678614016</td>\n",
       "      <td>{'description': 'Raising awareness for PANS Pa...</td>\n",
       "      <td>{'entities': {'url': {'urls': [{'start': 0, 'e...</td>\n",
       "      <td>{'url': 'https://api.twitter.com/2/tweets/sear...</td>\n",
       "      <td>NaN</td>\n",
       "      <td>kathryn_gillett</td>\n",
       "      <td>RobinMillarMP, AlyAShields, BetsiCadwaladr, he...</td>\n",
       "      <td>nan</td>\n",
       "      <td>RobinMillarMP</td>\n",
       "    </tr>\n",
       "    <tr>\n",
       "      <th>1</th>\n",
       "      <td>@RobinMillarMP @BetsiCadwaladr @healthdpt @NIC...</td>\n",
       "      <td>{'retweet_count': 0, 'reply_count': 0, 'like_c...</td>\n",
       "      <td>1194759472087998464</td>\n",
       "      <td>2020-10-09 11:49:31+00:00</td>\n",
       "      <td>1314533448405614592</td>\n",
       "      <td>[{'type': 'replied_to', 'id': '131449302570007...</td>\n",
       "      <td>470801601</td>\n",
       "      <td>1314477726678614016</td>\n",
       "      <td>{'entities': {'description': {'urls': [{'start...</td>\n",
       "      <td>{'entities': {'url': {'urls': [{'start': 0, 'e...</td>\n",
       "      <td>{'url': 'https://api.twitter.com/2/tweets/sear...</td>\n",
       "      <td>NaN</td>\n",
       "      <td>AlyAShields</td>\n",
       "      <td>RobinMillarMP, BetsiCadwaladr, healthdpt, NICE...</td>\n",
       "      <td>nan</td>\n",
       "      <td>RobinMillarMP</td>\n",
       "    </tr>\n",
       "    <tr>\n",
       "      <th>2</th>\n",
       "      <td>@RobinMillarMP @AlyAShields @BetsiCadwaladr @h...</td>\n",
       "      <td>{'retweet_count': 4, 'reply_count': 0, 'like_c...</td>\n",
       "      <td>1194759472087998464</td>\n",
       "      <td>2020-10-09 10:12:43+00:00</td>\n",
       "      <td>1314509086596239360</td>\n",
       "      <td>[{'type': 'replied_to', 'id': '131449302570007...</td>\n",
       "      <td>816444807371517952</td>\n",
       "      <td>1314477726678614016</td>\n",
       "      <td>{'entities': {'url': {'urls': [{'start': 0, 'e...</td>\n",
       "      <td>{'entities': {'url': {'urls': [{'start': 0, 'e...</td>\n",
       "      <td>{'url': 'https://api.twitter.com/2/tweets/sear...</td>\n",
       "      <td>NaN</td>\n",
       "      <td>soniaserrano0</td>\n",
       "      <td>RobinMillarMP, AlyAShields, BetsiCadwaladr, he...</td>\n",
       "      <td>nan</td>\n",
       "      <td>RobinMillarMP</td>\n",
       "    </tr>\n",
       "    <tr>\n",
       "      <th>3</th>\n",
       "      <td>@AlyAShields @BetsiCadwaladr @healthdpt @NICEC...</td>\n",
       "      <td>{'retweet_count': 8, 'reply_count': 3, 'like_c...</td>\n",
       "      <td>470801601</td>\n",
       "      <td>2020-10-09 09:08:54+00:00</td>\n",
       "      <td>1314493025700077568</td>\n",
       "      <td>[{'type': 'replied_to', 'id': '131447772937129...</td>\n",
       "      <td>1194759472087998464</td>\n",
       "      <td>1314477726678614016</td>\n",
       "      <td>{'entities': {'url': {'urls': [{'start': 0, 'e...</td>\n",
       "      <td>{'entities': {'description': {'urls': [{'start...</td>\n",
       "      <td>{'url': 'https://api.twitter.com/2/tweets/sear...</td>\n",
       "      <td>NaN</td>\n",
       "      <td>RobinMillarMP</td>\n",
       "      <td>AlyAShields, BetsiCadwaladr, healthdpt, NICECo...</td>\n",
       "      <td>nan</td>\n",
       "      <td>AlyAShields</td>\n",
       "    </tr>\n",
       "    <tr>\n",
       "      <th>4</th>\n",
       "      <td>@BetsiCadwaladr @CALL_247 @MindCymru @Research...</td>\n",
       "      <td>{'retweet_count': 4, 'reply_count': 1, 'like_c...</td>\n",
       "      <td>470801601</td>\n",
       "      <td>2020-10-09 08:08:07+00:00</td>\n",
       "      <td>1314477729371299840</td>\n",
       "      <td>[{'type': 'replied_to', 'id': '131447772667861...</td>\n",
       "      <td>470801601</td>\n",
       "      <td>1314477726678614016</td>\n",
       "      <td>{'entities': {'description': {'urls': [{'start...</td>\n",
       "      <td>{'entities': {'description': {'urls': [{'start...</td>\n",
       "      <td>{'url': 'https://api.twitter.com/2/tweets/sear...</td>\n",
       "      <td>NaN</td>\n",
       "      <td>AlyAShields</td>\n",
       "      <td>BetsiCadwaladr, CALL_247, MindCymru, ResearchW...</td>\n",
       "      <td>nan</td>\n",
       "      <td>AlyAShields</td>\n",
       "    </tr>\n",
       "  </tbody>\n",
       "</table>\n",
       "</div>"
      ],
      "text/plain": [
       "                                                text  \\\n",
       "0  @RobinMillarMP @AlyAShields @BetsiCadwaladr @h...   \n",
       "1  @RobinMillarMP @BetsiCadwaladr @healthdpt @NIC...   \n",
       "2  @RobinMillarMP @AlyAShields @BetsiCadwaladr @h...   \n",
       "3  @AlyAShields @BetsiCadwaladr @healthdpt @NICEC...   \n",
       "4  @BetsiCadwaladr @CALL_247 @MindCymru @Research...   \n",
       "\n",
       "                                      public_metrics  in_reply_to_user_id  \\\n",
       "0  {'retweet_count': 2, 'reply_count': 0, 'like_c...  1194759472087998464   \n",
       "1  {'retweet_count': 0, 'reply_count': 0, 'like_c...  1194759472087998464   \n",
       "2  {'retweet_count': 4, 'reply_count': 0, 'like_c...  1194759472087998464   \n",
       "3  {'retweet_count': 8, 'reply_count': 3, 'like_c...            470801601   \n",
       "4  {'retweet_count': 4, 'reply_count': 1, 'like_c...            470801601   \n",
       "\n",
       "                 created_at                   id  \\\n",
       "0 2020-10-09 12:17:15+00:00  1314540427874308096   \n",
       "1 2020-10-09 11:49:31+00:00  1314533448405614592   \n",
       "2 2020-10-09 10:12:43+00:00  1314509086596239360   \n",
       "3 2020-10-09 09:08:54+00:00  1314493025700077568   \n",
       "4 2020-10-09 08:08:07+00:00  1314477729371299840   \n",
       "\n",
       "                                   referenced_tweets            author_id  \\\n",
       "0  [{'type': 'replied_to', 'id': '131449302570007...   709375301583835136   \n",
       "1  [{'type': 'replied_to', 'id': '131449302570007...            470801601   \n",
       "2  [{'type': 'replied_to', 'id': '131449302570007...   816444807371517952   \n",
       "3  [{'type': 'replied_to', 'id': '131447772937129...  1194759472087998464   \n",
       "4  [{'type': 'replied_to', 'id': '131447772667861...            470801601   \n",
       "\n",
       "       conversation_id                                             author  \\\n",
       "0  1314477726678614016  {'description': 'Raising awareness for PANS Pa...   \n",
       "1  1314477726678614016  {'entities': {'description': {'urls': [{'start...   \n",
       "2  1314477726678614016  {'entities': {'url': {'urls': [{'start': 0, 'e...   \n",
       "3  1314477726678614016  {'entities': {'url': {'urls': [{'start': 0, 'e...   \n",
       "4  1314477726678614016  {'entities': {'description': {'urls': [{'start...   \n",
       "\n",
       "                                    in_reply_to_user  \\\n",
       "0  {'entities': {'url': {'urls': [{'start': 0, 'e...   \n",
       "1  {'entities': {'url': {'urls': [{'start': 0, 'e...   \n",
       "2  {'entities': {'url': {'urls': [{'start': 0, 'e...   \n",
       "3  {'entities': {'description': {'urls': [{'start...   \n",
       "4  {'entities': {'description': {'urls': [{'start...   \n",
       "\n",
       "                                             __twarc withheld  \\\n",
       "0  {'url': 'https://api.twitter.com/2/tweets/sear...      NaN   \n",
       "1  {'url': 'https://api.twitter.com/2/tweets/sear...      NaN   \n",
       "2  {'url': 'https://api.twitter.com/2/tweets/sear...      NaN   \n",
       "3  {'url': 'https://api.twitter.com/2/tweets/sear...      NaN   \n",
       "4  {'url': 'https://api.twitter.com/2/tweets/sear...      NaN   \n",
       "\n",
       "              user                                            mention  \\\n",
       "0  kathryn_gillett  RobinMillarMP, AlyAShields, BetsiCadwaladr, he...   \n",
       "1      AlyAShields  RobinMillarMP, BetsiCadwaladr, healthdpt, NICE...   \n",
       "2    soniaserrano0  RobinMillarMP, AlyAShields, BetsiCadwaladr, he...   \n",
       "3    RobinMillarMP  AlyAShields, BetsiCadwaladr, healthdpt, NICECo...   \n",
       "4      AlyAShields  BetsiCadwaladr, CALL_247, MindCymru, ResearchW...   \n",
       "\n",
       "  is_retweet  reply_to_user  \n",
       "0        nan  RobinMillarMP  \n",
       "1        nan  RobinMillarMP  \n",
       "2        nan  RobinMillarMP  \n",
       "3        nan    AlyAShields  \n",
       "4        nan    AlyAShields  "
      ]
     },
     "execution_count": 63,
     "metadata": {},
     "output_type": "execute_result"
    }
   ],
   "source": [
    "df_replies.head()"
   ]
  },
  {
   "cell_type": "code",
   "execution_count": 69,
   "id": "bright-option",
   "metadata": {
    "execution": {
     "iopub.execute_input": "2022-07-27T08:41:58.673087Z",
     "iopub.status.busy": "2022-07-27T08:41:58.673087Z",
     "iopub.status.idle": "2022-07-27T08:41:58.752160Z",
     "shell.execute_reply": "2022-07-27T08:41:58.752160Z",
     "shell.execute_reply.started": "2022-07-27T08:41:58.673087Z"
    }
   },
   "outputs": [],
   "source": [
    "before_rp = df_replies[df_replies[\"created_at\"] <= \"2020-01-01 00:00:00+00:00\"]\n",
    "first_wave_rp = df_replies[df_replies[\"created_at\"].between(\"2020-01-21 00:00:00+00:00\", \"2020-09-01 00:00:00+00:00\")]\n",
    "after_first_rp = df_replies[df_replies[\"created_at\"] >= \"2020-09-01 00:00:00+00:00\"]"
   ]
  },
  {
   "cell_type": "markdown",
   "id": "specialized-electron",
   "metadata": {},
   "source": [
    "## Before pandemic"
   ]
  },
  {
   "cell_type": "code",
   "execution_count": 72,
   "id": "dried-conservation",
   "metadata": {
    "execution": {
     "iopub.execute_input": "2022-07-27T08:42:13.896343Z",
     "iopub.status.busy": "2022-07-27T08:42:13.896343Z",
     "iopub.status.idle": "2022-07-27T08:42:13.900347Z",
     "shell.execute_reply": "2022-07-27T08:42:13.900347Z",
     "shell.execute_reply.started": "2022-07-27T08:42:13.896343Z"
    }
   },
   "outputs": [],
   "source": [
    "users = before_rp['user'].tolist()\n",
    "replies = before_rp['reply_to_user'].tolist()"
   ]
  },
  {
   "cell_type": "code",
   "execution_count": 73,
   "id": "balanced-quarterly",
   "metadata": {
    "execution": {
     "iopub.execute_input": "2022-07-27T08:42:14.125552Z",
     "iopub.status.busy": "2022-07-27T08:42:14.125552Z",
     "iopub.status.idle": "2022-07-27T08:42:14.140565Z",
     "shell.execute_reply": "2022-07-27T08:42:14.139563Z",
     "shell.execute_reply.started": "2022-07-27T08:42:14.125552Z"
    }
   },
   "outputs": [
    {
     "data": {
      "text/plain": [
       "'LDMSPR CherylJoanDavis'"
      ]
     },
     "execution_count": 73,
     "metadata": {},
     "output_type": "execute_result"
    }
   ],
   "source": [
    "# Creating adjadency list for network graph cration\n",
    "adj_list = [] \n",
    "\n",
    "for i in range(len(users)):\n",
    "    adj_list.append(users[i]+' '+replies[i].replace(',',' '))\n",
    "\n",
    "adj_list[0]"
   ]
  },
  {
   "cell_type": "code",
   "execution_count": 74,
   "id": "authentic-stationery",
   "metadata": {
    "execution": {
     "iopub.execute_input": "2022-07-27T08:42:14.629383Z",
     "iopub.status.busy": "2022-07-27T08:42:14.629383Z",
     "iopub.status.idle": "2022-07-27T08:42:14.650401Z",
     "shell.execute_reply": "2022-07-27T08:42:14.649400Z",
     "shell.execute_reply.started": "2022-07-27T08:42:14.629383Z"
    },
    "tags": []
   },
   "outputs": [],
   "source": [
    "# Writing adjacency list to textfile\n",
    "\n",
    "textfile = open(\"before_adjlist_rp.txt\", \"w\")\n",
    "\n",
    "for element in adj_list:\n",
    "    textfile.write(element + \"\\n\")\n",
    "textfile.close()"
   ]
  },
  {
   "cell_type": "code",
   "execution_count": 75,
   "id": "canadian-pipeline",
   "metadata": {
    "execution": {
     "iopub.execute_input": "2022-07-27T08:42:16.645169Z",
     "iopub.status.busy": "2022-07-27T08:42:16.645169Z",
     "iopub.status.idle": "2022-07-27T08:42:16.657180Z",
     "shell.execute_reply": "2022-07-27T08:42:16.657180Z",
     "shell.execute_reply.started": "2022-07-27T08:42:16.645169Z"
    },
    "tags": []
   },
   "outputs": [],
   "source": [
    "# Importing adjacency list to directed graph\n",
    "G = nx.Graph()\n",
    "G = nx.read_adjlist('before_adjlist_rp.txt', create_using = nx.DiGraph())\n",
    "nx.set_node_attributes(G, labels, \"party\")"
   ]
  },
  {
   "cell_type": "code",
   "execution_count": 76,
   "id": "further-exemption",
   "metadata": {
    "execution": {
     "iopub.execute_input": "2022-07-27T08:42:17.149968Z",
     "iopub.status.busy": "2022-07-27T08:42:17.149968Z",
     "iopub.status.idle": "2022-07-27T08:42:25.680505Z",
     "shell.execute_reply": "2022-07-27T08:42:25.679505Z",
     "shell.execute_reply.started": "2022-07-27T08:42:17.149968Z"
    },
    "tags": []
   },
   "outputs": [
    {
     "data": {
      "image/png": "[encoded data removed]",
      "text/plain": [
       "<Figure size 432x288 with 1 Axes>"
      ]
     },
     "metadata": {},
     "output_type": "display_data"
    }
   ],
   "source": [
    "nx.draw_networkx(G)"
   ]
  },
  {
   "cell_type": "code",
   "execution_count": 77,
   "id": "static-triple",
   "metadata": {
    "execution": {
     "iopub.execute_input": "2022-07-27T08:42:25.681506Z",
     "iopub.status.busy": "2022-07-27T08:42:25.681506Z",
     "iopub.status.idle": "2022-07-27T08:42:25.711533Z",
     "shell.execute_reply": "2022-07-27T08:42:25.710533Z",
     "shell.execute_reply.started": "2022-07-27T08:42:25.681506Z"
    }
   },
   "outputs": [],
   "source": [
    "nx.write_gexf(G, 'rp_before_network.gexf')"
   ]
  },
  {
   "cell_type": "markdown",
   "id": "fitted-system",
   "metadata": {},
   "source": [
    "## First wave"
   ]
  },
  {
   "cell_type": "code",
   "execution_count": 78,
   "id": "intense-gregory",
   "metadata": {
    "execution": {
     "iopub.execute_input": "2022-07-27T08:42:32.203603Z",
     "iopub.status.busy": "2022-07-27T08:42:32.203603Z",
     "iopub.status.idle": "2022-07-27T08:42:32.212290Z",
     "shell.execute_reply": "2022-07-27T08:42:32.212290Z",
     "shell.execute_reply.started": "2022-07-27T08:42:32.203603Z"
    }
   },
   "outputs": [],
   "source": [
    "users = first_wave_rp['user'].tolist()\n",
    "replies = first_wave_rp['reply_to_user'].tolist()"
   ]
  },
  {
   "cell_type": "code",
   "execution_count": 79,
   "id": "color-lawyer",
   "metadata": {
    "execution": {
     "iopub.execute_input": "2022-07-27T08:42:32.431489Z",
     "iopub.status.busy": "2022-07-27T08:42:32.431489Z",
     "iopub.status.idle": "2022-07-27T08:42:32.446502Z",
     "shell.execute_reply": "2022-07-27T08:42:32.446502Z",
     "shell.execute_reply.started": "2022-07-27T08:42:32.431489Z"
    }
   },
   "outputs": [
    {
     "data": {
      "text/plain": [
       "'BrynSeiriol RobinMillarMP'"
      ]
     },
     "execution_count": 79,
     "metadata": {},
     "output_type": "execute_result"
    }
   ],
   "source": [
    "# Creating adjadency list for network graph cration\n",
    "adj_list = [] \n",
    "\n",
    "for i in range(len(users)):\n",
    "    adj_list.append(users[i]+' '+replies[i].replace(',',' '))\n",
    "\n",
    "adj_list[0]"
   ]
  },
  {
   "cell_type": "code",
   "execution_count": 80,
   "id": "organic-powder",
   "metadata": {
    "execution": {
     "iopub.execute_input": "2022-07-27T08:42:34.118951Z",
     "iopub.status.busy": "2022-07-27T08:42:34.118951Z",
     "iopub.status.idle": "2022-07-27T08:42:34.131961Z",
     "shell.execute_reply": "2022-07-27T08:42:34.131961Z",
     "shell.execute_reply.started": "2022-07-27T08:42:34.118951Z"
    },
    "tags": []
   },
   "outputs": [],
   "source": [
    "# Writing adjacency list to textfile\n",
    "\n",
    "textfile = open(\"first_wave_rp_adjlist_rp.txt\", \"w\")\n",
    "\n",
    "for element in adj_list:\n",
    "    textfile.write(element + \"\\n\")\n",
    "textfile.close()"
   ]
  },
  {
   "cell_type": "code",
   "execution_count": 81,
   "id": "nonprofit-thomson",
   "metadata": {
    "execution": {
     "iopub.execute_input": "2022-07-27T08:42:34.807597Z",
     "iopub.status.busy": "2022-07-27T08:42:34.806596Z",
     "iopub.status.idle": "2022-07-27T08:42:34.835627Z",
     "shell.execute_reply": "2022-07-27T08:42:34.835627Z",
     "shell.execute_reply.started": "2022-07-27T08:42:34.807597Z"
    },
    "tags": []
   },
   "outputs": [],
   "source": [
    "# Importing adjacency list to directed graph\n",
    "G = nx.Graph()\n",
    "G = nx.read_adjlist('first_wave_rp_adjlist_rp.txt', create_using = nx.DiGraph())\n",
    "nx.set_node_attributes(G, labels, \"party\")"
   ]
  },
  {
   "cell_type": "code",
   "execution_count": 82,
   "id": "intense-administrator",
   "metadata": {
    "execution": {
     "iopub.execute_input": "2022-07-27T08:42:35.631682Z",
     "iopub.status.busy": "2022-07-27T08:42:35.631682Z",
     "iopub.status.idle": "2022-07-27T08:43:23.217575Z",
     "shell.execute_reply": "2022-07-27T08:43:23.216574Z",
     "shell.execute_reply.started": "2022-07-27T08:42:35.631682Z"
    },
    "tags": []
   },
   "outputs": [
    {
     "data": {
      "image/png": "[encoded data removed]",
      "text/plain": [
       "<Figure size 432x288 with 1 Axes>"
      ]
     },
     "metadata": {},
     "output_type": "display_data"
    }
   ],
   "source": [
    "nx.draw_networkx(G)"
   ]
  },
  {
   "cell_type": "code",
   "execution_count": 83,
   "id": "plain-helmet",
   "metadata": {
    "execution": {
     "iopub.execute_input": "2022-07-27T08:43:23.218576Z",
     "iopub.status.busy": "2022-07-27T08:43:23.218576Z",
     "iopub.status.idle": "2022-07-27T08:43:23.296647Z",
     "shell.execute_reply": "2022-07-27T08:43:23.296647Z",
     "shell.execute_reply.started": "2022-07-27T08:43:23.218576Z"
    }
   },
   "outputs": [],
   "source": [
    "nx.write_gexf(G, 'rp_first_wave_network.gexf')"
   ]
  },
  {
   "cell_type": "markdown",
   "id": "greater-pocket",
   "metadata": {},
   "source": [
    "## After first wave"
   ]
  },
  {
   "cell_type": "code",
   "execution_count": 84,
   "id": "characteristic-array",
   "metadata": {
    "execution": {
     "iopub.execute_input": "2022-07-27T08:43:23.297648Z",
     "iopub.status.busy": "2022-07-27T08:43:23.297648Z",
     "iopub.status.idle": "2022-07-27T08:43:23.312661Z",
     "shell.execute_reply": "2022-07-27T08:43:23.312661Z",
     "shell.execute_reply.started": "2022-07-27T08:43:23.297648Z"
    }
   },
   "outputs": [],
   "source": [
    "users = after_first_rp['user'].tolist()\n",
    "replies = after_first_rp['reply_to_user'].tolist()"
   ]
  },
  {
   "cell_type": "code",
   "execution_count": 85,
   "id": "oriented-nursing",
   "metadata": {
    "execution": {
     "iopub.execute_input": "2022-07-27T08:43:23.313662Z",
     "iopub.status.busy": "2022-07-27T08:43:23.313662Z",
     "iopub.status.idle": "2022-07-27T08:43:23.358703Z",
     "shell.execute_reply": "2022-07-27T08:43:23.358703Z",
     "shell.execute_reply.started": "2022-07-27T08:43:23.313662Z"
    }
   },
   "outputs": [
    {
     "data": {
      "text/plain": [
       "'kathryn_gillett RobinMillarMP'"
      ]
     },
     "execution_count": 85,
     "metadata": {},
     "output_type": "execute_result"
    }
   ],
   "source": [
    "# Creating adjadency list for network graph cration\n",
    "adj_list = [] \n",
    "\n",
    "for i in range(len(users)):\n",
    "    adj_list.append(users[i]+' '+replies[i].replace(',',' '))\n",
    "\n",
    "adj_list[0]"
   ]
  },
  {
   "cell_type": "code",
   "execution_count": 86,
   "id": "vanilla-honduras",
   "metadata": {
    "execution": {
     "iopub.execute_input": "2022-07-27T08:43:23.359705Z",
     "iopub.status.busy": "2022-07-27T08:43:23.359705Z",
     "iopub.status.idle": "2022-07-27T08:43:23.405746Z",
     "shell.execute_reply": "2022-07-27T08:43:23.405746Z",
     "shell.execute_reply.started": "2022-07-27T08:43:23.359705Z"
    },
    "tags": []
   },
   "outputs": [],
   "source": [
    "# Writing adjacency list to textfile\n",
    "\n",
    "textfile = open(\"after_first_rp_adjlist_rp.txt\", \"w\")\n",
    "\n",
    "for element in adj_list:\n",
    "    textfile.write(element + \"\\n\")\n",
    "textfile.close()"
   ]
  },
  {
   "cell_type": "code",
   "execution_count": 87,
   "id": "capable-nomination",
   "metadata": {
    "execution": {
     "iopub.execute_input": "2022-07-27T08:43:23.406747Z",
     "iopub.status.busy": "2022-07-27T08:43:23.406747Z",
     "iopub.status.idle": "2022-07-27T08:43:23.590913Z",
     "shell.execute_reply": "2022-07-27T08:43:23.590913Z",
     "shell.execute_reply.started": "2022-07-27T08:43:23.406747Z"
    },
    "tags": []
   },
   "outputs": [],
   "source": [
    "# Importing adjacency list to directed graph\n",
    "G = nx.Graph()\n",
    "G = nx.read_adjlist('after_first_rp_adjlist_rp.txt', create_using = nx.DiGraph())\n",
    "nx.set_node_attributes(G, labels, \"party\")"
   ]
  },
  {
   "cell_type": "code",
   "execution_count": 88,
   "id": "bound-invite",
   "metadata": {
    "execution": {
     "iopub.execute_input": "2022-07-27T08:43:23.591916Z",
     "iopub.status.busy": "2022-07-27T08:43:23.591916Z",
     "iopub.status.idle": "2022-07-27T09:00:13.847282Z",
     "shell.execute_reply": "2022-07-27T09:00:13.847282Z",
     "shell.execute_reply.started": "2022-07-27T08:43:23.591916Z"
    },
    "tags": []
   },
   "outputs": [
    {
     "data": {
      "image/png": "[encoded data removed]",
      "text/plain": [
       "<Figure size 432x288 with 1 Axes>"
      ]
     },
     "metadata": {},
     "output_type": "display_data"
    }
   ],
   "source": [
    "nx.draw_networkx(G)"
   ]
  },
  {
   "cell_type": "code",
   "execution_count": 89,
   "id": "noble-delicious",
   "metadata": {
    "execution": {
     "iopub.execute_input": "2022-07-27T09:00:13.848282Z",
     "iopub.status.busy": "2022-07-27T09:00:13.848282Z",
     "iopub.status.idle": "2022-07-27T09:00:14.371354Z",
     "shell.execute_reply": "2022-07-27T09:00:14.371354Z",
     "shell.execute_reply.started": "2022-07-27T09:00:13.848282Z"
    }
   },
   "outputs": [],
   "source": [
    "nx.write_gexf(G, 'rp_after_first_network.gexf')"
   ]
  },
  {
   "cell_type": "code",
   "execution_count": null,
   "id": "asian-motel",
   "metadata": {},
   "outputs": [],
   "source": []
  }
 ],
 "metadata": {
  "kernelspec": {
   "display_name": "Python 3",
   "language": "python",
   "name": "python3"
  },
  "language_info": {
   "codemirror_mode": {
    "name": "ipython",
    "version": 3
   },
   "file_extension": ".py",
   "mimetype": "text/x-python",
   "name": "python",
   "nbconvert_exporter": "python",
   "pygments_lexer": "ipython3",
   "version": "3.8.5"
  },
  "widgets": {
   "application/vnd.jupyter.widget-state+json": {
    "state": {},
    "version_major": 2,
    "version_minor": 0
   }
  }
 },
 "nbformat": 4,
 "nbformat_minor": 5
}
