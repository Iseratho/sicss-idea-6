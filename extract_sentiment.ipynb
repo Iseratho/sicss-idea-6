{
 "cells": [
  {
   "cell_type": "code",
   "execution_count": 6,
   "id": "8922591d-7dc0-44f9-9c98-a35fe4908dc8",
   "metadata": {},
   "outputs": [],
   "source": [
    "import pandas as pd\n",
    "from transformers import pipeline\n",
    "import tqdm\n",
    "tqdm.tqdm.pandas()"
   ]
  },
  {
   "cell_type": "code",
   "execution_count": 7,
   "id": "bab9baea-e2a7-42b7-aab0-4500c2a889ca",
   "metadata": {},
   "outputs": [
    {
     "data": {
      "text/plain": [
       "[{'label': 'Positive', 'score': 0.6600587964057922}]"
      ]
     },
     "execution_count": 7,
     "metadata": {},
     "output_type": "execute_result"
    }
   ],
   "source": [
    "model_path = \"cardiffnlp/twitter-xlm-roberta-base-sentiment\"\n",
    "sentiment_task = pipeline(\"sentiment-analysis\", model=model_path, tokenizer=model_path)\n",
    "sentiment_task(\"T'estimo!\")"
   ]
  },
  {
   "cell_type": "code",
   "execution_count": 8,
   "id": "ced96653-068d-4574-bf5e-1fe3e83979d7",
   "metadata": {},
   "outputs": [
    {
     "data": {
      "text/html": [
       "<div>\n",
       "<style scoped>\n",
       "    .dataframe tbody tr th:only-of-type {\n",
       "        vertical-align: middle;\n",
       "    }\n",
       "\n",
       "    .dataframe tbody tr th {\n",
       "        vertical-align: top;\n",
       "    }\n",
       "\n",
       "    .dataframe thead th {\n",
       "        text-align: right;\n",
       "    }\n",
       "</style>\n",
       "<table border=\"1\" class=\"dataframe\">\n",
       "  <thead>\n",
       "    <tr style=\"text-align: right;\">\n",
       "      <th></th>\n",
       "      <th>text</th>\n",
       "      <th>public_metrics</th>\n",
       "      <th>entities</th>\n",
       "      <th>reply_settings</th>\n",
       "      <th>created_at</th>\n",
       "      <th>id</th>\n",
       "      <th>source</th>\n",
       "      <th>author_id</th>\n",
       "      <th>possibly_sensitive</th>\n",
       "      <th>lang</th>\n",
       "      <th>conversation_id</th>\n",
       "      <th>author</th>\n",
       "      <th>__twarc</th>\n",
       "      <th>in_reply_to_user_id</th>\n",
       "      <th>referenced_tweets</th>\n",
       "      <th>in_reply_to_user</th>\n",
       "      <th>context_annotations</th>\n",
       "      <th>attachments</th>\n",
       "      <th>geo</th>\n",
       "    </tr>\n",
       "  </thead>\n",
       "  <tbody>\n",
       "    <tr>\n",
       "      <th>0</th>\n",
       "      <td>5: @HullHospitals @NHSEngland from needing a b...</td>\n",
       "      <td>{'retweet_count': 0, 'reply_count': 0, 'like_c...</td>\n",
       "      <td>{'annotations': [{'start': 109, 'end': 112, 'p...</td>\n",
       "      <td>everyone</td>\n",
       "      <td>2022-07-24 08:20:40+00:00</td>\n",
       "      <td>1551120166779592704</td>\n",
       "      <td>Twitter for iPhone</td>\n",
       "      <td>85909290</td>\n",
       "      <td>False</td>\n",
       "      <td>en</td>\n",
       "      <td>1551120166779592704</td>\n",
       "      <td>{'description': 'Mother of two. Living back in...</td>\n",
       "      <td>{'url': 'https://api.twitter.com/2/tweets/sear...</td>\n",
       "      <td>NaN</td>\n",
       "      <td>NaN</td>\n",
       "      <td>NaN</td>\n",
       "      <td>NaN</td>\n",
       "      <td>NaN</td>\n",
       "      <td>NaN</td>\n",
       "    </tr>\n",
       "    <tr>\n",
       "      <th>1</th>\n",
       "      <td>@healthyopinion @NHSEngland From the Empire? M...</td>\n",
       "      <td>{'retweet_count': 0, 'reply_count': 1, 'like_c...</td>\n",
       "      <td>{'annotations': [{'start': 48, 'end': 50, 'pro...</td>\n",
       "      <td>everyone</td>\n",
       "      <td>2022-07-19 20:40:20+00:00</td>\n",
       "      <td>1549494367626428416</td>\n",
       "      <td>Twitter for iPad</td>\n",
       "      <td>21388147</td>\n",
       "      <td>False</td>\n",
       "      <td>en</td>\n",
       "      <td>1549468647504093184</td>\n",
       "      <td>{'description': 'Retired dentist writes a lot ...</td>\n",
       "      <td>{'url': 'https://api.twitter.com/2/tweets/sear...</td>\n",
       "      <td>362852730.0</td>\n",
       "      <td>[{'type': 'replied_to', 'id': '154949320030545...</td>\n",
       "      <td>{'entities': {'url': {'urls': [{'start': 0, 'e...</td>\n",
       "      <td>NaN</td>\n",
       "      <td>NaN</td>\n",
       "      <td>NaN</td>\n",
       "    </tr>\n",
       "    <tr>\n",
       "      <th>2</th>\n",
       "      <td>@NHSEngland \\nFrom enjoying our parks, outdoor...</td>\n",
       "      <td>{'retweet_count': 0, 'reply_count': 0, 'like_c...</td>\n",
       "      <td>{'urls': [{'start': 248, 'end': 271, 'url': 'h...</td>\n",
       "      <td>everyone</td>\n",
       "      <td>2022-07-17 13:15:35+00:00</td>\n",
       "      <td>1548657667777896448</td>\n",
       "      <td>Twitter Web App</td>\n",
       "      <td>937672447083663360</td>\n",
       "      <td>False</td>\n",
       "      <td>en</td>\n",
       "      <td>1548657667777896448</td>\n",
       "      <td>{'description': '', 'profile_image_url': 'http...</td>\n",
       "      <td>{'url': 'https://api.twitter.com/2/tweets/sear...</td>\n",
       "      <td>551426814.0</td>\n",
       "      <td>NaN</td>\n",
       "      <td>{'entities': {'url': {'urls': [{'start': 0, 'e...</td>\n",
       "      <td>[{'domain': {'id': '65', 'name': 'Interests an...</td>\n",
       "      <td>NaN</td>\n",
       "      <td>NaN</td>\n",
       "    </tr>\n",
       "    <tr>\n",
       "      <th>3</th>\n",
       "      <td>RT @NHSEngland: From caring for patients in ho...</td>\n",
       "      <td>{'retweet_count': 11, 'reply_count': 0, 'like_...</td>\n",
       "      <td>{'annotations': [{'start': 78, 'end': 80, 'pro...</td>\n",
       "      <td>everyone</td>\n",
       "      <td>2022-07-14 13:40:51+00:00</td>\n",
       "      <td>1547576864566194176</td>\n",
       "      <td>Twitter for Android</td>\n",
       "      <td>1542568393915699200</td>\n",
       "      <td>False</td>\n",
       "      <td>en</td>\n",
       "      <td>1547576864566194176</td>\n",
       "      <td>{'description': '', 'profile_image_url': 'http...</td>\n",
       "      <td>{'url': 'https://api.twitter.com/2/tweets/sear...</td>\n",
       "      <td>NaN</td>\n",
       "      <td>[{'type': 'retweeted', 'id': '1532345051237449...</td>\n",
       "      <td>NaN</td>\n",
       "      <td>NaN</td>\n",
       "      <td>NaN</td>\n",
       "      <td>NaN</td>\n",
       "    </tr>\n",
       "    <tr>\n",
       "      <th>4</th>\n",
       "      <td>Watching a documentary about #racism in the  @...</td>\n",
       "      <td>{'retweet_count': 0, 'reply_count': 0, 'like_c...</td>\n",
       "      <td>{'urls': [{'start': 158, 'end': 181, 'url': 'h...</td>\n",
       "      <td>everyone</td>\n",
       "      <td>2022-07-14 10:39:31+00:00</td>\n",
       "      <td>1547531228739403776</td>\n",
       "      <td>Twitter Web App</td>\n",
       "      <td>847173200261890048</td>\n",
       "      <td>False</td>\n",
       "      <td>en</td>\n",
       "      <td>1547531228739403776</td>\n",
       "      <td>{'entities': {'url': {'urls': [{'start': 0, 'e...</td>\n",
       "      <td>{'url': 'https://api.twitter.com/2/tweets/sear...</td>\n",
       "      <td>NaN</td>\n",
       "      <td>NaN</td>\n",
       "      <td>NaN</td>\n",
       "      <td>[{'domain': {'id': '87', 'name': 'Movie Genre'...</td>\n",
       "      <td>NaN</td>\n",
       "      <td>NaN</td>\n",
       "    </tr>\n",
       "  </tbody>\n",
       "</table>\n",
       "</div>"
      ],
      "text/plain": [
       "                                                text  \\\n",
       "0  5: @HullHospitals @NHSEngland from needing a b...   \n",
       "1  @healthyopinion @NHSEngland From the Empire? M...   \n",
       "2  @NHSEngland \\nFrom enjoying our parks, outdoor...   \n",
       "3  RT @NHSEngland: From caring for patients in ho...   \n",
       "4  Watching a documentary about #racism in the  @...   \n",
       "\n",
       "                                      public_metrics  \\\n",
       "0  {'retweet_count': 0, 'reply_count': 0, 'like_c...   \n",
       "1  {'retweet_count': 0, 'reply_count': 1, 'like_c...   \n",
       "2  {'retweet_count': 0, 'reply_count': 0, 'like_c...   \n",
       "3  {'retweet_count': 11, 'reply_count': 0, 'like_...   \n",
       "4  {'retweet_count': 0, 'reply_count': 0, 'like_c...   \n",
       "\n",
       "                                            entities reply_settings  \\\n",
       "0  {'annotations': [{'start': 109, 'end': 112, 'p...       everyone   \n",
       "1  {'annotations': [{'start': 48, 'end': 50, 'pro...       everyone   \n",
       "2  {'urls': [{'start': 248, 'end': 271, 'url': 'h...       everyone   \n",
       "3  {'annotations': [{'start': 78, 'end': 80, 'pro...       everyone   \n",
       "4  {'urls': [{'start': 158, 'end': 181, 'url': 'h...       everyone   \n",
       "\n",
       "                 created_at                   id               source  \\\n",
       "0 2022-07-24 08:20:40+00:00  1551120166779592704   Twitter for iPhone   \n",
       "1 2022-07-19 20:40:20+00:00  1549494367626428416     Twitter for iPad   \n",
       "2 2022-07-17 13:15:35+00:00  1548657667777896448      Twitter Web App   \n",
       "3 2022-07-14 13:40:51+00:00  1547576864566194176  Twitter for Android   \n",
       "4 2022-07-14 10:39:31+00:00  1547531228739403776      Twitter Web App   \n",
       "\n",
       "             author_id  possibly_sensitive lang      conversation_id  \\\n",
       "0             85909290               False   en  1551120166779592704   \n",
       "1             21388147               False   en  1549468647504093184   \n",
       "2   937672447083663360               False   en  1548657667777896448   \n",
       "3  1542568393915699200               False   en  1547576864566194176   \n",
       "4   847173200261890048               False   en  1547531228739403776   \n",
       "\n",
       "                                              author  \\\n",
       "0  {'description': 'Mother of two. Living back in...   \n",
       "1  {'description': 'Retired dentist writes a lot ...   \n",
       "2  {'description': '', 'profile_image_url': 'http...   \n",
       "3  {'description': '', 'profile_image_url': 'http...   \n",
       "4  {'entities': {'url': {'urls': [{'start': 0, 'e...   \n",
       "\n",
       "                                             __twarc  in_reply_to_user_id  \\\n",
       "0  {'url': 'https://api.twitter.com/2/tweets/sear...                  NaN   \n",
       "1  {'url': 'https://api.twitter.com/2/tweets/sear...          362852730.0   \n",
       "2  {'url': 'https://api.twitter.com/2/tweets/sear...          551426814.0   \n",
       "3  {'url': 'https://api.twitter.com/2/tweets/sear...                  NaN   \n",
       "4  {'url': 'https://api.twitter.com/2/tweets/sear...                  NaN   \n",
       "\n",
       "                                   referenced_tweets  \\\n",
       "0                                                NaN   \n",
       "1  [{'type': 'replied_to', 'id': '154949320030545...   \n",
       "2                                                NaN   \n",
       "3  [{'type': 'retweeted', 'id': '1532345051237449...   \n",
       "4                                                NaN   \n",
       "\n",
       "                                    in_reply_to_user  \\\n",
       "0                                                NaN   \n",
       "1  {'entities': {'url': {'urls': [{'start': 0, 'e...   \n",
       "2  {'entities': {'url': {'urls': [{'start': 0, 'e...   \n",
       "3                                                NaN   \n",
       "4                                                NaN   \n",
       "\n",
       "                                 context_annotations attachments  geo  \n",
       "0                                                NaN         NaN  NaN  \n",
       "1                                                NaN         NaN  NaN  \n",
       "2  [{'domain': {'id': '65', 'name': 'Interests an...         NaN  NaN  \n",
       "3                                                NaN         NaN  NaN  \n",
       "4  [{'domain': {'id': '87', 'name': 'Movie Genre'...         NaN  NaN  "
      ]
     },
     "execution_count": 8,
     "metadata": {},
     "output_type": "execute_result"
    }
   ],
   "source": [
    "tweets = pd.read_json(\"tweets_flat.json\", lines=True)\n",
    "tweets.head()"
   ]
  },
  {
   "cell_type": "code",
   "execution_count": 9,
   "id": "de9d11b5-137f-4236-ad44-ae2f5727a1c9",
   "metadata": {},
   "outputs": [
    {
     "name": "stderr",
     "output_type": "stream",
     "text": [
      "100%|███████████████████████████████████████████████████████████████████████████████| 3482/3482 [16:09<00:00,  3.59it/s]\n"
     ]
    }
   ],
   "source": [
    "def get_sentiment(x):\n",
    "    return sentiment_task(x)[0]['label']\n",
    "\n",
    "tweets[\"sentiment\"] = tweets[\"text\"].progress_map(get_sentiment)"
   ]
  },
  {
   "cell_type": "code",
   "execution_count": 13,
   "id": "aea75053-61ca-4f18-a43f-d068b87efe1d",
   "metadata": {},
   "outputs": [
    {
     "ename": "KeyError",
     "evalue": "\"None of ['id'] are in the columns\"",
     "output_type": "error",
     "traceback": [
      "\u001b[0;31m---------------------------------------------------------------------------\u001b[0m",
      "\u001b[0;31mKeyError\u001b[0m                                  Traceback (most recent call last)",
      "\u001b[0;32m/tmp/ipykernel_4000/3871537500.py\u001b[0m in \u001b[0;36m<module>\u001b[0;34m\u001b[0m\n\u001b[0;32m----> 1\u001b[0;31m \u001b[0mtweets\u001b[0m \u001b[0;34m=\u001b[0m \u001b[0mtweets\u001b[0m\u001b[0;34m.\u001b[0m\u001b[0mset_index\u001b[0m\u001b[0;34m(\u001b[0m\u001b[0;34m\"id\"\u001b[0m\u001b[0;34m)\u001b[0m\u001b[0;34m\u001b[0m\u001b[0;34m\u001b[0m\u001b[0m\n\u001b[0m\u001b[1;32m      2\u001b[0m \u001b[0mtweets\u001b[0m\u001b[0;34m[\u001b[0m\u001b[0;34m\"sentiment\"\u001b[0m\u001b[0;34m]\u001b[0m\u001b[0;34m.\u001b[0m\u001b[0mto_csv\u001b[0m\u001b[0;34m(\u001b[0m\u001b[0;34m\"tweet_sentiment.csv\"\u001b[0m\u001b[0;34m)\u001b[0m\u001b[0;34m\u001b[0m\u001b[0;34m\u001b[0m\u001b[0m\n",
      "\u001b[0;32m~/miniconda3/lib/python3.9/site-packages/pandas/util/_decorators.py\u001b[0m in \u001b[0;36mwrapper\u001b[0;34m(*args, **kwargs)\u001b[0m\n\u001b[1;32m    309\u001b[0m                     \u001b[0mstacklevel\u001b[0m\u001b[0;34m=\u001b[0m\u001b[0mstacklevel\u001b[0m\u001b[0;34m,\u001b[0m\u001b[0;34m\u001b[0m\u001b[0;34m\u001b[0m\u001b[0m\n\u001b[1;32m    310\u001b[0m                 )\n\u001b[0;32m--> 311\u001b[0;31m             \u001b[0;32mreturn\u001b[0m \u001b[0mfunc\u001b[0m\u001b[0;34m(\u001b[0m\u001b[0;34m*\u001b[0m\u001b[0margs\u001b[0m\u001b[0;34m,\u001b[0m \u001b[0;34m**\u001b[0m\u001b[0mkwargs\u001b[0m\u001b[0;34m)\u001b[0m\u001b[0;34m\u001b[0m\u001b[0;34m\u001b[0m\u001b[0m\n\u001b[0m\u001b[1;32m    312\u001b[0m \u001b[0;34m\u001b[0m\u001b[0m\n\u001b[1;32m    313\u001b[0m         \u001b[0;32mreturn\u001b[0m \u001b[0mwrapper\u001b[0m\u001b[0;34m\u001b[0m\u001b[0;34m\u001b[0m\u001b[0m\n",
      "\u001b[0;32m~/miniconda3/lib/python3.9/site-packages/pandas/core/frame.py\u001b[0m in \u001b[0;36mset_index\u001b[0;34m(self, keys, drop, append, inplace, verify_integrity)\u001b[0m\n\u001b[1;32m   5449\u001b[0m \u001b[0;34m\u001b[0m\u001b[0m\n\u001b[1;32m   5450\u001b[0m         \u001b[0;32mif\u001b[0m \u001b[0mmissing\u001b[0m\u001b[0;34m:\u001b[0m\u001b[0;34m\u001b[0m\u001b[0;34m\u001b[0m\u001b[0m\n\u001b[0;32m-> 5451\u001b[0;31m             \u001b[0;32mraise\u001b[0m \u001b[0mKeyError\u001b[0m\u001b[0;34m(\u001b[0m\u001b[0;34mf\"None of {missing} are in the columns\"\u001b[0m\u001b[0;34m)\u001b[0m\u001b[0;34m\u001b[0m\u001b[0;34m\u001b[0m\u001b[0m\n\u001b[0m\u001b[1;32m   5452\u001b[0m \u001b[0;34m\u001b[0m\u001b[0m\n\u001b[1;32m   5453\u001b[0m         \u001b[0;32mif\u001b[0m \u001b[0minplace\u001b[0m\u001b[0;34m:\u001b[0m\u001b[0;34m\u001b[0m\u001b[0;34m\u001b[0m\u001b[0m\n",
      "\u001b[0;31mKeyError\u001b[0m: \"None of ['id'] are in the columns\""
     ]
    }
   ],
   "source": [
    "tweets = tweets.set_index(\"id\")\n",
    "tweets[\"sentiment\"].to_csv(\"tweet_sentiment.csv\")"
   ]
  },
  {
   "cell_type": "code",
   "execution_count": 14,
   "id": "2366a3c3-0153-4411-8a9f-81318f397124",
   "metadata": {},
   "outputs": [
    {
     "data": {
      "text/plain": [
       "Neutral     2517\n",
       "Positive     824\n",
       "Negative     141\n",
       "Name: sentiment, dtype: int64"
      ]
     },
     "execution_count": 14,
     "metadata": {},
     "output_type": "execute_result"
    }
   ],
   "source": [
    "tweets[\"sentiment\"].value_counts()"
   ]
  },
  {
   "cell_type": "code",
   "execution_count": 36,
   "id": "f01dc467-9584-4ed5-81a0-edeaa1bc5e10",
   "metadata": {},
   "outputs": [
    {
     "data": {
      "text/plain": [
       "after_first    1544\n",
       "first_wave     1460\n",
       "before          478\n",
       "Name: split, dtype: int64"
      ]
     },
     "execution_count": 36,
     "metadata": {},
     "output_type": "execute_result"
    }
   ],
   "source": [
    "# def split_label(x):\n",
    "#     print(x)\n",
    "#     if x <= \"2020-01-01 00:00:00+00:00\":\n",
    "#         return \"before\"\n",
    "#     elif x > \"2020-01-01 00:00:00+00:00\" and x < \"2020-01-01 00:00:00+00:00\":\n",
    "#         return \"first_wave\"\n",
    "#     elif x >= \"2020-09-01 00:00:00+00:00\":\n",
    "#         return \"after_first\"\n",
    "\n",
    "tweets[\"split\"] = \"after_first\"\n",
    "tweets.loc[(tweets[\"created_at\"] < \"2020-09-01 00:00:00+00:00\"), \"split\"] = \"first_wave\"\n",
    "tweets.loc[(tweets[\"created_at\"] < \"2020-01-01 00:00:00+00:00\"), \"split\"] = \"before\"\n",
    "# tweets[\"split\"] = \"N/A\"\n",
    "# tweets[\"split\"] = tweets[\"created_at\"] <= \"2020-01-01 00:00:00+00:00\"\n",
    "# tweets[\"split\"] = tweets[\"created_at\"].map(split_label)\n",
    "tweets[\"split\"].value_counts()"
   ]
  },
  {
   "cell_type": "code",
   "execution_count": 88,
   "id": "1ce21ecc-ef24-426e-960b-4c212a1364a8",
   "metadata": {},
   "outputs": [
    {
     "data": {
      "text/plain": [
       "<AxesSubplot:xlabel='split', ylabel='count'>"
      ]
     },
     "execution_count": 88,
     "metadata": {},
     "output_type": "execute_result"
    },
    {
     "data": {
      "image/png": "[encoded data removed]",
      "text/plain": [
       "<Figure size 432x288 with 1 Axes>"
      ]
     },
     "metadata": {
      "needs_background": "light"
     },
     "output_type": "display_data"
    }
   ],
   "source": [
    "import seaborn as sns\n",
    "import matplotlib.pyplot as plt\n",
    "sns.countplot(data=tweets, x=\"split\", hue=\"sentiment\", order=[\"before\", \"first_wave\", \"after_first\"])"
   ]
  },
  {
   "cell_type": "code",
   "execution_count": 54,
   "id": "87146e57-56c3-413c-88d6-fa78ec74c96e",
   "metadata": {},
   "outputs": [
    {
     "data": {
      "text/plain": [
       "split        sentiment\n",
       "after_first  Neutral      0.580959\n",
       "             Positive     0.351684\n",
       "             Negative     0.067358\n",
       "before       Neutral      0.966527\n",
       "             Positive     0.018828\n",
       "             Negative     0.014644\n",
       "first_wave   Neutral      0.793151\n",
       "             Positive     0.186301\n",
       "             Negative     0.020548\n",
       "Name: sentiment, dtype: float64"
      ]
     },
     "execution_count": 54,
     "metadata": {},
     "output_type": "execute_result"
    }
   ],
   "source": [
    "tweets.groupby(\"split\")[\"sentiment\"].value_counts(normalize=True)"
   ]
  },
  {
   "cell_type": "code",
   "execution_count": 63,
   "id": "96cdc166-543d-4496-aa89-6ed248d12e68",
   "metadata": {},
   "outputs": [
    {
     "data": {
      "text/html": [
       "<div>\n",
       "<style scoped>\n",
       "    .dataframe tbody tr th:only-of-type {\n",
       "        vertical-align: middle;\n",
       "    }\n",
       "\n",
       "    .dataframe tbody tr th {\n",
       "        vertical-align: top;\n",
       "    }\n",
       "\n",
       "    .dataframe thead th {\n",
       "        text-align: right;\n",
       "    }\n",
       "</style>\n",
       "<table border=\"1\" class=\"dataframe\">\n",
       "  <thead>\n",
       "    <tr style=\"text-align: right;\">\n",
       "      <th></th>\n",
       "      <th>split</th>\n",
       "      <th>sentiment</th>\n",
       "      <th>percent</th>\n",
       "    </tr>\n",
       "  </thead>\n",
       "  <tbody>\n",
       "    <tr>\n",
       "      <th>0</th>\n",
       "      <td>after_first</td>\n",
       "      <td>Neutral</td>\n",
       "      <td>0.580959</td>\n",
       "    </tr>\n",
       "    <tr>\n",
       "      <th>1</th>\n",
       "      <td>after_first</td>\n",
       "      <td>Positive</td>\n",
       "      <td>0.351684</td>\n",
       "    </tr>\n",
       "    <tr>\n",
       "      <th>2</th>\n",
       "      <td>after_first</td>\n",
       "      <td>Negative</td>\n",
       "      <td>0.067358</td>\n",
       "    </tr>\n",
       "    <tr>\n",
       "      <th>3</th>\n",
       "      <td>before</td>\n",
       "      <td>Neutral</td>\n",
       "      <td>0.966527</td>\n",
       "    </tr>\n",
       "    <tr>\n",
       "      <th>4</th>\n",
       "      <td>before</td>\n",
       "      <td>Positive</td>\n",
       "      <td>0.018828</td>\n",
       "    </tr>\n",
       "    <tr>\n",
       "      <th>5</th>\n",
       "      <td>before</td>\n",
       "      <td>Negative</td>\n",
       "      <td>0.014644</td>\n",
       "    </tr>\n",
       "    <tr>\n",
       "      <th>6</th>\n",
       "      <td>first_wave</td>\n",
       "      <td>Neutral</td>\n",
       "      <td>0.793151</td>\n",
       "    </tr>\n",
       "    <tr>\n",
       "      <th>7</th>\n",
       "      <td>first_wave</td>\n",
       "      <td>Positive</td>\n",
       "      <td>0.186301</td>\n",
       "    </tr>\n",
       "    <tr>\n",
       "      <th>8</th>\n",
       "      <td>first_wave</td>\n",
       "      <td>Negative</td>\n",
       "      <td>0.020548</td>\n",
       "    </tr>\n",
       "  </tbody>\n",
       "</table>\n",
       "</div>"
      ],
      "text/plain": [
       "         split sentiment   percent\n",
       "0  after_first   Neutral  0.580959\n",
       "1  after_first  Positive  0.351684\n",
       "2  after_first  Negative  0.067358\n",
       "3       before   Neutral  0.966527\n",
       "4       before  Positive  0.018828\n",
       "5       before  Negative  0.014644\n",
       "6   first_wave   Neutral  0.793151\n",
       "7   first_wave  Positive  0.186301\n",
       "8   first_wave  Negative  0.020548"
      ]
     },
     "execution_count": 63,
     "metadata": {},
     "output_type": "execute_result"
    }
   ],
   "source": [
    "reshaped = tweets.groupby(\"split\")[\"sentiment\"].value_counts(normalize=True).rename(\"percent\").reset_index()\n",
    "reshaped"
   ]
  },
  {
   "cell_type": "code",
   "execution_count": 81,
   "id": "a430ac9b-00fa-4462-8b89-c96dce14e735",
   "metadata": {},
   "outputs": [
    {
     "data": {
      "text/plain": [
       "<AxesSubplot:xlabel='split', ylabel='percent'>"
      ]
     },
     "execution_count": 81,
     "metadata": {},
     "output_type": "execute_result"
    },
    {
     "data": {
      "image/png": "[encoded data removed]",
      "text/plain": [
       "<Figure size 432x288 with 1 Axes>"
      ]
     },
     "metadata": {
      "needs_background": "light"
     },
     "output_type": "display_data"
    }
   ],
   "source": [
    "sns.barplot(data=reshaped, x=\"split\", y=\"percent\", hue=\"sentiment\", \n",
    "            order=[\"before\", \"first_wave\", \"after_first\"], \n",
    "            hue_order=[\"Negative\", \"Neutral\", \"Positive\"])"
   ]
  },
  {
   "cell_type": "code",
   "execution_count": 86,
   "id": "9d9f5bb8-559e-48bb-9746-5c682aa6784a",
   "metadata": {},
   "outputs": [
    {
     "data": {
      "text/plain": [
       "<AxesSubplot:xlabel='split', ylabel='percent'>"
      ]
     },
     "execution_count": 86,
     "metadata": {},
     "output_type": "execute_result"
    },
    {
     "data": {
      "image/png": "[encoded data removed]",
      "text/plain": [
       "<Figure size 432x288 with 1 Axes>"
      ]
     },
     "metadata": {
      "needs_background": "light"
     },
     "output_type": "display_data"
    }
   ],
   "source": [
    "no_neutral = tweets[tweets[\"sentiment\"] != \"Neutral\"]\n",
    "reshaped_no_neutral = no_neutral.groupby(\"split\")[\"sentiment\"].value_counts(normalize=True).rename(\"percent\").reset_index()\n",
    "sns.barplot(data=reshaped_no_neutral, x=\"split\", y=\"percent\", hue=\"sentiment\", \n",
    "            order=[\"before\", \"first_wave\", \"after_first\"], \n",
    "            hue_order=[\"Negative\", \"Positive\"])"
   ]
  },
  {
   "cell_type": "code",
   "execution_count": null,
   "id": "85333b80-a4df-48cb-a2bf-fe6833eab292",
   "metadata": {},
   "outputs": [],
   "source": []
  }
 ],
 "metadata": {
  "kernelspec": {
   "display_name": "Python 3 (ipykernel)",
   "language": "python",
   "name": "python3"
  },
  "language_info": {
   "codemirror_mode": {
    "name": "ipython",
    "version": 3
   },
   "file_extension": ".py",
   "mimetype": "text/x-python",
   "name": "python",
   "nbconvert_exporter": "python",
   "pygments_lexer": "ipython3",
   "version": "3.9.5"
  }
 },
 "nbformat": 4,
 "nbformat_minor": 5
}
