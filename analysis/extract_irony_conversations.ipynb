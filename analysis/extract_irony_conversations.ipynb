{
 "cells": [
  {
   "cell_type": "code",
   "execution_count": 1,
   "id": "d22a50ec-b7fa-4b41-b1b7-d58fe90128fe",
   "metadata": {},
   "outputs": [
    {
     "name": "stdout",
     "output_type": "stream",
     "text": [
      "/home/iseratho/repos/sicss-idea-6/data\n"
     ]
    }
   ],
   "source": [
    "%cd ../data"
   ]
  },
  {
   "cell_type": "code",
   "execution_count": 2,
   "id": "8922591d-7dc0-44f9-9c98-a35fe4908dc8",
   "metadata": {},
   "outputs": [],
   "source": [
    "import pandas as pd\n",
    "from transformers import pipeline\n",
    "import tqdm\n",
    "tqdm.tqdm.pandas()"
   ]
  },
  {
   "cell_type": "code",
   "execution_count": 3,
   "id": "bab9baea-e2a7-42b7-aab0-4500c2a889ca",
   "metadata": {},
   "outputs": [
    {
     "data": {
      "text/plain": [
       "[{'label': 'LABEL_1', 'score': 0.5004833340644836}]"
      ]
     },
     "execution_count": 3,
     "metadata": {},
     "output_type": "execute_result"
    }
   ],
   "source": [
    "model_path = \"cardiffnlp/twitter-roberta-base-irony\"\n",
    "irony_task = pipeline(\"sentiment-analysis\", model=model_path, tokenizer=model_path)\n",
    "irony_task(\"I hate you.\")"
   ]
  },
  {
   "cell_type": "code",
   "execution_count": 4,
   "id": "ced96653-068d-4574-bf5e-1fe3e83979d7",
   "metadata": {},
   "outputs": [
    {
     "name": "stderr",
     "output_type": "stream",
     "text": [
      "/tmp/ipykernel_12401/1172537589.py:2: FutureWarning: The default value of regex will change from True to False in a future version.\n",
      "  tweets[\"text\"] = tweets[\"text\"].str.replace(r\"http\\S+\", \"\")\n"
     ]
    },
    {
     "data": {
      "text/html": [
       "<div>\n",
       "<style scoped>\n",
       "    .dataframe tbody tr th:only-of-type {\n",
       "        vertical-align: middle;\n",
       "    }\n",
       "\n",
       "    .dataframe tbody tr th {\n",
       "        vertical-align: top;\n",
       "    }\n",
       "\n",
       "    .dataframe thead th {\n",
       "        text-align: right;\n",
       "    }\n",
       "</style>\n",
       "<table border=\"1\" class=\"dataframe\">\n",
       "  <thead>\n",
       "    <tr style=\"text-align: right;\">\n",
       "      <th></th>\n",
       "      <th>text</th>\n",
       "      <th>public_metrics</th>\n",
       "      <th>in_reply_to_user_id</th>\n",
       "      <th>reply_settings</th>\n",
       "      <th>created_at</th>\n",
       "      <th>id</th>\n",
       "      <th>source</th>\n",
       "      <th>entities</th>\n",
       "      <th>referenced_tweets</th>\n",
       "      <th>context_annotations</th>\n",
       "      <th>author_id</th>\n",
       "      <th>possibly_sensitive</th>\n",
       "      <th>lang</th>\n",
       "      <th>conversation_id</th>\n",
       "      <th>author</th>\n",
       "      <th>in_reply_to_user</th>\n",
       "      <th>__twarc</th>\n",
       "      <th>attachments</th>\n",
       "      <th>geo</th>\n",
       "      <th>withheld</th>\n",
       "    </tr>\n",
       "  </thead>\n",
       "  <tbody>\n",
       "    <tr>\n",
       "      <th>0</th>\n",
       "      <td>@RobinMillarMP @AlyAShields @BetsiCadwaladr @h...</td>\n",
       "      <td>{'retweet_count': 2, 'reply_count': 0, 'like_c...</td>\n",
       "      <td>1194759472087998464</td>\n",
       "      <td>everyone</td>\n",
       "      <td>2020-10-09 12:17:15+00:00</td>\n",
       "      <td>1314540427874308096</td>\n",
       "      <td>Twitter for Android</td>\n",
       "      <td>{'hashtags': [{'start': 220, 'end': 225, 'tag'...</td>\n",
       "      <td>[{'type': 'replied_to', 'id': '131449302570007...</td>\n",
       "      <td>[{'domain': {'id': '10', 'name': 'Person', 'de...</td>\n",
       "      <td>709375301583835136</td>\n",
       "      <td>False</td>\n",
       "      <td>en</td>\n",
       "      <td>1314477726678614016</td>\n",
       "      <td>{'description': 'Raising awareness for PANS Pa...</td>\n",
       "      <td>{'entities': {'url': {'urls': [{'start': 0, 'e...</td>\n",
       "      <td>{'url': 'https://api.twitter.com/2/tweets/sear...</td>\n",
       "      <td>NaN</td>\n",
       "      <td>NaN</td>\n",
       "      <td>NaN</td>\n",
       "    </tr>\n",
       "    <tr>\n",
       "      <th>1</th>\n",
       "      <td>@RobinMillarMP @BetsiCadwaladr @healthdpt @NIC...</td>\n",
       "      <td>{'retweet_count': 0, 'reply_count': 0, 'like_c...</td>\n",
       "      <td>1194759472087998464</td>\n",
       "      <td>everyone</td>\n",
       "      <td>2020-10-09 11:49:31+00:00</td>\n",
       "      <td>1314533448405614592</td>\n",
       "      <td>Twitter for Android</td>\n",
       "      <td>{'annotations': [{'start': 136, 'end': 140, 'p...</td>\n",
       "      <td>[{'type': 'replied_to', 'id': '131449302570007...</td>\n",
       "      <td>[{'domain': {'id': '10', 'name': 'Person', 'de...</td>\n",
       "      <td>470801601</td>\n",
       "      <td>False</td>\n",
       "      <td>en</td>\n",
       "      <td>1314477726678614016</td>\n",
       "      <td>{'entities': {'description': {'urls': [{'start...</td>\n",
       "      <td>{'entities': {'url': {'urls': [{'start': 0, 'e...</td>\n",
       "      <td>{'url': 'https://api.twitter.com/2/tweets/sear...</td>\n",
       "      <td>NaN</td>\n",
       "      <td>NaN</td>\n",
       "      <td>NaN</td>\n",
       "    </tr>\n",
       "    <tr>\n",
       "      <th>2</th>\n",
       "      <td>@RobinMillarMP @AlyAShields @BetsiCadwaladr @h...</td>\n",
       "      <td>{'retweet_count': 4, 'reply_count': 0, 'like_c...</td>\n",
       "      <td>1194759472087998464</td>\n",
       "      <td>everyone</td>\n",
       "      <td>2020-10-09 10:12:43+00:00</td>\n",
       "      <td>1314509086596239360</td>\n",
       "      <td>Twitter for iPhone</td>\n",
       "      <td>{'annotations': [{'start': 255, 'end': 258, 'p...</td>\n",
       "      <td>[{'type': 'replied_to', 'id': '131449302570007...</td>\n",
       "      <td>[{'domain': {'id': '10', 'name': 'Person', 'de...</td>\n",
       "      <td>816444807371517952</td>\n",
       "      <td>False</td>\n",
       "      <td>en</td>\n",
       "      <td>1314477726678614016</td>\n",
       "      <td>{'entities': {'url': {'urls': [{'start': 0, 'e...</td>\n",
       "      <td>{'entities': {'url': {'urls': [{'start': 0, 'e...</td>\n",
       "      <td>{'url': 'https://api.twitter.com/2/tweets/sear...</td>\n",
       "      <td>NaN</td>\n",
       "      <td>NaN</td>\n",
       "      <td>NaN</td>\n",
       "    </tr>\n",
       "    <tr>\n",
       "      <th>3</th>\n",
       "      <td>@AlyAShields @BetsiCadwaladr @healthdpt @NICEC...</td>\n",
       "      <td>{'retweet_count': 8, 'reply_count': 3, 'like_c...</td>\n",
       "      <td>470801601</td>\n",
       "      <td>everyone</td>\n",
       "      <td>2020-10-09 09:08:54+00:00</td>\n",
       "      <td>1314493025700077568</td>\n",
       "      <td>Twitter for Android</td>\n",
       "      <td>{'mentions': [{'start': 0, 'end': 12, 'usernam...</td>\n",
       "      <td>[{'type': 'replied_to', 'id': '131447772937129...</td>\n",
       "      <td>[{'domain': {'id': '10', 'name': 'Person', 'de...</td>\n",
       "      <td>1194759472087998464</td>\n",
       "      <td>False</td>\n",
       "      <td>en</td>\n",
       "      <td>1314477726678614016</td>\n",
       "      <td>{'entities': {'url': {'urls': [{'start': 0, 'e...</td>\n",
       "      <td>{'entities': {'description': {'urls': [{'start...</td>\n",
       "      <td>{'url': 'https://api.twitter.com/2/tweets/sear...</td>\n",
       "      <td>NaN</td>\n",
       "      <td>NaN</td>\n",
       "      <td>NaN</td>\n",
       "    </tr>\n",
       "    <tr>\n",
       "      <th>4</th>\n",
       "      <td>@BetsiCadwaladr @CALL_247 @MindCymru @Research...</td>\n",
       "      <td>{'retweet_count': 4, 'reply_count': 1, 'like_c...</td>\n",
       "      <td>470801601</td>\n",
       "      <td>everyone</td>\n",
       "      <td>2020-10-09 08:08:07+00:00</td>\n",
       "      <td>1314477729371299840</td>\n",
       "      <td>Twitter for Android</td>\n",
       "      <td>{'mentions': [{'start': 0, 'end': 15, 'usernam...</td>\n",
       "      <td>[{'type': 'replied_to', 'id': '131447772667861...</td>\n",
       "      <td>[{'domain': {'id': '10', 'name': 'Person', 'de...</td>\n",
       "      <td>470801601</td>\n",
       "      <td>False</td>\n",
       "      <td>qam</td>\n",
       "      <td>1314477726678614016</td>\n",
       "      <td>{'entities': {'description': {'urls': [{'start...</td>\n",
       "      <td>{'entities': {'description': {'urls': [{'start...</td>\n",
       "      <td>{'url': 'https://api.twitter.com/2/tweets/sear...</td>\n",
       "      <td>NaN</td>\n",
       "      <td>NaN</td>\n",
       "      <td>NaN</td>\n",
       "    </tr>\n",
       "  </tbody>\n",
       "</table>\n",
       "</div>"
      ],
      "text/plain": [
       "                                                text  \\\n",
       "0  @RobinMillarMP @AlyAShields @BetsiCadwaladr @h...   \n",
       "1  @RobinMillarMP @BetsiCadwaladr @healthdpt @NIC...   \n",
       "2  @RobinMillarMP @AlyAShields @BetsiCadwaladr @h...   \n",
       "3  @AlyAShields @BetsiCadwaladr @healthdpt @NICEC...   \n",
       "4  @BetsiCadwaladr @CALL_247 @MindCymru @Research...   \n",
       "\n",
       "                                      public_metrics  in_reply_to_user_id  \\\n",
       "0  {'retweet_count': 2, 'reply_count': 0, 'like_c...  1194759472087998464   \n",
       "1  {'retweet_count': 0, 'reply_count': 0, 'like_c...  1194759472087998464   \n",
       "2  {'retweet_count': 4, 'reply_count': 0, 'like_c...  1194759472087998464   \n",
       "3  {'retweet_count': 8, 'reply_count': 3, 'like_c...            470801601   \n",
       "4  {'retweet_count': 4, 'reply_count': 1, 'like_c...            470801601   \n",
       "\n",
       "  reply_settings                created_at                   id  \\\n",
       "0       everyone 2020-10-09 12:17:15+00:00  1314540427874308096   \n",
       "1       everyone 2020-10-09 11:49:31+00:00  1314533448405614592   \n",
       "2       everyone 2020-10-09 10:12:43+00:00  1314509086596239360   \n",
       "3       everyone 2020-10-09 09:08:54+00:00  1314493025700077568   \n",
       "4       everyone 2020-10-09 08:08:07+00:00  1314477729371299840   \n",
       "\n",
       "                source                                           entities  \\\n",
       "0  Twitter for Android  {'hashtags': [{'start': 220, 'end': 225, 'tag'...   \n",
       "1  Twitter for Android  {'annotations': [{'start': 136, 'end': 140, 'p...   \n",
       "2   Twitter for iPhone  {'annotations': [{'start': 255, 'end': 258, 'p...   \n",
       "3  Twitter for Android  {'mentions': [{'start': 0, 'end': 12, 'usernam...   \n",
       "4  Twitter for Android  {'mentions': [{'start': 0, 'end': 15, 'usernam...   \n",
       "\n",
       "                                   referenced_tweets  \\\n",
       "0  [{'type': 'replied_to', 'id': '131449302570007...   \n",
       "1  [{'type': 'replied_to', 'id': '131449302570007...   \n",
       "2  [{'type': 'replied_to', 'id': '131449302570007...   \n",
       "3  [{'type': 'replied_to', 'id': '131447772937129...   \n",
       "4  [{'type': 'replied_to', 'id': '131447772667861...   \n",
       "\n",
       "                                 context_annotations            author_id  \\\n",
       "0  [{'domain': {'id': '10', 'name': 'Person', 'de...   709375301583835136   \n",
       "1  [{'domain': {'id': '10', 'name': 'Person', 'de...            470801601   \n",
       "2  [{'domain': {'id': '10', 'name': 'Person', 'de...   816444807371517952   \n",
       "3  [{'domain': {'id': '10', 'name': 'Person', 'de...  1194759472087998464   \n",
       "4  [{'domain': {'id': '10', 'name': 'Person', 'de...            470801601   \n",
       "\n",
       "   possibly_sensitive lang      conversation_id  \\\n",
       "0               False   en  1314477726678614016   \n",
       "1               False   en  1314477726678614016   \n",
       "2               False   en  1314477726678614016   \n",
       "3               False   en  1314477726678614016   \n",
       "4               False  qam  1314477726678614016   \n",
       "\n",
       "                                              author  \\\n",
       "0  {'description': 'Raising awareness for PANS Pa...   \n",
       "1  {'entities': {'description': {'urls': [{'start...   \n",
       "2  {'entities': {'url': {'urls': [{'start': 0, 'e...   \n",
       "3  {'entities': {'url': {'urls': [{'start': 0, 'e...   \n",
       "4  {'entities': {'description': {'urls': [{'start...   \n",
       "\n",
       "                                    in_reply_to_user  \\\n",
       "0  {'entities': {'url': {'urls': [{'start': 0, 'e...   \n",
       "1  {'entities': {'url': {'urls': [{'start': 0, 'e...   \n",
       "2  {'entities': {'url': {'urls': [{'start': 0, 'e...   \n",
       "3  {'entities': {'description': {'urls': [{'start...   \n",
       "4  {'entities': {'description': {'urls': [{'start...   \n",
       "\n",
       "                                             __twarc attachments  geo withheld  \n",
       "0  {'url': 'https://api.twitter.com/2/tweets/sear...         NaN  NaN      NaN  \n",
       "1  {'url': 'https://api.twitter.com/2/tweets/sear...         NaN  NaN      NaN  \n",
       "2  {'url': 'https://api.twitter.com/2/tweets/sear...         NaN  NaN      NaN  \n",
       "3  {'url': 'https://api.twitter.com/2/tweets/sear...         NaN  NaN      NaN  \n",
       "4  {'url': 'https://api.twitter.com/2/tweets/sear...         NaN  NaN      NaN  "
      ]
     },
     "execution_count": 4,
     "metadata": {},
     "output_type": "execute_result"
    }
   ],
   "source": [
    "tweets = pd.read_json(\"conversations_flat.json\", lines=True)\n",
    "tweets[\"text\"] = tweets[\"text\"].str.replace(r\"http\\S+\", \"\")\n",
    "tweets.head()"
   ]
  },
  {
   "cell_type": "code",
   "execution_count": 5,
   "id": "de9d11b5-137f-4236-ad44-ae2f5727a1c9",
   "metadata": {},
   "outputs": [
    {
     "name": "stderr",
     "output_type": "stream",
     "text": [
      "100%|███████████████████████████████████████████████████████████████████████████| 52302/52302 [2:01:02<00:00,  7.20it/s]\n"
     ]
    }
   ],
   "source": [
    "def get_irony(x):\n",
    "    res = irony_task(x)[0]\n",
    "    label = res['label']\n",
    "    score = res['score']\n",
    "    if label == \"LABEL_0\": # Positive\n",
    "        return 1 - score\n",
    "    else: # LABEL_1 = Negative\n",
    "        return score\n",
    "\n",
    "tweets[\"irony\"] = tweets[\"text\"].progress_map(get_irony)"
   ]
  },
  {
   "cell_type": "code",
   "execution_count": 6,
   "id": "fa8a7485-b248-44f3-ae0d-fb7be199855e",
   "metadata": {},
   "outputs": [
    {
     "data": {
      "text/plain": [
       "<AxesSubplot:ylabel='Frequency'>"
      ]
     },
     "execution_count": 6,
     "metadata": {},
     "output_type": "execute_result"
    },
    {
     "data": {
      "image/png": "[encoded data removed]",
      "text/plain": [
       "<Figure size 432x288 with 1 Axes>"
      ]
     },
     "metadata": {
      "needs_background": "light"
     },
     "output_type": "display_data"
    }
   ],
   "source": [
    "tweets[\"irony\"].plot.hist(bins=100)"
   ]
  },
  {
   "cell_type": "code",
   "execution_count": 7,
   "id": "aea75053-61ca-4f18-a43f-d068b87efe1d",
   "metadata": {},
   "outputs": [],
   "source": [
    "tweets = tweets.set_index(\"id\")\n",
    "tweets[\"irony\"].to_csv(\"tweet_irony.csv\")"
   ]
  },
  {
   "cell_type": "code",
   "execution_count": 8,
   "id": "f01dc467-9584-4ed5-81a0-edeaa1bc5e10",
   "metadata": {},
   "outputs": [
    {
     "data": {
      "text/plain": [
       "after_first    46964\n",
       "first_wave      4466\n",
       "before           872\n",
       "Name: split, dtype: int64"
      ]
     },
     "execution_count": 8,
     "metadata": {},
     "output_type": "execute_result"
    }
   ],
   "source": [
    "# def split_label(x):\n",
    "#     print(x)\n",
    "#     if x <= \"2020-01-01 00:00:00+00:00\":\n",
    "#         return \"before\"\n",
    "#     elif x > \"2020-01-01 00:00:00+00:00\" and x < \"2020-01-01 00:00:00+00:00\":\n",
    "#         return \"first_wave\"\n",
    "#     elif x >= \"2020-09-01 00:00:00+00:00\":\n",
    "#         return \"after_first\"\n",
    "\n",
    "tweets[\"split\"] = \"after_first\"\n",
    "tweets.loc[(tweets[\"created_at\"] < \"2020-09-01 00:00:00+00:00\"), \"split\"] = \"first_wave\"\n",
    "tweets.loc[(tweets[\"created_at\"] < \"2020-01-01 00:00:00+00:00\"), \"split\"] = \"before\"\n",
    "# tweets[\"split\"] = \"N/A\"\n",
    "# tweets[\"split\"] = tweets[\"created_at\"] <= \"2020-01-01 00:00:00+00:00\"\n",
    "# tweets[\"split\"] = tweets[\"created_at\"].map(split_label)\n",
    "tweets[\"split\"].value_counts()"
   ]
  },
  {
   "cell_type": "code",
   "execution_count": 9,
   "id": "1ce21ecc-ef24-426e-960b-4c212a1364a8",
   "metadata": {},
   "outputs": [
    {
     "data": {
      "text/plain": [
       "<AxesSubplot:xlabel='split', ylabel='irony'>"
      ]
     },
     "execution_count": 9,
     "metadata": {},
     "output_type": "execute_result"
    },
    {
     "data": {
      "image/png": "[encoded data removed]",
      "text/plain": [
       "<Figure size 432x288 with 1 Axes>"
      ]
     },
     "metadata": {
      "needs_background": "light"
     },
     "output_type": "display_data"
    }
   ],
   "source": [
    "import seaborn as sns\n",
    "import matplotlib.pyplot as plt\n",
    "sns.barplot(data=tweets, x=\"split\", y=\"irony\", order=[\"before\", \"first_wave\", \"after_first\"])"
   ]
  },
  {
   "cell_type": "code",
   "execution_count": 10,
   "id": "85333b80-a4df-48cb-a2bf-fe6833eab292",
   "metadata": {},
   "outputs": [
    {
     "data": {
      "text/plain": [
       "<AxesSubplot:xlabel='created_at'>"
      ]
     },
     "execution_count": 10,
     "metadata": {},
     "output_type": "execute_result"
    },
    {
     "data": {
      "image/png": "[encoded data removed]",
      "text/plain": [
       "<Figure size 432x288 with 1 Axes>"
      ]
     },
     "metadata": {
      "needs_background": "light"
     },
     "output_type": "display_data"
    }
   ],
   "source": [
    "grouped = tweets.set_index(\"created_at\").sort_index().rolling(\"30D\").count().div(30)[\"text\"]\n",
    "grouped.plot()"
   ]
  },
  {
   "cell_type": "code",
   "execution_count": 11,
   "id": "15d77900-c873-4270-84b3-5a5b95dfaf91",
   "metadata": {},
   "outputs": [
    {
     "data": {
      "text/plain": [
       "<AxesSubplot:xlabel='created_at'>"
      ]
     },
     "execution_count": 11,
     "metadata": {},
     "output_type": "execute_result"
    },
    {
     "data": {
      "image/png": "[encoded data removed]",
      "text/plain": [
       "<Figure size 432x288 with 1 Axes>"
      ]
     },
     "metadata": {
      "needs_background": "light"
     },
     "output_type": "display_data"
    }
   ],
   "source": [
    "grouped = tweets.set_index(\"created_at\").sort_index().rolling(\"30D\").mean()[\"irony\"]\n",
    "grouped.plot()"
   ]
  },
  {
   "cell_type": "markdown",
   "id": "9fbfedee-2db6-4a27-b32f-5db7967eff80",
   "metadata": {},
   "source": [
    "# Findings\n",
    "\n",
    "Irony increases over time.  \n",
    "At least good candidate.  \n",
    "Could explain increase in joy (i.e., joy is misconception of emotion, but capture irony instead).  "
   ]
  },
  {
   "cell_type": "code",
   "execution_count": null,
   "id": "82503661-fa73-498a-929e-37b0544a98c8",
   "metadata": {},
   "outputs": [],
   "source": []
  }
 ],
 "metadata": {
  "kernelspec": {
   "display_name": "Python 3 (ipykernel)",
   "language": "python",
   "name": "python3"
  },
  "language_info": {
   "codemirror_mode": {
    "name": "ipython",
    "version": 3
   },
   "file_extension": ".py",
   "mimetype": "text/x-python",
   "name": "python",
   "nbconvert_exporter": "python",
   "pygments_lexer": "ipython3",
   "version": "3.9.5"
  }
 },
 "nbformat": 4,
 "nbformat_minor": 5
}
