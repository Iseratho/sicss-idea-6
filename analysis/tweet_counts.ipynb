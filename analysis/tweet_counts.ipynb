{
 "cells": [
  {
   "cell_type": "code",
   "execution_count": 13,
   "id": "e9d7823a-dfc0-4963-b5bc-ac9d673cc23c",
   "metadata": {},
   "outputs": [],
   "source": [
    "import json"
   ]
  },
  {
   "cell_type": "code",
   "execution_count": 12,
   "id": "63c93459-f456-40bd-95d5-fad28edd3e7a",
   "metadata": {},
   "outputs": [
    {
     "data": {
      "text/plain": [
       "443265"
      ]
     },
     "execution_count": 12,
     "metadata": {},
     "output_type": "execute_result"
    }
   ],
   "source": [
    "val = !twarc2 counts nhs --granularity day\n",
    "sum([x[\"tweet_count\"] for x in json.loads(val[0])[\"data\"]])"
   ]
  },
  {
   "cell_type": "code",
   "execution_count": 9,
   "id": "61018b3b-a3ed-4f56-8a62-3cb1d5ab0692",
   "metadata": {},
   "outputs": [
    {
     "data": {
      "text/plain": [
       "27903"
      ]
     },
     "execution_count": 9,
     "metadata": {},
     "output_type": "execute_result"
    }
   ],
   "source": [
    "val = !twarc2 counts \"#nhs\" --granularity day\n",
    "sum([x[\"tweet_count\"] for x in json.loads(val[0])[\"data\"]])"
   ]
  },
  {
   "cell_type": "code",
   "execution_count": 10,
   "id": "3e933c7e-a512-4d5b-a8d2-5c5610b88db6",
   "metadata": {},
   "outputs": [
    {
     "data": {
      "text/plain": [
       "2717"
      ]
     },
     "execution_count": 10,
     "metadata": {},
     "output_type": "execute_result"
    }
   ],
   "source": [
    "val = !twarc2 counts \"@nhs\" --granularity day\n",
    "sum([x[\"tweet_count\"] for x in json.loads(val[0])[\"data\"]])"
   ]
  },
  {
   "cell_type": "code",
   "execution_count": 11,
   "id": "e65ec150-c75f-46c2-b2b7-b6339d0794fb",
   "metadata": {},
   "outputs": [
    {
     "data": {
      "text/plain": [
       "5386"
      ]
     },
     "execution_count": 11,
     "metadata": {},
     "output_type": "execute_result"
    }
   ],
   "source": [
    "val = !twarc2 counts \"@nhsengland\" --granularity day\n",
    "sum([x[\"tweet_count\"] for x in json.loads(val[0])[\"data\"]])"
   ]
  },
  {
   "cell_type": "code",
   "execution_count": 14,
   "id": "1eb1c12b-2a24-4e11-be58-d91d0eb5541d",
   "metadata": {},
   "outputs": [
    {
     "data": {
      "text/plain": [
       "5048"
      ]
     },
     "execution_count": 14,
     "metadata": {},
     "output_type": "execute_result"
    }
   ],
   "source": [
    "val = !twarc2 counts \"@nhsuk\" --granularity day\n",
    "sum([x[\"tweet_count\"] for x in json.loads(val[0])[\"data\"]])"
   ]
  },
  {
   "cell_type": "code",
   "execution_count": null,
   "id": "b13de3aa-1df1-4827-b1a7-3d76b8b35184",
   "metadata": {},
   "outputs": [],
   "source": []
  }
 ],
 "metadata": {
  "kernelspec": {
   "display_name": "Python 3 (ipykernel)",
   "language": "python",
   "name": "python3"
  },
  "language_info": {
   "codemirror_mode": {
    "name": "ipython",
    "version": 3
   },
   "file_extension": ".py",
   "mimetype": "text/x-python",
   "name": "python",
   "nbconvert_exporter": "python",
   "pygments_lexer": "ipython3",
   "version": "3.9.5"
  }
 },
 "nbformat": 4,
 "nbformat_minor": 5
}
