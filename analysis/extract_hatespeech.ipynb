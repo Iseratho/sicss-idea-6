{
 "cells": [
  {
   "cell_type": "code",
   "execution_count": 6,
   "id": "d22a50ec-b7fa-4b41-b1b7-d58fe90128fe",
   "metadata": {},
   "outputs": [
    {
     "name": "stdout",
     "output_type": "stream",
     "text": [
      "/home/iseratho/repos/sicss-idea-6/data\n"
     ]
    }
   ],
   "source": [
    "%cd ../data"
   ]
  },
  {
   "cell_type": "code",
   "execution_count": 2,
   "id": "8922591d-7dc0-44f9-9c98-a35fe4908dc8",
   "metadata": {},
   "outputs": [],
   "source": [
    "import pandas as pd\n",
    "from transformers import pipeline\n",
    "import tqdm\n",
    "tqdm.tqdm.pandas()"
   ]
  },
  {
   "cell_type": "code",
   "execution_count": 3,
   "id": "bab9baea-e2a7-42b7-aab0-4500c2a889ca",
   "metadata": {},
   "outputs": [
    {
     "data": {
      "application/vnd.jupyter.widget-view+json": {
       "model_id": "d5fad6d225784f7c9e3c009e49a5cd0b",
       "version_major": 2,
       "version_minor": 0
      },
      "text/plain": [
       "Downloading:   0%|          | 0.00/588 [00:00<?, ?B/s]"
      ]
     },
     "metadata": {},
     "output_type": "display_data"
    },
    {
     "data": {
      "application/vnd.jupyter.widget-view+json": {
       "model_id": "f8f026e046a9490ca720872bea248b29",
       "version_major": 2,
       "version_minor": 0
      },
      "text/plain": [
       "Downloading:   0%|          | 0.00/476M [00:00<?, ?B/s]"
      ]
     },
     "metadata": {},
     "output_type": "display_data"
    },
    {
     "data": {
      "application/vnd.jupyter.widget-view+json": {
       "model_id": "6997173b941f4d67afb4212aa9f95b30",
       "version_major": 2,
       "version_minor": 0
      },
      "text/plain": [
       "Downloading:   0%|          | 0.00/878k [00:00<?, ?B/s]"
      ]
     },
     "metadata": {},
     "output_type": "display_data"
    },
    {
     "data": {
      "application/vnd.jupyter.widget-view+json": {
       "model_id": "85c1a05d75e04658bfa0cc1a3417c10c",
       "version_major": 2,
       "version_minor": 0
      },
      "text/plain": [
       "Downloading:   0%|          | 0.00/446k [00:00<?, ?B/s]"
      ]
     },
     "metadata": {},
     "output_type": "display_data"
    },
    {
     "data": {
      "application/vnd.jupyter.widget-view+json": {
       "model_id": "c6c06432e8304262923175650c982333",
       "version_major": 2,
       "version_minor": 0
      },
      "text/plain": [
       "Downloading:   0%|          | 0.00/150 [00:00<?, ?B/s]"
      ]
     },
     "metadata": {},
     "output_type": "display_data"
    },
    {
     "data": {
      "application/vnd.jupyter.widget-view+json": {
       "model_id": "f43a8065c75a48d583833943028ffec1",
       "version_major": 2,
       "version_minor": 0
      },
      "text/plain": [
       "Downloading:   0%|          | 0.00/593 [00:00<?, ?B/s]"
      ]
     },
     "metadata": {},
     "output_type": "display_data"
    },
    {
     "data": {
      "application/vnd.jupyter.widget-view+json": {
       "model_id": "a0f53749528549c3b28c0f4df7a21a7d",
       "version_major": 2,
       "version_minor": 0
      },
      "text/plain": [
       "Downloading:   0%|          | 0.00/476M [00:00<?, ?B/s]"
      ]
     },
     "metadata": {},
     "output_type": "display_data"
    },
    {
     "data": {
      "application/vnd.jupyter.widget-view+json": {
       "model_id": "6fa69a866b2d40bebd32b05c47837149",
       "version_major": 2,
       "version_minor": 0
      },
      "text/plain": [
       "Downloading:   0%|          | 0.00/878k [00:00<?, ?B/s]"
      ]
     },
     "metadata": {},
     "output_type": "display_data"
    },
    {
     "data": {
      "application/vnd.jupyter.widget-view+json": {
       "model_id": "5a71a77518d8486a9cbca7f4ce274c0b",
       "version_major": 2,
       "version_minor": 0
      },
      "text/plain": [
       "Downloading:   0%|          | 0.00/446k [00:00<?, ?B/s]"
      ]
     },
     "metadata": {},
     "output_type": "display_data"
    },
    {
     "data": {
      "application/vnd.jupyter.widget-view+json": {
       "model_id": "5e22f13ba68b4f63ab99237cd671e9f6",
       "version_major": 2,
       "version_minor": 0
      },
      "text/plain": [
       "Downloading:   0%|          | 0.00/150 [00:00<?, ?B/s]"
      ]
     },
     "metadata": {},
     "output_type": "display_data"
    },
    {
     "data": {
      "text/plain": [
       "([{'label': 'LABEL_0', 'score': 0.951102614402771}],\n",
       " [{'label': 'LABEL_1', 'score': 0.6861732602119446}])"
      ]
     },
     "execution_count": 3,
     "metadata": {},
     "output_type": "execute_result"
    }
   ],
   "source": [
    "model_path_hate = \"cardiffnlp/twitter-roberta-base-hate\"\n",
    "model_path_offensive = \"cardiffnlp/twitter-roberta-base-offensive\"\n",
    "hate_task = pipeline(\"sentiment-analysis\", model=model_path_hate, tokenizer=model_path_hate)\n",
    "offensive_task = pipeline(\"sentiment-analysis\", model=model_path_offensive, tokenizer=model_path_offensive)\n",
    "hate_task(\"I hate you.\"), offensive_task(\"I hate you.\")"
   ]
  },
  {
   "cell_type": "code",
   "execution_count": 7,
   "id": "ced96653-068d-4574-bf5e-1fe3e83979d7",
   "metadata": {},
   "outputs": [
    {
     "name": "stderr",
     "output_type": "stream",
     "text": [
      "/tmp/ipykernel_29896/3060748725.py:2: FutureWarning: The default value of regex will change from True to False in a future version.\n",
      "  tweets[\"text\"] = tweets[\"text\"].str.replace(r\"http\\S+\", \"\")\n"
     ]
    },
    {
     "data": {
      "text/html": [
       "<div>\n",
       "<style scoped>\n",
       "    .dataframe tbody tr th:only-of-type {\n",
       "        vertical-align: middle;\n",
       "    }\n",
       "\n",
       "    .dataframe tbody tr th {\n",
       "        vertical-align: top;\n",
       "    }\n",
       "\n",
       "    .dataframe thead th {\n",
       "        text-align: right;\n",
       "    }\n",
       "</style>\n",
       "<table border=\"1\" class=\"dataframe\">\n",
       "  <thead>\n",
       "    <tr style=\"text-align: right;\">\n",
       "      <th></th>\n",
       "      <th>referenced_tweets</th>\n",
       "      <th>reply_settings</th>\n",
       "      <th>context_annotations</th>\n",
       "      <th>lang</th>\n",
       "      <th>conversation_id</th>\n",
       "      <th>author_id</th>\n",
       "      <th>created_at</th>\n",
       "      <th>public_metrics</th>\n",
       "      <th>entities</th>\n",
       "      <th>possibly_sensitive</th>\n",
       "      <th>in_reply_to_user_id</th>\n",
       "      <th>source</th>\n",
       "      <th>text</th>\n",
       "      <th>id</th>\n",
       "      <th>author</th>\n",
       "      <th>in_reply_to_user</th>\n",
       "      <th>__twarc</th>\n",
       "      <th>attachments</th>\n",
       "      <th>geo</th>\n",
       "    </tr>\n",
       "  </thead>\n",
       "  <tbody>\n",
       "    <tr>\n",
       "      <th>0</th>\n",
       "      <td>[{'type': 'replied_to', 'id': '131447772937129...</td>\n",
       "      <td>everyone</td>\n",
       "      <td>[{'domain': {'id': '10', 'name': 'Person', 'de...</td>\n",
       "      <td>en</td>\n",
       "      <td>1314477726678614016</td>\n",
       "      <td>1194759472087998464</td>\n",
       "      <td>2020-10-09 09:08:54+00:00</td>\n",
       "      <td>{'retweet_count': 8, 'reply_count': 3, 'like_c...</td>\n",
       "      <td>{'mentions': [{'start': 0, 'end': 12, 'usernam...</td>\n",
       "      <td>False</td>\n",
       "      <td>470801601.0</td>\n",
       "      <td>Twitter for Android</td>\n",
       "      <td>@AlyAShields @BetsiCadwaladr @healthdpt @NICEC...</td>\n",
       "      <td>1314493025700077568</td>\n",
       "      <td>{'created_at': '2019-11-13T23:30:55.000Z', 'id...</td>\n",
       "      <td>{'created_at': '2012-01-22T05:07:46.000Z', 'id...</td>\n",
       "      <td>{'url': 'https://api.twitter.com/2/tweets/sear...</td>\n",
       "      <td>NaN</td>\n",
       "      <td>NaN</td>\n",
       "    </tr>\n",
       "    <tr>\n",
       "      <th>1</th>\n",
       "      <td>NaN</td>\n",
       "      <td>everyone</td>\n",
       "      <td>NaN</td>\n",
       "      <td>en</td>\n",
       "      <td>1277997708649865216</td>\n",
       "      <td>1194759472087998464</td>\n",
       "      <td>2020-06-30 16:09:32+00:00</td>\n",
       "      <td>{'retweet_count': 3, 'reply_count': 5, 'like_c...</td>\n",
       "      <td>{'mentions': [{'start': 61, 'end': 72, 'userna...</td>\n",
       "      <td>False</td>\n",
       "      <td>NaN</td>\n",
       "      <td>Twitter Web App</td>\n",
       "      <td>Delighted to hear that an agreement has been r...</td>\n",
       "      <td>1277997708649865216</td>\n",
       "      <td>{'created_at': '2019-11-13T23:30:55.000Z', 'id...</td>\n",
       "      <td>NaN</td>\n",
       "      <td>{'url': 'https://api.twitter.com/2/tweets/sear...</td>\n",
       "      <td>NaN</td>\n",
       "      <td>NaN</td>\n",
       "    </tr>\n",
       "    <tr>\n",
       "      <th>2</th>\n",
       "      <td>[{'type': 'retweeted', 'id': '1503115750009094...</td>\n",
       "      <td>everyone</td>\n",
       "      <td>[{'domain': {'id': '123', 'name': 'Ongoing New...</td>\n",
       "      <td>en</td>\n",
       "      <td>1503311023444475904</td>\n",
       "      <td>1193173567313240064</td>\n",
       "      <td>2022-03-14 10:04:12+00:00</td>\n",
       "      <td>{'retweet_count': 2503, 'reply_count': 0, 'lik...</td>\n",
       "      <td>{'annotations': [{'start': 100, 'end': 101, 'p...</td>\n",
       "      <td>False</td>\n",
       "      <td>NaN</td>\n",
       "      <td>Twitter Web App</td>\n",
       "      <td>RT @sajidjavid: I can confirm that 21 very ill...</td>\n",
       "      <td>1503311023444475904</td>\n",
       "      <td>{'url': 'https://t.co/fgMQ8bqcXL', 'id': '1193...</td>\n",
       "      <td>NaN</td>\n",
       "      <td>{'url': 'https://api.twitter.com/2/tweets/sear...</td>\n",
       "      <td>NaN</td>\n",
       "      <td>NaN</td>\n",
       "    </tr>\n",
       "    <tr>\n",
       "      <th>3</th>\n",
       "      <td>NaN</td>\n",
       "      <td>everyone</td>\n",
       "      <td>[{'domain': {'id': '88', 'name': 'Political Bo...</td>\n",
       "      <td>en</td>\n",
       "      <td>1450418944129519616</td>\n",
       "      <td>1189861431048622080</td>\n",
       "      <td>2021-10-19 11:09:58+00:00</td>\n",
       "      <td>{'retweet_count': 1, 'reply_count': 1, 'like_c...</td>\n",
       "      <td>{'mentions': [{'start': 59, 'end': 73, 'userna...</td>\n",
       "      <td>False</td>\n",
       "      <td>NaN</td>\n",
       "      <td>Twitter Web App</td>\n",
       "      <td>In today's session of the Health and Social Ca...</td>\n",
       "      <td>1450418944129519616</td>\n",
       "      <td>{'profile_image_url': 'https://pbs.twimg.com/p...</td>\n",
       "      <td>NaN</td>\n",
       "      <td>{'url': 'https://api.twitter.com/2/tweets/sear...</td>\n",
       "      <td>{'media_keys': ['7_1450418757801844739'], 'med...</td>\n",
       "      <td>NaN</td>\n",
       "    </tr>\n",
       "    <tr>\n",
       "      <th>4</th>\n",
       "      <td>NaN</td>\n",
       "      <td>everyone</td>\n",
       "      <td>[{'domain': {'id': '123', 'name': 'Ongoing New...</td>\n",
       "      <td>en</td>\n",
       "      <td>1391840953758109696</td>\n",
       "      <td>1189861431048622080</td>\n",
       "      <td>2021-05-10 19:41:57+00:00</td>\n",
       "      <td>{'retweet_count': 0, 'reply_count': 0, 'like_c...</td>\n",
       "      <td>{'mentions': [{'start': 127, 'end': 138, 'user...</td>\n",
       "      <td>False</td>\n",
       "      <td>NaN</td>\n",
       "      <td>Twitter for iPhone</td>\n",
       "      <td>A number of rule changes will take place from ...</td>\n",
       "      <td>1391840953758109696</td>\n",
       "      <td>{'profile_image_url': 'https://pbs.twimg.com/p...</td>\n",
       "      <td>NaN</td>\n",
       "      <td>{'url': 'https://api.twitter.com/2/tweets/sear...</td>\n",
       "      <td>{'media_keys': ['7_1391840904621797377'], 'med...</td>\n",
       "      <td>NaN</td>\n",
       "    </tr>\n",
       "  </tbody>\n",
       "</table>\n",
       "</div>"
      ],
      "text/plain": [
       "                                   referenced_tweets reply_settings  \\\n",
       "0  [{'type': 'replied_to', 'id': '131447772937129...       everyone   \n",
       "1                                                NaN       everyone   \n",
       "2  [{'type': 'retweeted', 'id': '1503115750009094...       everyone   \n",
       "3                                                NaN       everyone   \n",
       "4                                                NaN       everyone   \n",
       "\n",
       "                                 context_annotations lang  \\\n",
       "0  [{'domain': {'id': '10', 'name': 'Person', 'de...   en   \n",
       "1                                                NaN   en   \n",
       "2  [{'domain': {'id': '123', 'name': 'Ongoing New...   en   \n",
       "3  [{'domain': {'id': '88', 'name': 'Political Bo...   en   \n",
       "4  [{'domain': {'id': '123', 'name': 'Ongoing New...   en   \n",
       "\n",
       "       conversation_id            author_id                created_at  \\\n",
       "0  1314477726678614016  1194759472087998464 2020-10-09 09:08:54+00:00   \n",
       "1  1277997708649865216  1194759472087998464 2020-06-30 16:09:32+00:00   \n",
       "2  1503311023444475904  1193173567313240064 2022-03-14 10:04:12+00:00   \n",
       "3  1450418944129519616  1189861431048622080 2021-10-19 11:09:58+00:00   \n",
       "4  1391840953758109696  1189861431048622080 2021-05-10 19:41:57+00:00   \n",
       "\n",
       "                                      public_metrics  \\\n",
       "0  {'retweet_count': 8, 'reply_count': 3, 'like_c...   \n",
       "1  {'retweet_count': 3, 'reply_count': 5, 'like_c...   \n",
       "2  {'retweet_count': 2503, 'reply_count': 0, 'lik...   \n",
       "3  {'retweet_count': 1, 'reply_count': 1, 'like_c...   \n",
       "4  {'retweet_count': 0, 'reply_count': 0, 'like_c...   \n",
       "\n",
       "                                            entities  possibly_sensitive  \\\n",
       "0  {'mentions': [{'start': 0, 'end': 12, 'usernam...               False   \n",
       "1  {'mentions': [{'start': 61, 'end': 72, 'userna...               False   \n",
       "2  {'annotations': [{'start': 100, 'end': 101, 'p...               False   \n",
       "3  {'mentions': [{'start': 59, 'end': 73, 'userna...               False   \n",
       "4  {'mentions': [{'start': 127, 'end': 138, 'user...               False   \n",
       "\n",
       "   in_reply_to_user_id               source  \\\n",
       "0          470801601.0  Twitter for Android   \n",
       "1                  NaN      Twitter Web App   \n",
       "2                  NaN      Twitter Web App   \n",
       "3                  NaN      Twitter Web App   \n",
       "4                  NaN   Twitter for iPhone   \n",
       "\n",
       "                                                text                   id  \\\n",
       "0  @AlyAShields @BetsiCadwaladr @healthdpt @NICEC...  1314493025700077568   \n",
       "1  Delighted to hear that an agreement has been r...  1277997708649865216   \n",
       "2  RT @sajidjavid: I can confirm that 21 very ill...  1503311023444475904   \n",
       "3  In today's session of the Health and Social Ca...  1450418944129519616   \n",
       "4  A number of rule changes will take place from ...  1391840953758109696   \n",
       "\n",
       "                                              author  \\\n",
       "0  {'created_at': '2019-11-13T23:30:55.000Z', 'id...   \n",
       "1  {'created_at': '2019-11-13T23:30:55.000Z', 'id...   \n",
       "2  {'url': 'https://t.co/fgMQ8bqcXL', 'id': '1193...   \n",
       "3  {'profile_image_url': 'https://pbs.twimg.com/p...   \n",
       "4  {'profile_image_url': 'https://pbs.twimg.com/p...   \n",
       "\n",
       "                                    in_reply_to_user  \\\n",
       "0  {'created_at': '2012-01-22T05:07:46.000Z', 'id...   \n",
       "1                                                NaN   \n",
       "2                                                NaN   \n",
       "3                                                NaN   \n",
       "4                                                NaN   \n",
       "\n",
       "                                             __twarc  \\\n",
       "0  {'url': 'https://api.twitter.com/2/tweets/sear...   \n",
       "1  {'url': 'https://api.twitter.com/2/tweets/sear...   \n",
       "2  {'url': 'https://api.twitter.com/2/tweets/sear...   \n",
       "3  {'url': 'https://api.twitter.com/2/tweets/sear...   \n",
       "4  {'url': 'https://api.twitter.com/2/tweets/sear...   \n",
       "\n",
       "                                         attachments  geo  \n",
       "0                                                NaN  NaN  \n",
       "1                                                NaN  NaN  \n",
       "2                                                NaN  NaN  \n",
       "3  {'media_keys': ['7_1450418757801844739'], 'med...  NaN  \n",
       "4  {'media_keys': ['7_1391840904621797377'], 'med...  NaN  "
      ]
     },
     "execution_count": 7,
     "metadata": {},
     "output_type": "execute_result"
    }
   ],
   "source": [
    "tweets = pd.read_json(\"tweets_new_flat.json\", lines=True)\n",
    "tweets[\"text\"] = tweets[\"text\"].str.replace(r\"http\\S+\", \"\")\n",
    "tweets.head()"
   ]
  },
  {
   "cell_type": "code",
   "execution_count": 8,
   "id": "de9d11b5-137f-4236-ad44-ae2f5727a1c9",
   "metadata": {},
   "outputs": [
    {
     "name": "stderr",
     "output_type": "stream",
     "text": [
      "100%|███████████████████████████████████████████████████████████████████████████████| 2232/2232 [04:46<00:00,  7.80it/s]\n",
      "100%|███████████████████████████████████████████████████████████████████████████████| 2232/2232 [04:35<00:00,  8.11it/s]\n"
     ]
    }
   ],
   "source": [
    "def get_hate(x):\n",
    "    res = hate_task(x)[0]\n",
    "    label = res['label']\n",
    "    score = res['score']\n",
    "    if label == \"LABEL_0\": # Positive\n",
    "        return 1 - score\n",
    "    else: # LABEL_1 = Negative\n",
    "        return score\n",
    "    \n",
    "def get_offensive(x):\n",
    "    res = offensive_task(x)[0]\n",
    "    label = res['label']\n",
    "    score = res['score']\n",
    "    if label == \"LABEL_0\": # Positive\n",
    "        return 1 - score\n",
    "    else: # LABEL_1 = Negative\n",
    "        return score\n",
    "\n",
    "tweets[\"hate\"] = tweets[\"text\"].progress_map(get_hate)\n",
    "tweets[\"offensive\"] = tweets[\"text\"].progress_map(get_offensive)"
   ]
  },
  {
   "cell_type": "code",
   "execution_count": 11,
   "id": "fa8a7485-b248-44f3-ae0d-fb7be199855e",
   "metadata": {},
   "outputs": [
    {
     "data": {
      "text/plain": [
       "<AxesSubplot:ylabel='Frequency'>"
      ]
     },
     "execution_count": 11,
     "metadata": {},
     "output_type": "execute_result"
    },
    {
     "data": {
      "image/png": "[encoded data removed]",
      "text/plain": [
       "<Figure size 432x288 with 1 Axes>"
      ]
     },
     "metadata": {
      "needs_background": "light"
     },
     "output_type": "display_data"
    }
   ],
   "source": [
    "tweets[\"hate\"].plot.hist(bins=100)"
   ]
  },
  {
   "cell_type": "code",
   "execution_count": 12,
   "id": "003cc8c9-222b-4e56-a9f4-ce22e3281844",
   "metadata": {},
   "outputs": [
    {
     "data": {
      "text/plain": [
       "<AxesSubplot:ylabel='Frequency'>"
      ]
     },
     "execution_count": 12,
     "metadata": {},
     "output_type": "execute_result"
    },
    {
     "data": {
      "image/png": "[encoded data removed]",
      "text/plain": [
       "<Figure size 432x288 with 1 Axes>"
      ]
     },
     "metadata": {
      "needs_background": "light"
     },
     "output_type": "display_data"
    }
   ],
   "source": [
    "tweets[\"offensive\"].plot.hist(bins=100)"
   ]
  },
  {
   "cell_type": "code",
   "execution_count": 13,
   "id": "aea75053-61ca-4f18-a43f-d068b87efe1d",
   "metadata": {},
   "outputs": [],
   "source": [
    "tweets = tweets.set_index(\"id\")\n",
    "tweets[[\"hate\", \"offensive\"]].to_csv(\"tweet_hate_offensive.csv\")"
   ]
  },
  {
   "cell_type": "code",
   "execution_count": 15,
   "id": "f01dc467-9584-4ed5-81a0-edeaa1bc5e10",
   "metadata": {},
   "outputs": [
    {
     "data": {
      "text/plain": [
       "after_first    1402\n",
       "first_wave      753\n",
       "before           77\n",
       "Name: split, dtype: int64"
      ]
     },
     "execution_count": 15,
     "metadata": {},
     "output_type": "execute_result"
    }
   ],
   "source": [
    "# def split_label(x):\n",
    "#     print(x)\n",
    "#     if x <= \"2020-01-01 00:00:00+00:00\":\n",
    "#         return \"before\"\n",
    "#     elif x > \"2020-01-01 00:00:00+00:00\" and x < \"2020-01-01 00:00:00+00:00\":\n",
    "#         return \"first_wave\"\n",
    "#     elif x >= \"2020-09-01 00:00:00+00:00\":\n",
    "#         return \"after_first\"\n",
    "\n",
    "tweets[\"split\"] = \"after_first\"\n",
    "tweets.loc[(tweets[\"created_at\"] < \"2020-09-01 00:00:00+00:00\"), \"split\"] = \"first_wave\"\n",
    "tweets.loc[(tweets[\"created_at\"] < \"2020-01-01 00:00:00+00:00\"), \"split\"] = \"before\"\n",
    "# tweets[\"split\"] = \"N/A\"\n",
    "# tweets[\"split\"] = tweets[\"created_at\"] <= \"2020-01-01 00:00:00+00:00\"\n",
    "# tweets[\"split\"] = tweets[\"created_at\"].map(split_label)\n",
    "tweets[\"split\"].value_counts()"
   ]
  },
  {
   "cell_type": "code",
   "execution_count": 17,
   "id": "1ce21ecc-ef24-426e-960b-4c212a1364a8",
   "metadata": {},
   "outputs": [
    {
     "data": {
      "text/plain": [
       "<AxesSubplot:xlabel='split', ylabel='hate'>"
      ]
     },
     "execution_count": 17,
     "metadata": {},
     "output_type": "execute_result"
    },
    {
     "data": {
      "image/png": "[encoded data removed]",
      "text/plain": [
       "<Figure size 432x288 with 1 Axes>"
      ]
     },
     "metadata": {
      "needs_background": "light"
     },
     "output_type": "display_data"
    }
   ],
   "source": [
    "import seaborn as sns\n",
    "import matplotlib.pyplot as plt\n",
    "sns.barplot(data=tweets, x=\"split\", y=\"hate\", order=[\"before\", \"first_wave\", \"after_first\"])"
   ]
  },
  {
   "cell_type": "code",
   "execution_count": 18,
   "id": "c22ee5c0-1b30-4c8f-bdc4-601c867e66ef",
   "metadata": {},
   "outputs": [
    {
     "data": {
      "text/plain": [
       "<AxesSubplot:xlabel='split', ylabel='offensive'>"
      ]
     },
     "execution_count": 18,
     "metadata": {},
     "output_type": "execute_result"
    },
    {
     "data": {
      "image/png": "[encoded data removed]",
      "text/plain": [
       "<Figure size 432x288 with 1 Axes>"
      ]
     },
     "metadata": {
      "needs_background": "light"
     },
     "output_type": "display_data"
    }
   ],
   "source": [
    "sns.barplot(data=tweets, x=\"split\", y=\"offensive\", order=[\"before\", \"first_wave\", \"after_first\"])"
   ]
  },
  {
   "cell_type": "code",
   "execution_count": 21,
   "id": "85333b80-a4df-48cb-a2bf-fe6833eab292",
   "metadata": {},
   "outputs": [
    {
     "data": {
      "text/plain": [
       "<AxesSubplot:xlabel='created_at'>"
      ]
     },
     "execution_count": 21,
     "metadata": {},
     "output_type": "execute_result"
    },
    {
     "data": {
      "image/png": "[encoded data removed]",
      "text/plain": [
       "<Figure size 432x288 with 1 Axes>"
      ]
     },
     "metadata": {
      "needs_background": "light"
     },
     "output_type": "display_data"
    }
   ],
   "source": [
    "grouped = tweets.set_index(\"created_at\").sort_index().rolling(\"30D\").count().div(30)[\"text\"]\n",
    "grouped.plot()"
   ]
  },
  {
   "cell_type": "code",
   "execution_count": 25,
   "id": "15d77900-c873-4270-84b3-5a5b95dfaf91",
   "metadata": {},
   "outputs": [
    {
     "data": {
      "text/plain": [
       "(0.005692927117016227, 0.04)"
      ]
     },
     "execution_count": 25,
     "metadata": {},
     "output_type": "execute_result"
    },
    {
     "data": {
      "image/png": "[encoded data removed]",
      "text/plain": [
       "<Figure size 432x288 with 1 Axes>"
      ]
     },
     "metadata": {
      "needs_background": "light"
     },
     "output_type": "display_data"
    }
   ],
   "source": [
    "grouped = tweets.set_index(\"created_at\").sort_index().rolling(\"30D\").mean()[\"hate\"]\n",
    "grouped.plot()\n",
    "plt.ylim(top=0.04)"
   ]
  },
  {
   "cell_type": "code",
   "execution_count": 23,
   "id": "1da2648d-1c29-4b18-b518-911b8b568fcf",
   "metadata": {},
   "outputs": [
    {
     "data": {
      "text/plain": [
       "<AxesSubplot:xlabel='created_at'>"
      ]
     },
     "execution_count": 23,
     "metadata": {},
     "output_type": "execute_result"
    },
    {
     "data": {
      "image/png": "[encoded data removed]",
      "text/plain": [
       "<Figure size 432x288 with 1 Axes>"
      ]
     },
     "metadata": {
      "needs_background": "light"
     },
     "output_type": "display_data"
    }
   ],
   "source": [
    "grouped = tweets.set_index(\"created_at\").sort_index().rolling(\"30D\").mean()[\"offensive\"]\n",
    "grouped.plot()"
   ]
  },
  {
   "cell_type": "code",
   "execution_count": null,
   "id": "49db0349-6ad7-4857-9389-e7f6ab722299",
   "metadata": {},
   "outputs": [],
   "source": []
  }
 ],
 "metadata": {
  "kernelspec": {
   "display_name": "Python 3 (ipykernel)",
   "language": "python",
   "name": "python3"
  },
  "language_info": {
   "codemirror_mode": {
    "name": "ipython",
    "version": 3
   },
   "file_extension": ".py",
   "mimetype": "text/x-python",
   "name": "python",
   "nbconvert_exporter": "python",
   "pygments_lexer": "ipython3",
   "version": "3.9.5"
  }
 },
 "nbformat": 4,
 "nbformat_minor": 5
}
