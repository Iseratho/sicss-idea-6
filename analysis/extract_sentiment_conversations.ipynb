{
 "cells": [
  {
   "cell_type": "code",
   "execution_count": 1,
   "id": "8922591d-7dc0-44f9-9c98-a35fe4908dc8",
   "metadata": {},
   "outputs": [],
   "source": [
    "import pandas as pd\n",
    "from transformers import pipeline\n",
    "import tqdm\n",
    "tqdm.tqdm.pandas()"
   ]
  },
  {
   "cell_type": "code",
   "execution_count": 2,
   "id": "bab9baea-e2a7-42b7-aab0-4500c2a889ca",
   "metadata": {},
   "outputs": [
    {
     "data": {
      "text/plain": [
       "[{'label': 'Positive', 'score': 0.6600587964057922}]"
      ]
     },
     "execution_count": 2,
     "metadata": {},
     "output_type": "execute_result"
    }
   ],
   "source": [
    "model_path = \"cardiffnlp/twitter-xlm-roberta-base-sentiment\"\n",
    "sentiment_task = pipeline(\"sentiment-analysis\", model=model_path, tokenizer=model_path)\n",
    "sentiment_task(\"T'estimo!\")"
   ]
  },
  {
   "cell_type": "code",
   "execution_count": 3,
   "id": "ced96653-068d-4574-bf5e-1fe3e83979d7",
   "metadata": {},
   "outputs": [
    {
     "name": "stderr",
     "output_type": "stream",
     "text": [
      "/tmp/ipykernel_28726/2247558924.py:10: FutureWarning: The default value of regex will change from True to False in a future version.\n",
      "  tweets[\"text\"] = tweets[\"text\"].str.replace(r\"http\\S+\", \"\")\n"
     ]
    },
    {
     "data": {
      "text/html": [
       "<div>\n",
       "<style scoped>\n",
       "    .dataframe tbody tr th:only-of-type {\n",
       "        vertical-align: middle;\n",
       "    }\n",
       "\n",
       "    .dataframe tbody tr th {\n",
       "        vertical-align: top;\n",
       "    }\n",
       "\n",
       "    .dataframe thead th {\n",
       "        text-align: right;\n",
       "    }\n",
       "</style>\n",
       "<table border=\"1\" class=\"dataframe\">\n",
       "  <thead>\n",
       "    <tr style=\"text-align: right;\">\n",
       "      <th></th>\n",
       "      <th>id</th>\n",
       "      <th>text</th>\n",
       "      <th>author_id</th>\n",
       "      <th>conversation_id</th>\n",
       "      <th>created_at</th>\n",
       "    </tr>\n",
       "  </thead>\n",
       "  <tbody>\n",
       "    <tr>\n",
       "      <th>0</th>\n",
       "      <td>1314540427874308097</td>\n",
       "      <td>@RobinMillarMP @AlyAShields @BetsiCadwaladr @h...</td>\n",
       "      <td>709375301583835137</td>\n",
       "      <td>1314477726678614016</td>\n",
       "      <td>2020-10-09 12:17:15+00:00</td>\n",
       "    </tr>\n",
       "    <tr>\n",
       "      <th>1</th>\n",
       "      <td>1314533448405614592</td>\n",
       "      <td>@RobinMillarMP @BetsiCadwaladr @healthdpt @NIC...</td>\n",
       "      <td>470801601</td>\n",
       "      <td>1314477726678614016</td>\n",
       "      <td>2020-10-09 11:49:31+00:00</td>\n",
       "    </tr>\n",
       "    <tr>\n",
       "      <th>2</th>\n",
       "      <td>1314509086596239362</td>\n",
       "      <td>@RobinMillarMP @AlyAShields @BetsiCadwaladr @h...</td>\n",
       "      <td>816444807371517952</td>\n",
       "      <td>1314477726678614016</td>\n",
       "      <td>2020-10-09 10:12:43+00:00</td>\n",
       "    </tr>\n",
       "    <tr>\n",
       "      <th>3</th>\n",
       "      <td>1314493025700077568</td>\n",
       "      <td>@AlyAShields @BetsiCadwaladr @healthdpt @NICEC...</td>\n",
       "      <td>1194759472087998465</td>\n",
       "      <td>1314477726678614016</td>\n",
       "      <td>2020-10-09 09:08:54+00:00</td>\n",
       "    </tr>\n",
       "    <tr>\n",
       "      <th>4</th>\n",
       "      <td>1314477729371299840</td>\n",
       "      <td>@BetsiCadwaladr @CALL_247 @MindCymru @Research...</td>\n",
       "      <td>470801601</td>\n",
       "      <td>1314477726678614016</td>\n",
       "      <td>2020-10-09 08:08:07+00:00</td>\n",
       "    </tr>\n",
       "  </tbody>\n",
       "</table>\n",
       "</div>"
      ],
      "text/plain": [
       "                    id                                               text  \\\n",
       "0  1314540427874308097  @RobinMillarMP @AlyAShields @BetsiCadwaladr @h...   \n",
       "1  1314533448405614592  @RobinMillarMP @BetsiCadwaladr @healthdpt @NIC...   \n",
       "2  1314509086596239362  @RobinMillarMP @AlyAShields @BetsiCadwaladr @h...   \n",
       "3  1314493025700077568  @AlyAShields @BetsiCadwaladr @healthdpt @NICEC...   \n",
       "4  1314477729371299840  @BetsiCadwaladr @CALL_247 @MindCymru @Research...   \n",
       "\n",
       "             author_id      conversation_id                created_at  \n",
       "0   709375301583835137  1314477726678614016 2020-10-09 12:17:15+00:00  \n",
       "1            470801601  1314477726678614016 2020-10-09 11:49:31+00:00  \n",
       "2   816444807371517952  1314477726678614016 2020-10-09 10:12:43+00:00  \n",
       "3  1194759472087998465  1314477726678614016 2020-10-09 09:08:54+00:00  \n",
       "4            470801601  1314477726678614016 2020-10-09 08:08:07+00:00  "
      ]
     },
     "execution_count": 3,
     "metadata": {},
     "output_type": "execute_result"
    }
   ],
   "source": [
    "reader = pd.read_json(\"conversations_flat.json\", lines=True, dtype={\"id\": str, \"author_id\": str, \"conversation_id\": str}, chunksize=1000)\n",
    "\n",
    "dfs = []\n",
    "for chunk in reader:\n",
    "    df = chunk[[\"id\", \"text\", \"author_id\", \"conversation_id\", \"created_at\"]]\n",
    "    dfs.append(df)\n",
    "    \n",
    "tweets = pd.concat(dfs)\n",
    "    \n",
    "tweets[\"text\"] = tweets[\"text\"].str.replace(r\"http\\S+\", \"\")\n",
    "tweets.head()"
   ]
  },
  {
   "cell_type": "code",
   "execution_count": 4,
   "id": "de9d11b5-137f-4236-ad44-ae2f5727a1c9",
   "metadata": {},
   "outputs": [
    {
     "name": "stderr",
     "output_type": "stream",
     "text": [
      "100%|███████████████████████████████████████████████████████████████████████████| 52302/52302 [2:09:49<00:00,  6.71it/s]\n"
     ]
    }
   ],
   "source": [
    "def get_sentiment(x):\n",
    "    return sentiment_task(x)[0]['label']\n",
    "\n",
    "tweets[\"sentiment\"] = tweets[\"text\"].progress_map(get_sentiment)"
   ]
  },
  {
   "cell_type": "code",
   "execution_count": 5,
   "id": "aea75053-61ca-4f18-a43f-d068b87efe1d",
   "metadata": {},
   "outputs": [],
   "source": [
    "tweets = tweets.set_index(\"id\")\n",
    "tweets[\"sentiment\"].to_csv(\"tweet_sentiment.csv\")"
   ]
  },
  {
   "cell_type": "code",
   "execution_count": 6,
   "id": "2366a3c3-0153-4411-8a9f-81318f397124",
   "metadata": {},
   "outputs": [
    {
     "data": {
      "text/plain": [
       "Negative    28683\n",
       "Neutral     17236\n",
       "Positive     6383\n",
       "Name: sentiment, dtype: int64"
      ]
     },
     "execution_count": 6,
     "metadata": {},
     "output_type": "execute_result"
    }
   ],
   "source": [
    "tweets[\"sentiment\"].value_counts()"
   ]
  },
  {
   "cell_type": "code",
   "execution_count": 7,
   "id": "f01dc467-9584-4ed5-81a0-edeaa1bc5e10",
   "metadata": {},
   "outputs": [
    {
     "data": {
      "text/plain": [
       "after_first    46964\n",
       "first_wave      4466\n",
       "before           872\n",
       "Name: split, dtype: int64"
      ]
     },
     "execution_count": 7,
     "metadata": {},
     "output_type": "execute_result"
    }
   ],
   "source": [
    "# def split_label(x):\n",
    "#     print(x)\n",
    "#     if x <= \"2020-01-01 00:00:00+00:00\":\n",
    "#         return \"before\"\n",
    "#     elif x > \"2020-01-01 00:00:00+00:00\" and x < \"2020-01-01 00:00:00+00:00\":\n",
    "#         return \"first_wave\"\n",
    "#     elif x >= \"2020-09-01 00:00:00+00:00\":\n",
    "#         return \"after_first\"\n",
    "\n",
    "tweets[\"split\"] = \"after_first\"\n",
    "tweets.loc[(tweets[\"created_at\"] < \"2020-09-01 00:00:00+00:00\"), \"split\"] = \"first_wave\"\n",
    "tweets.loc[(tweets[\"created_at\"] < \"2020-01-01 00:00:00+00:00\"), \"split\"] = \"before\"\n",
    "# tweets[\"split\"] = \"N/A\"\n",
    "# tweets[\"split\"] = tweets[\"created_at\"] <= \"2020-01-01 00:00:00+00:00\"\n",
    "# tweets[\"split\"] = tweets[\"created_at\"].map(split_label)\n",
    "tweets[\"split\"].value_counts()"
   ]
  },
  {
   "cell_type": "code",
   "execution_count": 8,
   "id": "1ce21ecc-ef24-426e-960b-4c212a1364a8",
   "metadata": {},
   "outputs": [
    {
     "data": {
      "text/plain": [
       "<AxesSubplot:xlabel='split', ylabel='count'>"
      ]
     },
     "execution_count": 8,
     "metadata": {},
     "output_type": "execute_result"
    },
    {
     "data": {
      "image/png": "[encoded data removed]",
      "text/plain": [
       "<Figure size 432x288 with 1 Axes>"
      ]
     },
     "metadata": {
      "needs_background": "light"
     },
     "output_type": "display_data"
    }
   ],
   "source": [
    "import seaborn as sns\n",
    "import matplotlib.pyplot as plt\n",
    "sns.countplot(data=tweets, x=\"split\", hue=\"sentiment\", order=[\"before\", \"first_wave\", \"after_first\"])"
   ]
  },
  {
   "cell_type": "code",
   "execution_count": 9,
   "id": "87146e57-56c3-413c-88d6-fa78ec74c96e",
   "metadata": {},
   "outputs": [
    {
     "data": {
      "text/plain": [
       "split        sentiment\n",
       "after_first  Negative     0.558662\n",
       "             Neutral      0.330040\n",
       "             Positive     0.111298\n",
       "before       Positive     0.662844\n",
       "             Negative     0.194954\n",
       "             Neutral      0.142202\n",
       "first_wave   Negative     0.509628\n",
       "             Neutral      0.360949\n",
       "             Positive     0.129422\n",
       "Name: sentiment, dtype: float64"
      ]
     },
     "execution_count": 9,
     "metadata": {},
     "output_type": "execute_result"
    }
   ],
   "source": [
    "tweets.groupby(\"split\")[\"sentiment\"].value_counts(normalize=True)"
   ]
  },
  {
   "cell_type": "code",
   "execution_count": 10,
   "id": "96cdc166-543d-4496-aa89-6ed248d12e68",
   "metadata": {},
   "outputs": [
    {
     "data": {
      "text/html": [
       "<div>\n",
       "<style scoped>\n",
       "    .dataframe tbody tr th:only-of-type {\n",
       "        vertical-align: middle;\n",
       "    }\n",
       "\n",
       "    .dataframe tbody tr th {\n",
       "        vertical-align: top;\n",
       "    }\n",
       "\n",
       "    .dataframe thead th {\n",
       "        text-align: right;\n",
       "    }\n",
       "</style>\n",
       "<table border=\"1\" class=\"dataframe\">\n",
       "  <thead>\n",
       "    <tr style=\"text-align: right;\">\n",
       "      <th></th>\n",
       "      <th>split</th>\n",
       "      <th>sentiment</th>\n",
       "      <th>percent</th>\n",
       "    </tr>\n",
       "  </thead>\n",
       "  <tbody>\n",
       "    <tr>\n",
       "      <th>0</th>\n",
       "      <td>after_first</td>\n",
       "      <td>Negative</td>\n",
       "      <td>0.558662</td>\n",
       "    </tr>\n",
       "    <tr>\n",
       "      <th>1</th>\n",
       "      <td>after_first</td>\n",
       "      <td>Neutral</td>\n",
       "      <td>0.330040</td>\n",
       "    </tr>\n",
       "    <tr>\n",
       "      <th>2</th>\n",
       "      <td>after_first</td>\n",
       "      <td>Positive</td>\n",
       "      <td>0.111298</td>\n",
       "    </tr>\n",
       "    <tr>\n",
       "      <th>3</th>\n",
       "      <td>before</td>\n",
       "      <td>Positive</td>\n",
       "      <td>0.662844</td>\n",
       "    </tr>\n",
       "    <tr>\n",
       "      <th>4</th>\n",
       "      <td>before</td>\n",
       "      <td>Negative</td>\n",
       "      <td>0.194954</td>\n",
       "    </tr>\n",
       "    <tr>\n",
       "      <th>5</th>\n",
       "      <td>before</td>\n",
       "      <td>Neutral</td>\n",
       "      <td>0.142202</td>\n",
       "    </tr>\n",
       "    <tr>\n",
       "      <th>6</th>\n",
       "      <td>first_wave</td>\n",
       "      <td>Negative</td>\n",
       "      <td>0.509628</td>\n",
       "    </tr>\n",
       "    <tr>\n",
       "      <th>7</th>\n",
       "      <td>first_wave</td>\n",
       "      <td>Neutral</td>\n",
       "      <td>0.360949</td>\n",
       "    </tr>\n",
       "    <tr>\n",
       "      <th>8</th>\n",
       "      <td>first_wave</td>\n",
       "      <td>Positive</td>\n",
       "      <td>0.129422</td>\n",
       "    </tr>\n",
       "  </tbody>\n",
       "</table>\n",
       "</div>"
      ],
      "text/plain": [
       "         split sentiment   percent\n",
       "0  after_first  Negative  0.558662\n",
       "1  after_first   Neutral  0.330040\n",
       "2  after_first  Positive  0.111298\n",
       "3       before  Positive  0.662844\n",
       "4       before  Negative  0.194954\n",
       "5       before   Neutral  0.142202\n",
       "6   first_wave  Negative  0.509628\n",
       "7   first_wave   Neutral  0.360949\n",
       "8   first_wave  Positive  0.129422"
      ]
     },
     "execution_count": 10,
     "metadata": {},
     "output_type": "execute_result"
    }
   ],
   "source": [
    "reshaped = tweets.groupby(\"split\")[\"sentiment\"].value_counts(normalize=True).rename(\"percent\").reset_index()\n",
    "reshaped"
   ]
  },
  {
   "cell_type": "code",
   "execution_count": 11,
   "id": "a430ac9b-00fa-4462-8b89-c96dce14e735",
   "metadata": {},
   "outputs": [
    {
     "data": {
      "text/plain": [
       "<AxesSubplot:xlabel='split', ylabel='percent'>"
      ]
     },
     "execution_count": 11,
     "metadata": {},
     "output_type": "execute_result"
    },
    {
     "data": {
      "image/png": "[encoded data removed]",
      "text/plain": [
       "<Figure size 432x288 with 1 Axes>"
      ]
     },
     "metadata": {
      "needs_background": "light"
     },
     "output_type": "display_data"
    }
   ],
   "source": [
    "sns.barplot(data=reshaped, x=\"split\", y=\"percent\", hue=\"sentiment\", \n",
    "            order=[\"before\", \"first_wave\", \"after_first\"], \n",
    "            hue_order=[\"Negative\", \"Neutral\", \"Positive\"])"
   ]
  },
  {
   "cell_type": "code",
   "execution_count": 12,
   "id": "9d9f5bb8-559e-48bb-9746-5c682aa6784a",
   "metadata": {},
   "outputs": [
    {
     "data": {
      "text/plain": [
       "<AxesSubplot:xlabel='split', ylabel='percent'>"
      ]
     },
     "execution_count": 12,
     "metadata": {},
     "output_type": "execute_result"
    },
    {
     "data": {
      "image/png": "[encoded data removed]",
      "text/plain": [
       "<Figure size 432x288 with 1 Axes>"
      ]
     },
     "metadata": {
      "needs_background": "light"
     },
     "output_type": "display_data"
    }
   ],
   "source": [
    "no_neutral = tweets[tweets[\"sentiment\"] != \"Neutral\"]\n",
    "reshaped_no_neutral = no_neutral.groupby(\"split\")[\"sentiment\"].value_counts(normalize=True).rename(\"percent\").reset_index()\n",
    "sns.barplot(data=reshaped_no_neutral, x=\"split\", y=\"percent\", hue=\"sentiment\", \n",
    "            order=[\"before\", \"first_wave\", \"after_first\"], \n",
    "            hue_order=[\"Negative\", \"Positive\"])"
   ]
  },
  {
   "cell_type": "code",
   "execution_count": 13,
   "id": "85333b80-a4df-48cb-a2bf-fe6833eab292",
   "metadata": {},
   "outputs": [
    {
     "data": {
      "text/plain": [
       "sentiment  created_at               \n",
       "Negative   2019-10-10 13:20:38+00:00    0.033333\n",
       "           2019-10-10 13:20:38+00:00    0.066667\n",
       "           2019-10-10 13:38:36+00:00    0.100000\n",
       "           2019-10-10 13:38:36+00:00    0.133333\n",
       "           2019-10-10 13:50:52+00:00    0.166667\n",
       "                                          ...   \n",
       "Positive   2022-07-20 15:00:31+00:00    5.166667\n",
       "           2022-07-20 18:07:16+00:00    5.200000\n",
       "           2022-07-21 12:12:16+00:00    5.233333\n",
       "           2022-07-21 13:26:47+00:00    5.266667\n",
       "           2022-07-26 09:19:05+00:00    5.233333\n",
       "Name: text, Length: 52302, dtype: float64"
      ]
     },
     "execution_count": 13,
     "metadata": {},
     "output_type": "execute_result"
    }
   ],
   "source": [
    "grouped = tweets.set_index(\"created_at\").sort_index().groupby(\"sentiment\").rolling(\"30D\").count().div(30)[\"text\"]\n",
    "grouped#.plot()"
   ]
  },
  {
   "cell_type": "code",
   "execution_count": 14,
   "id": "1da2648d-1c29-4b18-b518-911b8b568fcf",
   "metadata": {},
   "outputs": [
    {
     "data": {
      "text/plain": [
       "<AxesSubplot:xlabel='created_at'>"
      ]
     },
     "execution_count": 14,
     "metadata": {},
     "output_type": "execute_result"
    },
    {
     "data": {
      "image/png": "[encoded data removed]",
      "text/plain": [
       "<Figure size 432x288 with 3 Axes>"
      ]
     },
     "metadata": {
      "needs_background": "light"
     },
     "output_type": "display_data"
    }
   ],
   "source": [
    "f, a = plt.subplots(3,1)\n",
    "grouped.xs('Negative').plot(ax=a[0])\n",
    "grouped.xs('Neutral').plot(ax=a[1])\n",
    "grouped.xs('Positive').plot(ax=a[2])"
   ]
  },
  {
   "cell_type": "markdown",
   "id": "88ecbe2b-fb86-4883-8867-f398c6bf4975",
   "metadata": {},
   "source": [
    "# Findings\n",
    "\n",
    "Switch positive to negative in the first wave.  \n",
    "Not a lot of signal here between first wave and afterwards.  \n",
    "Not needed, as it is shown in the network plots.  "
   ]
  },
  {
   "cell_type": "code",
   "execution_count": null,
   "id": "21f9085b-1b44-42ff-85bb-ed0003726839",
   "metadata": {},
   "outputs": [],
   "source": []
  }
 ],
 "metadata": {
  "kernelspec": {
   "display_name": "Python 3 (ipykernel)",
   "language": "python",
   "name": "python3"
  },
  "language_info": {
   "codemirror_mode": {
    "name": "ipython",
    "version": 3
   },
   "file_extension": ".py",
   "mimetype": "text/x-python",
   "name": "python",
   "nbconvert_exporter": "python",
   "pygments_lexer": "ipython3",
   "version": "3.9.5"
  }
 },
 "nbformat": 4,
 "nbformat_minor": 5
}
